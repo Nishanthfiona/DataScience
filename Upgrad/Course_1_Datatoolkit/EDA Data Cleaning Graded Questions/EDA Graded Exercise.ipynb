{
 "cells": [
  {
   "cell_type": "code",
   "execution_count": 1,
   "metadata": {},
   "outputs": [],
   "source": [
    "#Import the required Libraries.\n",
    "import numpy as np\n",
    "import pandas as pd\n",
    "import matplotlib.pyplot as plt\n",
    "import seaborn as sns"
   ]
  },
  {
   "cell_type": "markdown",
   "metadata": {},
   "source": [
    "## Data Cleaning "
   ]
  },
  {
   "cell_type": "markdown",
   "metadata": {},
   "source": [
    "### Data Reading & Data Types "
   ]
  },
  {
   "cell_type": "code",
   "execution_count": 2,
   "metadata": {},
   "outputs": [],
   "source": [
    "#Read the data in pandas\n",
    "inp0= pd.read_csv(\"Dress Sales.csv\")\n",
    "inp1= pd.read_csv(\"Attribute DataSet.csv\")"
   ]
  },
  {
   "cell_type": "code",
   "execution_count": 3,
   "metadata": {},
   "outputs": [
    {
     "data": {
      "text/plain": [
       "Index(['Dress_ID', 'Style', 'Price', 'Rating', 'Size', 'Season', 'NeckLine',\n",
       "       'SleeveLength', 'Material', 'FabricType', 'Decoration', 'Pattern Type',\n",
       "       'Recommendation'],\n",
       "      dtype='object')"
      ]
     },
     "execution_count": 3,
     "metadata": {},
     "output_type": "execute_result"
    }
   ],
   "source": [
    "inp1.columns"
   ]
  },
  {
   "cell_type": "code",
   "execution_count": 4,
   "metadata": {},
   "outputs": [
    {
     "data": {
      "text/plain": [
       "dtype('O')"
      ]
     },
     "execution_count": 4,
     "metadata": {},
     "output_type": "execute_result"
    }
   ],
   "source": [
    "inp1.Price.dtype"
   ]
  },
  {
   "cell_type": "code",
   "execution_count": 5,
   "metadata": {},
   "outputs": [
    {
     "name": "stdout",
     "output_type": "stream",
     "text": [
      "<class 'pandas.core.series.Series'>\n",
      "RangeIndex: 479 entries, 0 to 478\n",
      "Series name: Price\n",
      "Non-Null Count  Dtype \n",
      "--------------  ----- \n",
      "477 non-null    object\n",
      "dtypes: object(1)\n",
      "memory usage: 3.9+ KB\n"
     ]
    }
   ],
   "source": [
    "inp1.Price.info()"
   ]
  },
  {
   "cell_type": "code",
   "execution_count": 6,
   "metadata": {},
   "outputs": [
    {
     "data": {
      "text/plain": [
       "count         477\n",
       "unique          5\n",
       "top       Average\n",
       "freq          240\n",
       "Name: Price, dtype: object"
      ]
     },
     "execution_count": 6,
     "metadata": {},
     "output_type": "execute_result"
    }
   ],
   "source": [
    "inp1.Price.describe()"
   ]
  },
  {
   "cell_type": "code",
   "execution_count": 7,
   "metadata": {},
   "outputs": [
    {
     "data": {
      "text/plain": [
       "0        Low\n",
       "1        Low\n",
       "2       High\n",
       "3    Average\n",
       "4        Low\n",
       "Name: Price, dtype: object"
      ]
     },
     "execution_count": 7,
     "metadata": {},
     "output_type": "execute_result"
    }
   ],
   "source": [
    "inp1.Price.head()"
   ]
  },
  {
   "cell_type": "markdown",
   "metadata": {},
   "source": [
    "### **Variable Type:**\n",
    "- **Numerical variable:** Represents quantities and can be measured and ordered (e.g., price, age, height).\n",
    "- **Categorical variable:** Represents categories or groups.\n",
    "#### They can be further divided into:\n",
    "- **Ordinal:** Categorical variables with a meaningful order or ranking (e.g., low, medium, high).\n",
    "- **Nominal:** Categorical variables without a meaningful order (e.g., colors, names)."
   ]
  },
  {
   "cell_type": "markdown",
   "metadata": {},
   "source": [
    "You have “Attribute DataSet” which contains a column named “Price”. Choose the correct statement from the following about its data type and variable type.\n",
    "- Integer type and numerical variable\n",
    "- Object type and categorical ordinal variable\n",
    "- Object type and categorical nominal variable\n",
    "- Float type and categorical variable.\n"
   ]
  },
  {
   "cell_type": "code",
   "execution_count": 8,
   "metadata": {},
   "outputs": [],
   "source": [
    "# Ans : Object type and categorical ordinal variable"
   ]
  },
  {
   "cell_type": "code",
   "execution_count": 9,
   "metadata": {},
   "outputs": [
    {
     "data": {
      "text/plain": [
       "count    479.000000\n",
       "mean       0.427975\n",
       "std        0.495302\n",
       "min        0.000000\n",
       "25%        0.000000\n",
       "50%        0.000000\n",
       "75%        1.000000\n",
       "max        1.000000\n",
       "Name: Recommendation, dtype: float64"
      ]
     },
     "execution_count": 9,
     "metadata": {},
     "output_type": "execute_result"
    }
   ],
   "source": [
    "inp1.Recommendation.describe()"
   ]
  },
  {
   "cell_type": "code",
   "execution_count": 10,
   "metadata": {},
   "outputs": [
    {
     "data": {
      "text/plain": [
       "0    1\n",
       "1    0\n",
       "2    0\n",
       "3    1\n",
       "4    0\n",
       "Name: Recommendation, dtype: int64"
      ]
     },
     "execution_count": 10,
     "metadata": {},
     "output_type": "execute_result"
    }
   ],
   "source": [
    "inp1.Recommendation.head()"
   ]
  },
  {
   "cell_type": "code",
   "execution_count": 11,
   "metadata": {},
   "outputs": [
    {
     "name": "stdout",
     "output_type": "stream",
     "text": [
      "<class 'pandas.core.series.Series'>\n",
      "RangeIndex: 479 entries, 0 to 478\n",
      "Series name: Recommendation\n",
      "Non-Null Count  Dtype\n",
      "--------------  -----\n",
      "479 non-null    int64\n",
      "dtypes: int64(1)\n",
      "memory usage: 3.9 KB\n"
     ]
    }
   ],
   "source": [
    "inp1.Recommendation.info()"
   ]
  },
  {
   "cell_type": "code",
   "execution_count": 12,
   "metadata": {},
   "outputs": [
    {
     "data": {
      "text/plain": [
       "dtype('int64')"
      ]
     },
     "execution_count": 12,
     "metadata": {},
     "output_type": "execute_result"
    }
   ],
   "source": [
    "inp1.Recommendation.dtype"
   ]
  },
  {
   "cell_type": "markdown",
   "metadata": {},
   "source": [
    "There is another column in “Attribute DataSet” named as “Recommendation”, choose the correct statement about its data type and variable type.\n",
    "- Integer type and categorical\n",
    "- Object type and categorical\n",
    "- Integer type and continuous numerical\n",
    "- Object type only.\n"
   ]
  },
  {
   "cell_type": "code",
   "execution_count": 13,
   "metadata": {},
   "outputs": [],
   "source": [
    "# Ans : Integer type and categorical"
   ]
  },
  {
   "cell_type": "markdown",
   "metadata": {},
   "source": [
    "Which of the following column do you think are of no use in “Attribute DataSet”.\n",
    "- Dress_ID\n",
    "- Price\n",
    "- Size and material\n",
    "- NeckLine\n",
    "- None of the above\n"
   ]
  },
  {
   "cell_type": "code",
   "execution_count": 14,
   "metadata": {},
   "outputs": [],
   "source": [
    "# Ans : None of the above"
   ]
  },
  {
   "cell_type": "code",
   "execution_count": 15,
   "metadata": {},
   "outputs": [
    {
     "name": "stdout",
     "output_type": "stream",
     "text": [
      "<class 'pandas.core.frame.DataFrame'>\n",
      "RangeIndex: 479 entries, 0 to 478\n",
      "Data columns (total 24 columns):\n",
      " #   Column      Non-Null Count  Dtype  \n",
      "---  ------      --------------  -----  \n",
      " 0   Dress_ID    479 non-null    float64\n",
      " 1   29-08-2013  479 non-null    int64  \n",
      " 2   31-08-2013  479 non-null    int64  \n",
      " 3   09-02-2013  479 non-null    int64  \n",
      " 4   09-04-2013  479 non-null    int64  \n",
      " 5   09-06-2013  479 non-null    int64  \n",
      " 6   09-08-2013  479 non-null    int64  \n",
      " 7   09-10-2013  479 non-null    int64  \n",
      " 8   09-12-2013  479 non-null    object \n",
      " 9   14-09-2013  479 non-null    object \n",
      " 10  16-09-2013  479 non-null    object \n",
      " 11  18-09-2013  479 non-null    object \n",
      " 12  20-09-2013  479 non-null    object \n",
      " 13  22-09-2013  479 non-null    object \n",
      " 14  24-09-2013  479 non-null    int64  \n",
      " 15  26-09-2013  257 non-null    float64\n",
      " 16  28-09-2013  479 non-null    int64  \n",
      " 17  30-09-2013  222 non-null    float64\n",
      " 18  10-02-2013  220 non-null    float64\n",
      " 19  10-04-2013  221 non-null    float64\n",
      " 20  10-06-2013  479 non-null    int64  \n",
      " 21  10-08-2013  224 non-null    float64\n",
      " 22  10-10-2013  224 non-null    float64\n",
      " 23  10-12-2013  479 non-null    int64  \n",
      "dtypes: float64(7), int64(11), object(6)\n",
      "memory usage: 89.9+ KB\n",
      "<class 'pandas.core.frame.DataFrame'>\n",
      "RangeIndex: 479 entries, 0 to 478\n",
      "Data columns (total 13 columns):\n",
      " #   Column          Non-Null Count  Dtype  \n",
      "---  ------          --------------  -----  \n",
      " 0   Dress_ID        479 non-null    int64  \n",
      " 1   Style           479 non-null    object \n",
      " 2   Price           477 non-null    object \n",
      " 3   Rating          479 non-null    float64\n",
      " 4   Size            479 non-null    object \n",
      " 5   Season          477 non-null    object \n",
      " 6   NeckLine        476 non-null    object \n",
      " 7   SleeveLength    477 non-null    object \n",
      " 8   Material        360 non-null    object \n",
      " 9   FabricType      223 non-null    object \n",
      " 10  Decoration      255 non-null    object \n",
      " 11  Pattern Type    377 non-null    object \n",
      " 12  Recommendation  479 non-null    int64  \n",
      "dtypes: float64(1), int64(2), object(10)\n",
      "memory usage: 48.8+ KB\n"
     ]
    }
   ],
   "source": [
    "# Print the information about the attributes of inp0 and inp1.\n",
    "inp0.info()\n",
    "inp1.info()"
   ]
  },
  {
   "cell_type": "markdown",
   "metadata": {},
   "source": [
    "### Fixing the Rows and Columns "
   ]
  },
  {
   "cell_type": "code",
   "execution_count": 16,
   "metadata": {},
   "outputs": [
    {
     "data": {
      "text/plain": [
       "Size\n",
       "M        171\n",
       "free     165\n",
       "L         93\n",
       "S         34\n",
       "XL        14\n",
       "small      1\n",
       "s          1\n",
       "Name: count, dtype: int64"
      ]
     },
     "execution_count": 16,
     "metadata": {},
     "output_type": "execute_result"
    }
   ],
   "source": [
    "inp1.Size.value_counts()"
   ]
  },
  {
   "cell_type": "code",
   "execution_count": 17,
   "metadata": {},
   "outputs": [],
   "source": [
    "rep = {'M': 'Medium','L': 'Large','XL': 'Extra Large','free': 'Free','S': 'Small','s': 'Small','small': 'Small'}"
   ]
  },
  {
   "cell_type": "code",
   "execution_count": 18,
   "metadata": {},
   "outputs": [],
   "source": [
    "inp1.Size.replace(rep,inplace = True)"
   ]
  },
  {
   "cell_type": "code",
   "execution_count": 19,
   "metadata": {},
   "outputs": [
    {
     "data": {
      "text/plain": [
       "Size\n",
       "Medium         171\n",
       "Free           165\n",
       "Large           93\n",
       "Small           36\n",
       "Extra Large     14\n",
       "Name: count, dtype: int64"
      ]
     },
     "execution_count": 19,
     "metadata": {},
     "output_type": "execute_result"
    }
   ],
   "source": [
    "inp1.Size.value_counts()"
   ]
  },
  {
   "cell_type": "code",
   "execution_count": 20,
   "metadata": {},
   "outputs": [
    {
     "data": {
      "text/plain": [
       "Size\n",
       "Medium         35.699374\n",
       "Free           34.446764\n",
       "Large          19.415449\n",
       "Small           7.515658\n",
       "Extra Large     2.922756\n",
       "Name: count, dtype: float64"
      ]
     },
     "execution_count": 20,
     "metadata": {},
     "output_type": "execute_result"
    }
   ],
   "source": [
    "inp1.Size.value_counts() / inp1.Size.count() * 100"
   ]
  },
  {
   "cell_type": "code",
   "execution_count": 21,
   "metadata": {},
   "outputs": [
    {
     "data": {
      "text/plain": [
       "Size\n",
       "Medium         35.699374\n",
       "Free           34.446764\n",
       "Large          19.415449\n",
       "Small           7.515658\n",
       "Extra Large     2.922756\n",
       "Name: proportion, dtype: float64"
      ]
     },
     "execution_count": 21,
     "metadata": {},
     "output_type": "execute_result"
    }
   ],
   "source": [
    "inp1.Size.value_counts(normalize=True) * 100"
   ]
  },
  {
   "cell_type": "markdown",
   "metadata": {},
   "source": [
    "As you can see, there is a column in “Attribute Dataset” named as ‘Size’. This column contains the values in abbreviation format. Write a code in Python to convert the followings:\n",
    "\n",
    "- M into  “Medium”\n",
    "- L into  “Large”\n",
    "- XL into “Extra large”\n",
    "- free into “Free”\n",
    "- S, s & small into “Small”.\n",
    "\n",
    "Now once you are done with changes in the dataset, what is the value of the lowest percentage, the highest percentage and the percentage of Small size categories in the column named “Size”?\n"
   ]
  },
  {
   "cell_type": "code",
   "execution_count": 22,
   "metadata": {},
   "outputs": [],
   "source": [
    "## 2.9%, 35.7%, 7.5%"
   ]
  },
  {
   "cell_type": "markdown",
   "metadata": {},
   "source": [
    "### Impute/Remove Missing values"
   ]
  },
  {
   "cell_type": "code",
   "execution_count": 23,
   "metadata": {},
   "outputs": [
    {
     "data": {
      "text/plain": [
       "FabricType        256\n",
       "Decoration        224\n",
       "Material          119\n",
       "Pattern Type      102\n",
       "NeckLine            3\n",
       "Price               2\n",
       "Season              2\n",
       "SleeveLength        2\n",
       "Dress_ID            0\n",
       "Style               0\n",
       "Rating              0\n",
       "Size                0\n",
       "Recommendation      0\n",
       "dtype: int64"
      ]
     },
     "execution_count": 23,
     "metadata": {},
     "output_type": "execute_result"
    }
   ],
   "source": [
    "# Print the null count of each variables of inp0 and inp1.\n",
    "inp1.isnull().sum().sort_values(ascending=False)"
   ]
  },
  {
   "cell_type": "code",
   "execution_count": 24,
   "metadata": {},
   "outputs": [
    {
     "data": {
      "text/plain": [
       "10-02-2013    259\n",
       "10-04-2013    258\n",
       "30-09-2013    257\n",
       "10-10-2013    255\n",
       "10-08-2013    255\n",
       "26-09-2013    222\n",
       "Dress_ID        0\n",
       "29-08-2013      0\n",
       "10-06-2013      0\n",
       "28-09-2013      0\n",
       "24-09-2013      0\n",
       "22-09-2013      0\n",
       "20-09-2013      0\n",
       "18-09-2013      0\n",
       "16-09-2013      0\n",
       "14-09-2013      0\n",
       "09-12-2013      0\n",
       "09-10-2013      0\n",
       "09-08-2013      0\n",
       "09-06-2013      0\n",
       "09-04-2013      0\n",
       "09-02-2013      0\n",
       "31-08-2013      0\n",
       "10-12-2013      0\n",
       "dtype: int64"
      ]
     },
     "execution_count": 24,
     "metadata": {},
     "output_type": "execute_result"
    }
   ],
   "source": [
    "inp0.isnull().sum().sort_values(ascending=False)"
   ]
  },
  {
   "cell_type": "markdown",
   "metadata": {},
   "source": [
    "You are given another dataset named “Dress Sales”. Now if you observe the datatypes of the columns using ‘inp1.info()’ command, you can identify that there are certain columns defined as object data type though they primarily consist of numeric data.\n",
    "\n",
    "Now if you try and convert these object data type columns into numeric data type(float), you will come across an error message. Try to correct this error.\n",
    "\n",
    "\n",
    "\n",
    "\n",
    "\n"
   ]
  },
  {
   "cell_type": "code",
   "execution_count": 25,
   "metadata": {},
   "outputs": [
    {
     "data": {
      "text/plain": [
       "Dress_ID      float64\n",
       "29-08-2013      int64\n",
       "31-08-2013      int64\n",
       "09-02-2013      int64\n",
       "09-04-2013      int64\n",
       "09-06-2013      int64\n",
       "09-08-2013      int64\n",
       "09-10-2013      int64\n",
       "09-12-2013     object\n",
       "14-09-2013     object\n",
       "16-09-2013     object\n",
       "18-09-2013     object\n",
       "20-09-2013     object\n",
       "22-09-2013     object\n",
       "24-09-2013      int64\n",
       "26-09-2013    float64\n",
       "28-09-2013      int64\n",
       "30-09-2013    float64\n",
       "10-02-2013    float64\n",
       "10-04-2013    float64\n",
       "10-06-2013      int64\n",
       "10-08-2013    float64\n",
       "10-10-2013    float64\n",
       "10-12-2013      int64\n",
       "dtype: object"
      ]
     },
     "execution_count": 25,
     "metadata": {},
     "output_type": "execute_result"
    }
   ],
   "source": [
    "# Print the data types information of inp1 i.e. \"Dress Sales\" data.\n",
    "inp0.dtypes"
   ]
  },
  {
   "cell_type": "code",
   "execution_count": 26,
   "metadata": {},
   "outputs": [
    {
     "ename": "SyntaxError",
     "evalue": "invalid syntax (4173098479.py, line 2)",
     "output_type": "error",
     "traceback": [
      "\u001b[1;36m  Cell \u001b[1;32mIn[26], line 2\u001b[1;36m\u001b[0m\n\u001b[1;33m    inp0[\"14-09-2013\"] = .astype(\"float\")\u001b[0m\n\u001b[1;37m                         ^\u001b[0m\n\u001b[1;31mSyntaxError\u001b[0m\u001b[1;31m:\u001b[0m invalid syntax\n"
     ]
    }
   ],
   "source": [
    "# Try to convert the object type into float type of data. YOU GET ERROR MESSAGE.\n",
    "inp0[\"14-09-2013\"] = .astype(\"float\")"
   ]
  },
  {
   "cell_type": "code",
   "execution_count": 27,
   "metadata": {},
   "outputs": [],
   "source": [
    "rd = {'Removed': np.NaN, 'removed': np.NaN, 'Orders': np.NaN}"
   ]
  },
  {
   "cell_type": "code",
   "execution_count": 28,
   "metadata": {},
   "outputs": [],
   "source": [
    "x= inp0.select_dtypes(include=\"object\").columns"
   ]
  },
  {
   "cell_type": "code",
   "execution_count": 29,
   "metadata": {},
   "outputs": [],
   "source": [
    "inp0[x] = inp0[x].replace(rd)"
   ]
  },
  {
   "cell_type": "code",
   "execution_count": 30,
   "metadata": {},
   "outputs": [
    {
     "data": {
      "text/plain": [
       "Dress_ID      float64\n",
       "29-08-2013      int64\n",
       "31-08-2013      int64\n",
       "09-02-2013      int64\n",
       "09-04-2013      int64\n",
       "09-06-2013      int64\n",
       "09-08-2013      int64\n",
       "09-10-2013      int64\n",
       "09-12-2013     object\n",
       "14-09-2013     object\n",
       "16-09-2013     object\n",
       "18-09-2013     object\n",
       "20-09-2013     object\n",
       "22-09-2013     object\n",
       "24-09-2013      int64\n",
       "26-09-2013    float64\n",
       "28-09-2013      int64\n",
       "30-09-2013    float64\n",
       "10-02-2013    float64\n",
       "10-04-2013    float64\n",
       "10-06-2013      int64\n",
       "10-08-2013    float64\n",
       "10-10-2013    float64\n",
       "10-12-2013      int64\n",
       "dtype: object"
      ]
     },
     "execution_count": 30,
     "metadata": {},
     "output_type": "execute_result"
    }
   ],
   "source": [
    "inp0.dtypes"
   ]
  },
  {
   "cell_type": "code",
   "execution_count": 31,
   "metadata": {},
   "outputs": [],
   "source": [
    "inp0[x] = inp0[x].astype(\"float\")"
   ]
  },
  {
   "cell_type": "code",
   "execution_count": 32,
   "metadata": {},
   "outputs": [
    {
     "data": {
      "text/plain": [
       "Dress_ID      float64\n",
       "29-08-2013      int64\n",
       "31-08-2013      int64\n",
       "09-02-2013      int64\n",
       "09-04-2013      int64\n",
       "09-06-2013      int64\n",
       "09-08-2013      int64\n",
       "09-10-2013      int64\n",
       "09-12-2013    float64\n",
       "14-09-2013    float64\n",
       "16-09-2013    float64\n",
       "18-09-2013    float64\n",
       "20-09-2013    float64\n",
       "22-09-2013    float64\n",
       "24-09-2013      int64\n",
       "26-09-2013    float64\n",
       "28-09-2013      int64\n",
       "30-09-2013    float64\n",
       "10-02-2013    float64\n",
       "10-04-2013    float64\n",
       "10-06-2013      int64\n",
       "10-08-2013    float64\n",
       "10-10-2013    float64\n",
       "10-12-2013      int64\n",
       "dtype: object"
      ]
     },
     "execution_count": 32,
     "metadata": {},
     "output_type": "execute_result"
    }
   ],
   "source": [
    "inp0.dtypes"
   ]
  },
  {
   "cell_type": "markdown",
   "metadata": {},
   "source": [
    "When you see the null counts in “Dress Sales” dataset after performing all the operations that have been mentioned in jupyter notebook, you will find that there are some columns in “Dress Sales” data where there are more than 40% of missing values. Based on your understanding of dealing with missing values do the following steps."
   ]
  },
  {
   "cell_type": "code",
   "execution_count": 33,
   "metadata": {},
   "outputs": [
    {
     "data": {
      "text/plain": [
       "Dress_ID        0\n",
       "29-08-2013      0\n",
       "31-08-2013      0\n",
       "09-02-2013      0\n",
       "09-04-2013      0\n",
       "09-06-2013      0\n",
       "09-08-2013      0\n",
       "09-10-2013      0\n",
       "09-12-2013      1\n",
       "14-09-2013      1\n",
       "16-09-2013      1\n",
       "18-09-2013      1\n",
       "20-09-2013      1\n",
       "22-09-2013      1\n",
       "24-09-2013      0\n",
       "26-09-2013    222\n",
       "28-09-2013      0\n",
       "30-09-2013    257\n",
       "10-02-2013    259\n",
       "10-04-2013    258\n",
       "10-06-2013      0\n",
       "10-08-2013    255\n",
       "10-10-2013    255\n",
       "10-12-2013      0\n",
       "dtype: int64"
      ]
     },
     "execution_count": 33,
     "metadata": {},
     "output_type": "execute_result"
    }
   ],
   "source": [
    "inp0.isnull().sum()"
   ]
  },
  {
   "cell_type": "code",
   "execution_count": 34,
   "metadata": {},
   "outputs": [
    {
     "data": {
      "text/plain": [
       "Dress_ID      479\n",
       "29-08-2013    479\n",
       "31-08-2013    479\n",
       "09-02-2013    479\n",
       "09-04-2013    479\n",
       "09-06-2013    479\n",
       "09-08-2013    479\n",
       "09-10-2013    479\n",
       "09-12-2013    478\n",
       "14-09-2013    478\n",
       "16-09-2013    478\n",
       "18-09-2013    478\n",
       "20-09-2013    478\n",
       "22-09-2013    478\n",
       "24-09-2013    479\n",
       "26-09-2013    257\n",
       "28-09-2013    479\n",
       "30-09-2013    222\n",
       "10-02-2013    220\n",
       "10-04-2013    221\n",
       "10-06-2013    479\n",
       "10-08-2013    224\n",
       "10-10-2013    224\n",
       "10-12-2013    479\n",
       "dtype: int64"
      ]
     },
     "execution_count": 34,
     "metadata": {},
     "output_type": "execute_result"
    }
   ],
   "source": [
    "inp0.count()"
   ]
  },
  {
   "cell_type": "code",
   "execution_count": null,
   "metadata": {},
   "outputs": [],
   "source": []
  },
  {
   "cell_type": "code",
   "execution_count": 35,
   "metadata": {},
   "outputs": [
    {
     "data": {
      "text/plain": [
       "10-02-2013    54.070981\n",
       "10-04-2013    53.862213\n",
       "30-09-2013    53.653445\n",
       "10-10-2013    53.235908\n",
       "10-08-2013    53.235908\n",
       "26-09-2013    46.346555\n",
       "20-09-2013     0.208768\n",
       "09-12-2013     0.208768\n",
       "14-09-2013     0.208768\n",
       "16-09-2013     0.208768\n",
       "18-09-2013     0.208768\n",
       "22-09-2013     0.208768\n",
       "10-06-2013     0.000000\n",
       "28-09-2013     0.000000\n",
       "Dress_ID       0.000000\n",
       "24-09-2013     0.000000\n",
       "29-08-2013     0.000000\n",
       "09-10-2013     0.000000\n",
       "09-08-2013     0.000000\n",
       "09-06-2013     0.000000\n",
       "09-04-2013     0.000000\n",
       "09-02-2013     0.000000\n",
       "31-08-2013     0.000000\n",
       "10-12-2013     0.000000\n",
       "dtype: float64"
      ]
     },
     "execution_count": 35,
     "metadata": {},
     "output_type": "execute_result"
    }
   ],
   "source": [
    "# Print the null percetange of each column of inp1.\n",
    "(inp0.isnull().sum() / 479 * 100).sort_values(ascending=False)"
   ]
  },
  {
   "cell_type": "code",
   "execution_count": 36,
   "metadata": {},
   "outputs": [],
   "source": [
    "# Drop the columns in \"Dress Sales\" which have more than 40% of missing values.\n",
    "inp0.drop(columns=[\"10-02-2013\",\"10-04-2013\",\"30-09-2013\",\"10-10-2013\",\"10-08-2013\",\"26-09-2013\"],inplace=True)"
   ]
  },
  {
   "cell_type": "code",
   "execution_count": 37,
   "metadata": {},
   "outputs": [
    {
     "data": {
      "text/plain": [
       "14-09-2013    0.208768\n",
       "16-09-2013    0.208768\n",
       "22-09-2013    0.208768\n",
       "20-09-2013    0.208768\n",
       "18-09-2013    0.208768\n",
       "09-12-2013    0.208768\n",
       "10-06-2013    0.000000\n",
       "28-09-2013    0.000000\n",
       "24-09-2013    0.000000\n",
       "Dress_ID      0.000000\n",
       "29-08-2013    0.000000\n",
       "09-10-2013    0.000000\n",
       "09-08-2013    0.000000\n",
       "09-06-2013    0.000000\n",
       "09-04-2013    0.000000\n",
       "09-02-2013    0.000000\n",
       "31-08-2013    0.000000\n",
       "10-12-2013    0.000000\n",
       "dtype: float64"
      ]
     },
     "execution_count": 37,
     "metadata": {},
     "output_type": "execute_result"
    }
   ],
   "source": [
    "(inp0.isnull().sum() / 479 * 100).sort_values(ascending=False)"
   ]
  },
  {
   "cell_type": "code",
   "execution_count": 38,
   "metadata": {},
   "outputs": [
    {
     "data": {
      "text/plain": [
       "Index(['Dress_ID', '29-08-2013', '31-08-2013', '09-02-2013', '09-04-2013',\n",
       "       '09-06-2013', '09-08-2013', '09-10-2013', '09-12-2013', '14-09-2013',\n",
       "       '16-09-2013', '18-09-2013', '20-09-2013', '22-09-2013', '24-09-2013',\n",
       "       '28-09-2013', '10-06-2013', '10-12-2013'],\n",
       "      dtype='object')"
      ]
     },
     "execution_count": 38,
     "metadata": {},
     "output_type": "execute_result"
    }
   ],
   "source": [
    "inp0.columns"
   ]
  },
  {
   "cell_type": "markdown",
   "metadata": {},
   "source": [
    "You should categorise the dates into seasons in “Dress Sales” data to simplify the analysis according to the following criteria:\n",
    "- June, July and August: Summer.\n",
    "- September, October and November: Autumn.\n",
    "- December, January and February: WInter.\n",
    "- March, April and May: Spring.\n",
    "\n",
    "\n"
   ]
  },
  {
   "cell_type": "code",
   "execution_count": 39,
   "metadata": {},
   "outputs": [],
   "source": [
    "# Create the four seasons columns in inp1, according to the above criteria.\n",
    "inp0['Summer'] = inp0['09-06-2013'] + inp0['10-06-2013'] + inp0['29-08-2013'] + inp0['31-08-2013'] + inp0['09-08-2013'] \n",
    "inp0[\"Autumn\"] = inp0['09-10-2013'] + inp0['14-09-2013'] + inp0['16-09-2013'] + inp0['18-09-2013'] + inp0['20-09-2013'] + inp0['22-09-2013'] + inp0['24-09-2013'] + inp0['28-09-2013']\n",
    "inp0[\"Winter\"] = inp0['09-02-2013'] + inp0['09-12-2013'] + inp0['10-12-2013']\n",
    "inp0[\"Spring\"] = inp0['09-04-2013']"
   ]
  },
  {
   "cell_type": "code",
   "execution_count": 40,
   "metadata": {},
   "outputs": [
    {
     "data": {
      "text/html": [
       "<div>\n",
       "<style scoped>\n",
       "    .dataframe tbody tr th:only-of-type {\n",
       "        vertical-align: middle;\n",
       "    }\n",
       "\n",
       "    .dataframe tbody tr th {\n",
       "        vertical-align: top;\n",
       "    }\n",
       "\n",
       "    .dataframe thead th {\n",
       "        text-align: right;\n",
       "    }\n",
       "</style>\n",
       "<table border=\"1\" class=\"dataframe\">\n",
       "  <thead>\n",
       "    <tr style=\"text-align: right;\">\n",
       "      <th></th>\n",
       "      <th>Dress_ID</th>\n",
       "      <th>29-08-2013</th>\n",
       "      <th>31-08-2013</th>\n",
       "      <th>09-02-2013</th>\n",
       "      <th>09-04-2013</th>\n",
       "      <th>09-06-2013</th>\n",
       "      <th>09-08-2013</th>\n",
       "      <th>09-10-2013</th>\n",
       "      <th>09-12-2013</th>\n",
       "      <th>14-09-2013</th>\n",
       "      <th>...</th>\n",
       "      <th>20-09-2013</th>\n",
       "      <th>22-09-2013</th>\n",
       "      <th>24-09-2013</th>\n",
       "      <th>28-09-2013</th>\n",
       "      <th>10-06-2013</th>\n",
       "      <th>10-12-2013</th>\n",
       "      <th>Summer</th>\n",
       "      <th>Autumn</th>\n",
       "      <th>Winter</th>\n",
       "      <th>Spring</th>\n",
       "    </tr>\n",
       "  </thead>\n",
       "  <tbody>\n",
       "    <tr>\n",
       "      <th>0</th>\n",
       "      <td>1.006033e+09</td>\n",
       "      <td>2114</td>\n",
       "      <td>2274</td>\n",
       "      <td>2491</td>\n",
       "      <td>2660</td>\n",
       "      <td>2727</td>\n",
       "      <td>2887</td>\n",
       "      <td>2930</td>\n",
       "      <td>3119.0</td>\n",
       "      <td>3204.0</td>\n",
       "      <td>...</td>\n",
       "      <td>3386.0</td>\n",
       "      <td>3479.0</td>\n",
       "      <td>3554</td>\n",
       "      <td>3706</td>\n",
       "      <td>3897</td>\n",
       "      <td>4048</td>\n",
       "      <td>13899</td>\n",
       "      <td>26857.0</td>\n",
       "      <td>9658.0</td>\n",
       "      <td>2660</td>\n",
       "    </tr>\n",
       "    <tr>\n",
       "      <th>1</th>\n",
       "      <td>1.212192e+09</td>\n",
       "      <td>151</td>\n",
       "      <td>275</td>\n",
       "      <td>570</td>\n",
       "      <td>750</td>\n",
       "      <td>813</td>\n",
       "      <td>1066</td>\n",
       "      <td>1164</td>\n",
       "      <td>1558.0</td>\n",
       "      <td>1756.0</td>\n",
       "      <td>...</td>\n",
       "      <td>2106.0</td>\n",
       "      <td>2454.0</td>\n",
       "      <td>2710</td>\n",
       "      <td>3258</td>\n",
       "      <td>3911</td>\n",
       "      <td>4277</td>\n",
       "      <td>6216</td>\n",
       "      <td>17311.0</td>\n",
       "      <td>6405.0</td>\n",
       "      <td>750</td>\n",
       "    </tr>\n",
       "    <tr>\n",
       "      <th>2</th>\n",
       "      <td>1.190381e+09</td>\n",
       "      <td>6</td>\n",
       "      <td>7</td>\n",
       "      <td>7</td>\n",
       "      <td>7</td>\n",
       "      <td>8</td>\n",
       "      <td>8</td>\n",
       "      <td>9</td>\n",
       "      <td>10.0</td>\n",
       "      <td>10.0</td>\n",
       "      <td>...</td>\n",
       "      <td>10.0</td>\n",
       "      <td>11.0</td>\n",
       "      <td>11</td>\n",
       "      <td>11</td>\n",
       "      <td>11</td>\n",
       "      <td>11</td>\n",
       "      <td>40</td>\n",
       "      <td>82.0</td>\n",
       "      <td>28.0</td>\n",
       "      <td>7</td>\n",
       "    </tr>\n",
       "    <tr>\n",
       "      <th>3</th>\n",
       "      <td>9.660060e+08</td>\n",
       "      <td>1005</td>\n",
       "      <td>1128</td>\n",
       "      <td>1326</td>\n",
       "      <td>1455</td>\n",
       "      <td>1507</td>\n",
       "      <td>1621</td>\n",
       "      <td>1637</td>\n",
       "      <td>1723.0</td>\n",
       "      <td>1746.0</td>\n",
       "      <td>...</td>\n",
       "      <td>1812.0</td>\n",
       "      <td>1845.0</td>\n",
       "      <td>1878</td>\n",
       "      <td>1914</td>\n",
       "      <td>1952</td>\n",
       "      <td>1963</td>\n",
       "      <td>7213</td>\n",
       "      <td>14411.0</td>\n",
       "      <td>5012.0</td>\n",
       "      <td>1455</td>\n",
       "    </tr>\n",
       "    <tr>\n",
       "      <th>4</th>\n",
       "      <td>8.763395e+08</td>\n",
       "      <td>996</td>\n",
       "      <td>1175</td>\n",
       "      <td>1304</td>\n",
       "      <td>1396</td>\n",
       "      <td>1432</td>\n",
       "      <td>1559</td>\n",
       "      <td>1570</td>\n",
       "      <td>1638.0</td>\n",
       "      <td>1655.0</td>\n",
       "      <td>...</td>\n",
       "      <td>1824.0</td>\n",
       "      <td>1919.0</td>\n",
       "      <td>2032</td>\n",
       "      <td>2252</td>\n",
       "      <td>2544</td>\n",
       "      <td>2736</td>\n",
       "      <td>7706</td>\n",
       "      <td>14676.0</td>\n",
       "      <td>5678.0</td>\n",
       "      <td>1396</td>\n",
       "    </tr>\n",
       "  </tbody>\n",
       "</table>\n",
       "<p>5 rows × 22 columns</p>\n",
       "</div>"
      ],
      "text/plain": [
       "       Dress_ID  29-08-2013  31-08-2013  09-02-2013  09-04-2013  09-06-2013  \\\n",
       "0  1.006033e+09        2114        2274        2491        2660        2727   \n",
       "1  1.212192e+09         151         275         570         750         813   \n",
       "2  1.190381e+09           6           7           7           7           8   \n",
       "3  9.660060e+08        1005        1128        1326        1455        1507   \n",
       "4  8.763395e+08         996        1175        1304        1396        1432   \n",
       "\n",
       "   09-08-2013  09-10-2013  09-12-2013  14-09-2013  ...  20-09-2013  \\\n",
       "0        2887        2930      3119.0      3204.0  ...      3386.0   \n",
       "1        1066        1164      1558.0      1756.0  ...      2106.0   \n",
       "2           8           9        10.0        10.0  ...        10.0   \n",
       "3        1621        1637      1723.0      1746.0  ...      1812.0   \n",
       "4        1559        1570      1638.0      1655.0  ...      1824.0   \n",
       "\n",
       "   22-09-2013  24-09-2013  28-09-2013  10-06-2013  10-12-2013  Summer  \\\n",
       "0      3479.0        3554        3706        3897        4048   13899   \n",
       "1      2454.0        2710        3258        3911        4277    6216   \n",
       "2        11.0          11          11          11          11      40   \n",
       "3      1845.0        1878        1914        1952        1963    7213   \n",
       "4      1919.0        2032        2252        2544        2736    7706   \n",
       "\n",
       "    Autumn  Winter  Spring  \n",
       "0  26857.0  9658.0    2660  \n",
       "1  17311.0  6405.0     750  \n",
       "2     82.0    28.0       7  \n",
       "3  14411.0  5012.0    1455  \n",
       "4  14676.0  5678.0    1396  \n",
       "\n",
       "[5 rows x 22 columns]"
      ]
     },
     "execution_count": 40,
     "metadata": {},
     "output_type": "execute_result"
    }
   ],
   "source": [
    "inp0.head()"
   ]
  },
  {
   "cell_type": "code",
   "execution_count": 41,
   "metadata": {},
   "outputs": [
    {
     "data": {
      "text/plain": [
       "Dress_ID      4.321739e+11\n",
       "29-08-2013    9.488300e+04\n",
       "31-08-2013    1.004830e+05\n",
       "09-02-2013    1.070810e+05\n",
       "09-04-2013    1.436000e+05\n",
       "09-06-2013    1.459730e+05\n",
       "09-08-2013    1.516200e+05\n",
       "09-10-2013    1.533280e+05\n",
       "09-12-2013    1.596930e+05\n",
       "14-09-2013    1.627920e+05\n",
       "16-09-2013    1.653180e+05\n",
       "18-09-2013    1.678330e+05\n",
       "20-09-2013    1.723510e+05\n",
       "22-09-2013    1.764140e+05\n",
       "24-09-2013    1.786380e+05\n",
       "28-09-2013    1.866140e+05\n",
       "10-06-2013    1.989480e+05\n",
       "10-12-2013    2.079090e+05\n",
       "Summer        6.919070e+05\n",
       "Autumn        1.353543e+06\n",
       "Winter        4.736400e+05\n",
       "Spring        1.436000e+05\n",
       "dtype: float64"
      ]
     },
     "execution_count": 41,
     "metadata": {},
     "output_type": "execute_result"
    }
   ],
   "source": [
    "# calculate the sum of sales in each seasons in inp1 i.e. \"Dress Sales\".\n",
    "inp0.sum()"
   ]
  },
  {
   "cell_type": "code",
   "execution_count": 42,
   "metadata": {},
   "outputs": [],
   "source": [
    "# Spring 143600"
   ]
  },
  {
   "cell_type": "markdown",
   "metadata": {},
   "source": [
    "Now let's merge inp1 with inp0 with left join manner, so that the information of inp0 should remain intact."
   ]
  },
  {
   "cell_type": "code",
   "execution_count": 43,
   "metadata": {},
   "outputs": [
    {
     "data": {
      "text/plain": [
       "Index(['Dress_ID', 'Style', 'Price', 'Rating', 'Size', 'Season', 'NeckLine',\n",
       "       'SleeveLength', 'Material', 'FabricType', 'Decoration', 'Pattern Type',\n",
       "       'Recommendation'],\n",
       "      dtype='object')"
      ]
     },
     "execution_count": 43,
     "metadata": {},
     "output_type": "execute_result"
    }
   ],
   "source": [
    "inp1.columns"
   ]
  },
  {
   "cell_type": "code",
   "execution_count": null,
   "metadata": {},
   "outputs": [],
   "source": []
  },
  {
   "cell_type": "code",
   "execution_count": null,
   "metadata": {},
   "outputs": [],
   "source": []
  },
  {
   "cell_type": "code",
   "execution_count": null,
   "metadata": {},
   "outputs": [],
   "source": []
  },
  {
   "cell_type": "code",
   "execution_count": null,
   "metadata": {},
   "outputs": [],
   "source": []
  },
  {
   "cell_type": "code",
   "execution_count": 44,
   "metadata": {},
   "outputs": [
    {
     "data": {
      "text/html": [
       "<div>\n",
       "<style scoped>\n",
       "    .dataframe tbody tr th:only-of-type {\n",
       "        vertical-align: middle;\n",
       "    }\n",
       "\n",
       "    .dataframe tbody tr th {\n",
       "        vertical-align: top;\n",
       "    }\n",
       "\n",
       "    .dataframe thead th {\n",
       "        text-align: right;\n",
       "    }\n",
       "</style>\n",
       "<table border=\"1\" class=\"dataframe\">\n",
       "  <thead>\n",
       "    <tr style=\"text-align: right;\">\n",
       "      <th></th>\n",
       "      <th>Dress_ID</th>\n",
       "      <th>29-08-2013</th>\n",
       "      <th>31-08-2013</th>\n",
       "      <th>09-02-2013</th>\n",
       "      <th>09-04-2013</th>\n",
       "      <th>09-06-2013</th>\n",
       "      <th>09-08-2013</th>\n",
       "      <th>09-10-2013</th>\n",
       "      <th>09-12-2013</th>\n",
       "      <th>14-09-2013</th>\n",
       "      <th>...</th>\n",
       "      <th>Rating</th>\n",
       "      <th>Size</th>\n",
       "      <th>Season</th>\n",
       "      <th>NeckLine</th>\n",
       "      <th>SleeveLength</th>\n",
       "      <th>Material</th>\n",
       "      <th>FabricType</th>\n",
       "      <th>Decoration</th>\n",
       "      <th>Pattern Type</th>\n",
       "      <th>Recommendation</th>\n",
       "    </tr>\n",
       "  </thead>\n",
       "  <tbody>\n",
       "    <tr>\n",
       "      <th>0</th>\n",
       "      <td>1.006033e+09</td>\n",
       "      <td>2114</td>\n",
       "      <td>2274</td>\n",
       "      <td>2491</td>\n",
       "      <td>2660</td>\n",
       "      <td>2727</td>\n",
       "      <td>2887</td>\n",
       "      <td>2930</td>\n",
       "      <td>3119.0</td>\n",
       "      <td>3204.0</td>\n",
       "      <td>...</td>\n",
       "      <td>4.6</td>\n",
       "      <td>Medium</td>\n",
       "      <td>Summer</td>\n",
       "      <td>o-neck</td>\n",
       "      <td>sleevless</td>\n",
       "      <td>NaN</td>\n",
       "      <td>chiffon</td>\n",
       "      <td>ruffles</td>\n",
       "      <td>animal</td>\n",
       "      <td>1</td>\n",
       "    </tr>\n",
       "    <tr>\n",
       "      <th>1</th>\n",
       "      <td>1.212192e+09</td>\n",
       "      <td>151</td>\n",
       "      <td>275</td>\n",
       "      <td>570</td>\n",
       "      <td>750</td>\n",
       "      <td>813</td>\n",
       "      <td>1066</td>\n",
       "      <td>1164</td>\n",
       "      <td>1558.0</td>\n",
       "      <td>1756.0</td>\n",
       "      <td>...</td>\n",
       "      <td>0.0</td>\n",
       "      <td>Large</td>\n",
       "      <td>Summer</td>\n",
       "      <td>o-neck</td>\n",
       "      <td>Petal</td>\n",
       "      <td>microfiber</td>\n",
       "      <td>NaN</td>\n",
       "      <td>ruffles</td>\n",
       "      <td>animal</td>\n",
       "      <td>0</td>\n",
       "    </tr>\n",
       "    <tr>\n",
       "      <th>2</th>\n",
       "      <td>1.190381e+09</td>\n",
       "      <td>6</td>\n",
       "      <td>7</td>\n",
       "      <td>7</td>\n",
       "      <td>7</td>\n",
       "      <td>8</td>\n",
       "      <td>8</td>\n",
       "      <td>9</td>\n",
       "      <td>10.0</td>\n",
       "      <td>10.0</td>\n",
       "      <td>...</td>\n",
       "      <td>0.0</td>\n",
       "      <td>Large</td>\n",
       "      <td>Automn</td>\n",
       "      <td>o-neck</td>\n",
       "      <td>full</td>\n",
       "      <td>polyster</td>\n",
       "      <td>NaN</td>\n",
       "      <td>NaN</td>\n",
       "      <td>print</td>\n",
       "      <td>0</td>\n",
       "    </tr>\n",
       "    <tr>\n",
       "      <th>3</th>\n",
       "      <td>9.660060e+08</td>\n",
       "      <td>1005</td>\n",
       "      <td>1128</td>\n",
       "      <td>1326</td>\n",
       "      <td>1455</td>\n",
       "      <td>1507</td>\n",
       "      <td>1621</td>\n",
       "      <td>1637</td>\n",
       "      <td>1723.0</td>\n",
       "      <td>1746.0</td>\n",
       "      <td>...</td>\n",
       "      <td>4.6</td>\n",
       "      <td>Large</td>\n",
       "      <td>Spring</td>\n",
       "      <td>o-neck</td>\n",
       "      <td>full</td>\n",
       "      <td>silk</td>\n",
       "      <td>chiffon</td>\n",
       "      <td>embroidary</td>\n",
       "      <td>print</td>\n",
       "      <td>1</td>\n",
       "    </tr>\n",
       "    <tr>\n",
       "      <th>4</th>\n",
       "      <td>8.763395e+08</td>\n",
       "      <td>996</td>\n",
       "      <td>1175</td>\n",
       "      <td>1304</td>\n",
       "      <td>1396</td>\n",
       "      <td>1432</td>\n",
       "      <td>1559</td>\n",
       "      <td>1570</td>\n",
       "      <td>1638.0</td>\n",
       "      <td>1655.0</td>\n",
       "      <td>...</td>\n",
       "      <td>4.5</td>\n",
       "      <td>Medium</td>\n",
       "      <td>Summer</td>\n",
       "      <td>o-neck</td>\n",
       "      <td>butterfly</td>\n",
       "      <td>chiffonfabric</td>\n",
       "      <td>chiffon</td>\n",
       "      <td>bow</td>\n",
       "      <td>dot</td>\n",
       "      <td>0</td>\n",
       "    </tr>\n",
       "  </tbody>\n",
       "</table>\n",
       "<p>5 rows × 34 columns</p>\n",
       "</div>"
      ],
      "text/plain": [
       "       Dress_ID  29-08-2013  31-08-2013  09-02-2013  09-04-2013  09-06-2013  \\\n",
       "0  1.006033e+09        2114        2274        2491        2660        2727   \n",
       "1  1.212192e+09         151         275         570         750         813   \n",
       "2  1.190381e+09           6           7           7           7           8   \n",
       "3  9.660060e+08        1005        1128        1326        1455        1507   \n",
       "4  8.763395e+08         996        1175        1304        1396        1432   \n",
       "\n",
       "   09-08-2013  09-10-2013  09-12-2013  14-09-2013  ...  Rating    Size  \\\n",
       "0        2887        2930      3119.0      3204.0  ...     4.6  Medium   \n",
       "1        1066        1164      1558.0      1756.0  ...     0.0   Large   \n",
       "2           8           9        10.0        10.0  ...     0.0   Large   \n",
       "3        1621        1637      1723.0      1746.0  ...     4.6   Large   \n",
       "4        1559        1570      1638.0      1655.0  ...     4.5  Medium   \n",
       "\n",
       "   Season  NeckLine  SleeveLength       Material  FabricType  Decoration  \\\n",
       "0  Summer    o-neck     sleevless            NaN     chiffon     ruffles   \n",
       "1  Summer    o-neck         Petal     microfiber         NaN     ruffles   \n",
       "2  Automn    o-neck          full       polyster         NaN         NaN   \n",
       "3  Spring    o-neck          full           silk     chiffon  embroidary   \n",
       "4  Summer    o-neck     butterfly  chiffonfabric     chiffon         bow   \n",
       "\n",
       "   Pattern Type  Recommendation  \n",
       "0        animal               1  \n",
       "1        animal               0  \n",
       "2         print               0  \n",
       "3         print               1  \n",
       "4           dot               0  \n",
       "\n",
       "[5 rows x 34 columns]"
      ]
     },
     "execution_count": 44,
     "metadata": {},
     "output_type": "execute_result"
    }
   ],
   "source": [
    "# Merge inp0 with inp1 into inp0. this is also called left merge.\n",
    "inp0 = pd.merge(left=inp0,right=inp1, how='left', left_on='Dress_ID', right_on='Dress_ID')\n",
    "inp0.head()"
   ]
  },
  {
   "cell_type": "code",
   "execution_count": 45,
   "metadata": {},
   "outputs": [
    {
     "data": {
      "text/plain": [
       "FabricType        256\n",
       "Decoration        224\n",
       "Material          119\n",
       "Pattern Type      102\n",
       "NeckLine            3\n",
       "SleeveLength        2\n",
       "Autumn              2\n",
       "Price               2\n",
       "Season              2\n",
       "16-09-2013          1\n",
       "20-09-2013          1\n",
       "22-09-2013          1\n",
       "Winter              1\n",
       "18-09-2013          1\n",
       "14-09-2013          1\n",
       "09-12-2013          1\n",
       "Spring              0\n",
       "Size                0\n",
       "Rating              0\n",
       "Style               0\n",
       "Dress_ID            0\n",
       "10-12-2013          0\n",
       "Summer              0\n",
       "29-08-2013          0\n",
       "10-06-2013          0\n",
       "28-09-2013          0\n",
       "24-09-2013          0\n",
       "09-10-2013          0\n",
       "09-08-2013          0\n",
       "09-06-2013          0\n",
       "09-04-2013          0\n",
       "09-02-2013          0\n",
       "31-08-2013          0\n",
       "Recommendation      0\n",
       "dtype: int64"
      ]
     },
     "execution_count": 45,
     "metadata": {},
     "output_type": "execute_result"
    }
   ],
   "source": [
    "inp0.isnull().sum().sort_values(ascending= False)"
   ]
  },
  {
   "cell_type": "code",
   "execution_count": 46,
   "metadata": {},
   "outputs": [
    {
     "data": {
      "text/plain": [
       "FabricType        256\n",
       "Decoration        224\n",
       "Material          119\n",
       "Pattern Type      102\n",
       "NeckLine            3\n",
       "SleeveLength        2\n",
       "Autumn              2\n",
       "Price               2\n",
       "Season              2\n",
       "Winter              1\n",
       "Dress_ID            0\n",
       "Size                0\n",
       "Summer              0\n",
       "Rating              0\n",
       "Style               0\n",
       "Spring              0\n",
       "Recommendation      0\n",
       "dtype: int64"
      ]
     },
     "execution_count": 46,
     "metadata": {},
     "output_type": "execute_result"
    }
   ],
   "source": [
    "# Now Drop the Date columns from inp0 as it is already combined into four seasons.\n",
    "inp0.drop(inp0.loc[:,'29-08-2013':'10-12-2013'].columns, axis= 1, inplace= True)\n",
    "inp0.isnull().sum().sort_values(ascending=False)"
   ]
  },
  {
   "cell_type": "markdown",
   "metadata": {},
   "source": [
    "Print the null count of inp0 to get the idea about the missing values in data set."
   ]
  },
  {
   "cell_type": "code",
   "execution_count": 47,
   "metadata": {},
   "outputs": [],
   "source": [
    "# Print the null count of each columns in inp0 dataframe i.e. combined data frame of inp0 and inp1 without date columns.\n"
   ]
  },
  {
   "cell_type": "markdown",
   "metadata": {},
   "source": [
    "You can see that there are two types of variables one with a large number of missing values and another is very less number of missing values. These two columns can be categorized as:\n",
    "\n",
    "Type-1: Missing values are very less (around 2 or 3 missing values): Price, Season, NeckLine, SleeveLength, Winter and Autumn. \n",
    "\n",
    "Type-2: Missing values are large in numbers (more than 15%): Material, FabricType, Decoration and Pattern Type.\n",
    "\n"
   ]
  },
  {
   "cell_type": "code",
   "execution_count": 48,
   "metadata": {},
   "outputs": [],
   "source": [
    "# Deal with the missing values of Type-1 columns: Price, Season, NeckLine, SleeveLength, Winter and Autumn.\n",
    "inp0 = inp0[-inp0.Price.isnull()]\n",
    "\n",
    "inp0 = inp0[-inp0.Season.isnull()]\n",
    "\n",
    "inp0 = inp0[-inp0.NeckLine.isnull()]\n",
    "\n",
    "inp0 = inp0[-inp0.SleeveLength.isnull()]\n",
    "\n",
    "inp0 = inp0[-inp0.Winter.isnull()]\n",
    "\n",
    "inp0 = inp0[-inp0.Autumn.isnull()]"
   ]
  },
  {
   "cell_type": "code",
   "execution_count": 49,
   "metadata": {},
   "outputs": [
    {
     "data": {
      "text/plain": [
       "FabricType        250\n",
       "Decoration        220\n",
       "Material          116\n",
       "Pattern Type       98\n",
       "Dress_ID            0\n",
       "Season              0\n",
       "SleeveLength        0\n",
       "NeckLine            0\n",
       "Size                0\n",
       "Summer              0\n",
       "Rating              0\n",
       "Price               0\n",
       "Style               0\n",
       "Spring              0\n",
       "Winter              0\n",
       "Autumn              0\n",
       "Recommendation      0\n",
       "dtype: int64"
      ]
     },
     "execution_count": 49,
     "metadata": {},
     "output_type": "execute_result"
    }
   ],
   "source": [
    "inp0.isnull().sum().sort_values(ascending=False)"
   ]
  },
  {
   "cell_type": "code",
   "execution_count": 50,
   "metadata": {},
   "outputs": [],
   "source": [
    "# Deal with the missing values for Type-2 columns: Material, FabricType, Decoration and Pattern Type.\n",
    "inp0.Material= inp0.Material.replace(np.nan, \"Missing\")\n",
    "\n",
    "inp0.FabricType= inp0.FabricType.replace(np.nan, \"Missing\")\n",
    "\n",
    "inp0.Decoration= inp0.Decoration.replace(np.nan, \"Missing\")\n",
    "\n",
    "inp0['Pattern Type']= inp0['Pattern Type'].replace(np.nan, \"Missing\")"
   ]
  },
  {
   "cell_type": "code",
   "execution_count": 51,
   "metadata": {},
   "outputs": [
    {
     "data": {
      "text/plain": [
       "Dress_ID          0\n",
       "Season            0\n",
       "Pattern Type      0\n",
       "Decoration        0\n",
       "FabricType        0\n",
       "Material          0\n",
       "SleeveLength      0\n",
       "NeckLine          0\n",
       "Size              0\n",
       "Summer            0\n",
       "Rating            0\n",
       "Price             0\n",
       "Style             0\n",
       "Spring            0\n",
       "Winter            0\n",
       "Autumn            0\n",
       "Recommendation    0\n",
       "dtype: int64"
      ]
     },
     "execution_count": 51,
     "metadata": {},
     "output_type": "execute_result"
    }
   ],
   "source": [
    "inp0.isnull().sum().sort_values(ascending=False)"
   ]
  },
  {
   "cell_type": "markdown",
   "metadata": {},
   "source": [
    "### Standardise value "
   ]
  },
  {
   "cell_type": "markdown",
   "metadata": {},
   "source": [
    "In the given dataset, there are certain discrepancies with the categorical names such as irregular spellings. Choose the correct option of columns with irregular categories and update them.\n",
    " \n",
    "- Season, NeckLine\n",
    "- Price, Material\n",
    "- fabricType, Decoration\n",
    "- Season, SleeveLength\n"
   ]
  },
  {
   "cell_type": "code",
   "execution_count": 52,
   "metadata": {},
   "outputs": [
    {
     "data": {
      "text/plain": [
       "SleeveLength\n",
       "sleevless         213\n",
       "short              92\n",
       "full               91\n",
       "halfsleeve         32\n",
       "threequarter       17\n",
       "thressqatar         8\n",
       "sleeveless          4\n",
       "capsleeves          3\n",
       "sleeevless          2\n",
       "cap-sleeves         2\n",
       "urndowncollor       1\n",
       "half                1\n",
       "turndowncollor      1\n",
       "threequater         1\n",
       "Petal               1\n",
       "butterfly           1\n",
       "sleveless           1\n",
       "Name: count, dtype: int64"
      ]
     },
     "execution_count": 52,
     "metadata": {},
     "output_type": "execute_result"
    }
   ],
   "source": [
    "inp0.SleeveLength.value_counts()"
   ]
  },
  {
   "cell_type": "code",
   "execution_count": 53,
   "metadata": {},
   "outputs": [],
   "source": [
    "inp0.SleeveLength= inp0.SleeveLength.replace(['cap-sleeves', 'capsleeves'], \"cap sleeves\")\n",
    "\n",
    "inp0.SleeveLength= inp0.SleeveLength.replace('full', \"full sleeves\")\n",
    "\n",
    "inp0.SleeveLength= inp0.SleeveLength.replace(['half','halfsleeve'], \"half sleeves\")\n",
    "\n",
    "inp0.SleeveLength= inp0.SleeveLength.replace(['sleevless', 'sleeevless', 'sleeveless', 'sleveless'], \"sleeve less\")\n",
    "\n",
    "inp0.SleeveLength= inp0.SleeveLength.replace(['threequarter','threequater', 'thressqatar'], \"three quater\")\n",
    "\n",
    "inp0.SleeveLength= inp0.SleeveLength.replace(['turndowncollor','urndowncollor'], \"turn down collar\")"
   ]
  },
  {
   "cell_type": "code",
   "execution_count": 54,
   "metadata": {},
   "outputs": [],
   "source": [
    "#correcting the spellings.\n",
    "\n",
    "inp0.Season= inp0.Season.replace('Automn', \"Autumn\")\n",
    "\n",
    "inp0.Season= inp0.Season.replace('spring', \"Spring\")\n",
    "\n",
    "inp0.Season= inp0.Season.replace('winter', \"Winter\")"
   ]
  },
  {
   "cell_type": "code",
   "execution_count": 55,
   "metadata": {},
   "outputs": [
    {
     "data": {
      "text/plain": [
       "Season\n",
       "Summer    151\n",
       "Winter    136\n",
       "Spring    118\n",
       "Autumn     66\n",
       "Name: count, dtype: int64"
      ]
     },
     "execution_count": 55,
     "metadata": {},
     "output_type": "execute_result"
    }
   ],
   "source": [
    "inp0.Season.value_counts()"
   ]
  },
  {
   "cell_type": "markdown",
   "metadata": {},
   "source": [
    "## Univariate Analysis "
   ]
  },
  {
   "cell_type": "markdown",
   "metadata": {},
   "source": [
    "### Categorical Unordered Univariate Analysis\n",
    " "
   ]
  },
  {
   "cell_type": "markdown",
   "metadata": {},
   "source": [
    "There is a column named ‘Style’ in ‘Attribute Dataset’ which consists of the different style categories of the women apparels. Certain categories whose total sale is less than 50000 across all the seasons is considered under one single category as ‘Others’.\n"
   ]
  },
  {
   "cell_type": "markdown",
   "metadata": {},
   "source": [
    "Which of the following categories in ‘Style’ column can be grouped into ‘Others’ category? and perform the grouping operation in the notebook for further analysis.\n",
    "- Flare, fashion\n",
    "- Novelty, bohemian\n",
    "- OL, fashion, work\n",
    "- Novelty, fashion, Flare\n"
   ]
  },
  {
   "cell_type": "code",
   "execution_count": 56,
   "metadata": {},
   "outputs": [],
   "source": [
    "## Ans  1: Flare,Fashing  , 4: Novelty, Fashion, Flare"
   ]
  },
  {
   "cell_type": "code",
   "execution_count": 57,
   "metadata": {
    "scrolled": true
   },
   "outputs": [
    {
     "data": {
      "text/plain": [
       "Index(['Dress_ID', 'Summer', 'Autumn', 'Winter', 'Spring', 'Style', 'Price',\n",
       "       'Rating', 'Size', 'Season', 'NeckLine', 'SleeveLength', 'Material',\n",
       "       'FabricType', 'Decoration', 'Pattern Type', 'Recommendation'],\n",
       "      dtype='object')"
      ]
     },
     "execution_count": 57,
     "metadata": {},
     "output_type": "execute_result"
    }
   ],
   "source": [
    "inp0.columns"
   ]
  },
  {
   "cell_type": "code",
   "execution_count": 58,
   "metadata": {},
   "outputs": [
    {
     "data": {
      "text/html": [
       "<div>\n",
       "<style scoped>\n",
       "    .dataframe tbody tr th:only-of-type {\n",
       "        vertical-align: middle;\n",
       "    }\n",
       "\n",
       "    .dataframe tbody tr th {\n",
       "        vertical-align: top;\n",
       "    }\n",
       "\n",
       "    .dataframe thead th {\n",
       "        text-align: right;\n",
       "    }\n",
       "</style>\n",
       "<table border=\"1\" class=\"dataframe\">\n",
       "  <thead>\n",
       "    <tr style=\"text-align: right;\">\n",
       "      <th></th>\n",
       "      <th>Summer</th>\n",
       "      <th>Autumn</th>\n",
       "      <th>Winter</th>\n",
       "      <th>Spring</th>\n",
       "    </tr>\n",
       "    <tr>\n",
       "      <th>Style</th>\n",
       "      <th></th>\n",
       "      <th></th>\n",
       "      <th></th>\n",
       "      <th></th>\n",
       "    </tr>\n",
       "  </thead>\n",
       "  <tbody>\n",
       "    <tr>\n",
       "      <th>Brief</th>\n",
       "      <td>37303</td>\n",
       "      <td>69821.0</td>\n",
       "      <td>25020.0</td>\n",
       "      <td>7484</td>\n",
       "    </tr>\n",
       "    <tr>\n",
       "      <th>Casual</th>\n",
       "      <td>282913</td>\n",
       "      <td>566744.0</td>\n",
       "      <td>192922.0</td>\n",
       "      <td>60979</td>\n",
       "    </tr>\n",
       "    <tr>\n",
       "      <th>Flare</th>\n",
       "      <td>451</td>\n",
       "      <td>1161.0</td>\n",
       "      <td>406.0</td>\n",
       "      <td>71</td>\n",
       "    </tr>\n",
       "    <tr>\n",
       "      <th>Novelty</th>\n",
       "      <td>2866</td>\n",
       "      <td>7353.0</td>\n",
       "      <td>2504.0</td>\n",
       "      <td>563</td>\n",
       "    </tr>\n",
       "    <tr>\n",
       "      <th>OL</th>\n",
       "      <td>63</td>\n",
       "      <td>158.0</td>\n",
       "      <td>53.0</td>\n",
       "      <td>15</td>\n",
       "    </tr>\n",
       "    <tr>\n",
       "      <th>Sexy</th>\n",
       "      <td>117117</td>\n",
       "      <td>230524.0</td>\n",
       "      <td>81263.0</td>\n",
       "      <td>23451</td>\n",
       "    </tr>\n",
       "    <tr>\n",
       "      <th>bohemian</th>\n",
       "      <td>16119</td>\n",
       "      <td>37446.0</td>\n",
       "      <td>11752.0</td>\n",
       "      <td>3800</td>\n",
       "    </tr>\n",
       "    <tr>\n",
       "      <th>cute</th>\n",
       "      <td>98512</td>\n",
       "      <td>179466.0</td>\n",
       "      <td>63999.0</td>\n",
       "      <td>20022</td>\n",
       "    </tr>\n",
       "    <tr>\n",
       "      <th>fashion</th>\n",
       "      <td>91</td>\n",
       "      <td>211.0</td>\n",
       "      <td>74.0</td>\n",
       "      <td>19</td>\n",
       "    </tr>\n",
       "    <tr>\n",
       "      <th>party</th>\n",
       "      <td>35518</td>\n",
       "      <td>73978.0</td>\n",
       "      <td>24558.0</td>\n",
       "      <td>7987</td>\n",
       "    </tr>\n",
       "    <tr>\n",
       "      <th>sexy</th>\n",
       "      <td>19704</td>\n",
       "      <td>39002.0</td>\n",
       "      <td>15173.0</td>\n",
       "      <td>3564</td>\n",
       "    </tr>\n",
       "    <tr>\n",
       "      <th>vintage</th>\n",
       "      <td>46847</td>\n",
       "      <td>91439.0</td>\n",
       "      <td>33595.0</td>\n",
       "      <td>8693</td>\n",
       "    </tr>\n",
       "    <tr>\n",
       "      <th>work</th>\n",
       "      <td>24931</td>\n",
       "      <td>46389.0</td>\n",
       "      <td>16882.0</td>\n",
       "      <td>4893</td>\n",
       "    </tr>\n",
       "  </tbody>\n",
       "</table>\n",
       "</div>"
      ],
      "text/plain": [
       "          Summer    Autumn    Winter  Spring\n",
       "Style                                       \n",
       "Brief      37303   69821.0   25020.0    7484\n",
       "Casual    282913  566744.0  192922.0   60979\n",
       "Flare        451    1161.0     406.0      71\n",
       "Novelty     2866    7353.0    2504.0     563\n",
       "OL            63     158.0      53.0      15\n",
       "Sexy      117117  230524.0   81263.0   23451\n",
       "bohemian   16119   37446.0   11752.0    3800\n",
       "cute       98512  179466.0   63999.0   20022\n",
       "fashion       91     211.0      74.0      19\n",
       "party      35518   73978.0   24558.0    7987\n",
       "sexy       19704   39002.0   15173.0    3564\n",
       "vintage    46847   91439.0   33595.0    8693\n",
       "work       24931   46389.0   16882.0    4893"
      ]
     },
     "execution_count": 58,
     "metadata": {},
     "output_type": "execute_result"
    }
   ],
   "source": [
    "inp0.groupby('Style')[[\"Summer\",'Autumn','Winter','Spring']].sum()"
   ]
  },
  {
   "cell_type": "code",
   "execution_count": 59,
   "metadata": {},
   "outputs": [],
   "source": [
    "total_collection = inp0.groupby('Style')[[\"Summer\",'Autumn','Winter','Spring']].sum()"
   ]
  },
  {
   "cell_type": "code",
   "execution_count": 60,
   "metadata": {
    "scrolled": true
   },
   "outputs": [
    {
     "data": {
      "text/plain": [
       "Style\n",
       "Brief        139628.0\n",
       "Casual      1103558.0\n",
       "Flare          2089.0\n",
       "Novelty       13286.0\n",
       "OL              289.0\n",
       "Sexy         452355.0\n",
       "bohemian      69117.0\n",
       "cute         361999.0\n",
       "fashion         395.0\n",
       "party        142041.0\n",
       "sexy          77443.0\n",
       "vintage      180574.0\n",
       "work          93095.0\n",
       "dtype: float64"
      ]
     },
     "execution_count": 60,
     "metadata": {},
     "output_type": "execute_result"
    }
   ],
   "source": [
    "total_collection.sum(axis = 1)"
   ]
  },
  {
   "cell_type": "code",
   "execution_count": 61,
   "metadata": {},
   "outputs": [
    {
     "data": {
      "text/html": [
       "<div>\n",
       "<style scoped>\n",
       "    .dataframe tbody tr th:only-of-type {\n",
       "        vertical-align: middle;\n",
       "    }\n",
       "\n",
       "    .dataframe tbody tr th {\n",
       "        vertical-align: top;\n",
       "    }\n",
       "\n",
       "    .dataframe thead th {\n",
       "        text-align: right;\n",
       "    }\n",
       "</style>\n",
       "<table border=\"1\" class=\"dataframe\">\n",
       "  <thead>\n",
       "    <tr style=\"text-align: right;\">\n",
       "      <th></th>\n",
       "      <th>Summer</th>\n",
       "      <th>Autumn</th>\n",
       "      <th>Winter</th>\n",
       "      <th>Spring</th>\n",
       "    </tr>\n",
       "    <tr>\n",
       "      <th>Style</th>\n",
       "      <th></th>\n",
       "      <th></th>\n",
       "      <th></th>\n",
       "      <th></th>\n",
       "    </tr>\n",
       "  </thead>\n",
       "  <tbody>\n",
       "    <tr>\n",
       "      <th>Flare</th>\n",
       "      <td>451</td>\n",
       "      <td>1161.0</td>\n",
       "      <td>406.0</td>\n",
       "      <td>71</td>\n",
       "    </tr>\n",
       "    <tr>\n",
       "      <th>Novelty</th>\n",
       "      <td>2866</td>\n",
       "      <td>7353.0</td>\n",
       "      <td>2504.0</td>\n",
       "      <td>563</td>\n",
       "    </tr>\n",
       "    <tr>\n",
       "      <th>OL</th>\n",
       "      <td>63</td>\n",
       "      <td>158.0</td>\n",
       "      <td>53.0</td>\n",
       "      <td>15</td>\n",
       "    </tr>\n",
       "    <tr>\n",
       "      <th>fashion</th>\n",
       "      <td>91</td>\n",
       "      <td>211.0</td>\n",
       "      <td>74.0</td>\n",
       "      <td>19</td>\n",
       "    </tr>\n",
       "  </tbody>\n",
       "</table>\n",
       "</div>"
      ],
      "text/plain": [
       "         Summer  Autumn  Winter  Spring\n",
       "Style                                  \n",
       "Flare       451  1161.0   406.0      71\n",
       "Novelty    2866  7353.0  2504.0     563\n",
       "OL           63   158.0    53.0      15\n",
       "fashion      91   211.0    74.0      19"
      ]
     },
     "execution_count": 61,
     "metadata": {},
     "output_type": "execute_result"
    }
   ],
   "source": [
    "total_collection[total_collection.sum(axis = 1)<50000]"
   ]
  },
  {
   "cell_type": "code",
   "execution_count": 62,
   "metadata": {},
   "outputs": [
    {
     "data": {
      "text/plain": [
       "Index(['Flare', 'Novelty', 'OL', 'fashion'], dtype='object', name='Style')"
      ]
     },
     "execution_count": 62,
     "metadata": {},
     "output_type": "execute_result"
    }
   ],
   "source": [
    "total_collection[total_collection.sum(axis=1)<50000].index"
   ]
  },
  {
   "cell_type": "code",
   "execution_count": 63,
   "metadata": {},
   "outputs": [],
   "source": [
    "inp0.replace(total_collection[total_collection.sum(axis=1)<50000].index, 'Others', inplace=True)"
   ]
  },
  {
   "cell_type": "code",
   "execution_count": 64,
   "metadata": {},
   "outputs": [
    {
     "data": {
      "text/html": [
       "<div>\n",
       "<style scoped>\n",
       "    .dataframe tbody tr th:only-of-type {\n",
       "        vertical-align: middle;\n",
       "    }\n",
       "\n",
       "    .dataframe tbody tr th {\n",
       "        vertical-align: top;\n",
       "    }\n",
       "\n",
       "    .dataframe thead th {\n",
       "        text-align: right;\n",
       "    }\n",
       "</style>\n",
       "<table border=\"1\" class=\"dataframe\">\n",
       "  <thead>\n",
       "    <tr style=\"text-align: right;\">\n",
       "      <th></th>\n",
       "      <th>Dress_ID</th>\n",
       "      <th>Summer</th>\n",
       "      <th>Autumn</th>\n",
       "      <th>Winter</th>\n",
       "      <th>Spring</th>\n",
       "      <th>Style</th>\n",
       "      <th>Price</th>\n",
       "      <th>Rating</th>\n",
       "      <th>Size</th>\n",
       "      <th>Season</th>\n",
       "      <th>NeckLine</th>\n",
       "      <th>SleeveLength</th>\n",
       "      <th>Material</th>\n",
       "      <th>FabricType</th>\n",
       "      <th>Decoration</th>\n",
       "      <th>Pattern Type</th>\n",
       "      <th>Recommendation</th>\n",
       "    </tr>\n",
       "  </thead>\n",
       "  <tbody>\n",
       "    <tr>\n",
       "      <th>0</th>\n",
       "      <td>1.006033e+09</td>\n",
       "      <td>13899</td>\n",
       "      <td>26857.0</td>\n",
       "      <td>9658.0</td>\n",
       "      <td>2660</td>\n",
       "      <td>Sexy</td>\n",
       "      <td>Low</td>\n",
       "      <td>4.6</td>\n",
       "      <td>Medium</td>\n",
       "      <td>Summer</td>\n",
       "      <td>o-neck</td>\n",
       "      <td>sleeve less</td>\n",
       "      <td>Missing</td>\n",
       "      <td>chiffon</td>\n",
       "      <td>ruffles</td>\n",
       "      <td>animal</td>\n",
       "      <td>1</td>\n",
       "    </tr>\n",
       "    <tr>\n",
       "      <th>1</th>\n",
       "      <td>1.212192e+09</td>\n",
       "      <td>6216</td>\n",
       "      <td>17311.0</td>\n",
       "      <td>6405.0</td>\n",
       "      <td>750</td>\n",
       "      <td>Casual</td>\n",
       "      <td>Low</td>\n",
       "      <td>0.0</td>\n",
       "      <td>Large</td>\n",
       "      <td>Summer</td>\n",
       "      <td>o-neck</td>\n",
       "      <td>Petal</td>\n",
       "      <td>microfiber</td>\n",
       "      <td>Missing</td>\n",
       "      <td>ruffles</td>\n",
       "      <td>animal</td>\n",
       "      <td>0</td>\n",
       "    </tr>\n",
       "    <tr>\n",
       "      <th>2</th>\n",
       "      <td>1.190381e+09</td>\n",
       "      <td>40</td>\n",
       "      <td>82.0</td>\n",
       "      <td>28.0</td>\n",
       "      <td>7</td>\n",
       "      <td>vintage</td>\n",
       "      <td>High</td>\n",
       "      <td>0.0</td>\n",
       "      <td>Large</td>\n",
       "      <td>Autumn</td>\n",
       "      <td>o-neck</td>\n",
       "      <td>full sleeves</td>\n",
       "      <td>polyster</td>\n",
       "      <td>Missing</td>\n",
       "      <td>Missing</td>\n",
       "      <td>print</td>\n",
       "      <td>0</td>\n",
       "    </tr>\n",
       "    <tr>\n",
       "      <th>3</th>\n",
       "      <td>9.660060e+08</td>\n",
       "      <td>7213</td>\n",
       "      <td>14411.0</td>\n",
       "      <td>5012.0</td>\n",
       "      <td>1455</td>\n",
       "      <td>Brief</td>\n",
       "      <td>Average</td>\n",
       "      <td>4.6</td>\n",
       "      <td>Large</td>\n",
       "      <td>Spring</td>\n",
       "      <td>o-neck</td>\n",
       "      <td>full sleeves</td>\n",
       "      <td>silk</td>\n",
       "      <td>chiffon</td>\n",
       "      <td>embroidary</td>\n",
       "      <td>print</td>\n",
       "      <td>1</td>\n",
       "    </tr>\n",
       "    <tr>\n",
       "      <th>4</th>\n",
       "      <td>8.763395e+08</td>\n",
       "      <td>7706</td>\n",
       "      <td>14676.0</td>\n",
       "      <td>5678.0</td>\n",
       "      <td>1396</td>\n",
       "      <td>cute</td>\n",
       "      <td>Low</td>\n",
       "      <td>4.5</td>\n",
       "      <td>Medium</td>\n",
       "      <td>Summer</td>\n",
       "      <td>o-neck</td>\n",
       "      <td>butterfly</td>\n",
       "      <td>chiffonfabric</td>\n",
       "      <td>chiffon</td>\n",
       "      <td>bow</td>\n",
       "      <td>dot</td>\n",
       "      <td>0</td>\n",
       "    </tr>\n",
       "    <tr>\n",
       "      <th>...</th>\n",
       "      <td>...</td>\n",
       "      <td>...</td>\n",
       "      <td>...</td>\n",
       "      <td>...</td>\n",
       "      <td>...</td>\n",
       "      <td>...</td>\n",
       "      <td>...</td>\n",
       "      <td>...</td>\n",
       "      <td>...</td>\n",
       "      <td>...</td>\n",
       "      <td>...</td>\n",
       "      <td>...</td>\n",
       "      <td>...</td>\n",
       "      <td>...</td>\n",
       "      <td>...</td>\n",
       "      <td>...</td>\n",
       "      <td>...</td>\n",
       "    </tr>\n",
       "    <tr>\n",
       "      <th>474</th>\n",
       "      <td>9.905592e+08</td>\n",
       "      <td>203</td>\n",
       "      <td>565.0</td>\n",
       "      <td>144.0</td>\n",
       "      <td>60</td>\n",
       "      <td>Brief</td>\n",
       "      <td>Average</td>\n",
       "      <td>4.7</td>\n",
       "      <td>Medium</td>\n",
       "      <td>Winter</td>\n",
       "      <td>o-neck</td>\n",
       "      <td>half sleeves</td>\n",
       "      <td>acrylic</td>\n",
       "      <td>chiffon</td>\n",
       "      <td>Missing</td>\n",
       "      <td>striped</td>\n",
       "      <td>0</td>\n",
       "    </tr>\n",
       "    <tr>\n",
       "      <th>475</th>\n",
       "      <td>7.133920e+08</td>\n",
       "      <td>1478</td>\n",
       "      <td>3800.0</td>\n",
       "      <td>810.0</td>\n",
       "      <td>560</td>\n",
       "      <td>Casual</td>\n",
       "      <td>Low</td>\n",
       "      <td>4.7</td>\n",
       "      <td>Medium</td>\n",
       "      <td>Spring</td>\n",
       "      <td>o-neck</td>\n",
       "      <td>full sleeves</td>\n",
       "      <td>polyster</td>\n",
       "      <td>Missing</td>\n",
       "      <td>Missing</td>\n",
       "      <td>solid</td>\n",
       "      <td>1</td>\n",
       "    </tr>\n",
       "    <tr>\n",
       "      <th>476</th>\n",
       "      <td>5.328743e+08</td>\n",
       "      <td>2005</td>\n",
       "      <td>5290.0</td>\n",
       "      <td>1214.0</td>\n",
       "      <td>734</td>\n",
       "      <td>Casual</td>\n",
       "      <td>Average</td>\n",
       "      <td>4.7</td>\n",
       "      <td>Medium</td>\n",
       "      <td>Summer</td>\n",
       "      <td>v-neck</td>\n",
       "      <td>full sleeves</td>\n",
       "      <td>cotton</td>\n",
       "      <td>Missing</td>\n",
       "      <td>lace</td>\n",
       "      <td>solid</td>\n",
       "      <td>1</td>\n",
       "    </tr>\n",
       "    <tr>\n",
       "      <th>477</th>\n",
       "      <td>6.554649e+08</td>\n",
       "      <td>769</td>\n",
       "      <td>2117.0</td>\n",
       "      <td>516.0</td>\n",
       "      <td>254</td>\n",
       "      <td>Casual</td>\n",
       "      <td>Average</td>\n",
       "      <td>4.6</td>\n",
       "      <td>Large</td>\n",
       "      <td>Winter</td>\n",
       "      <td>boat-neck</td>\n",
       "      <td>sleeve less</td>\n",
       "      <td>silk</td>\n",
       "      <td>broadcloth</td>\n",
       "      <td>applique</td>\n",
       "      <td>print</td>\n",
       "      <td>1</td>\n",
       "    </tr>\n",
       "    <tr>\n",
       "      <th>478</th>\n",
       "      <td>9.199310e+08</td>\n",
       "      <td>1763</td>\n",
       "      <td>4828.0</td>\n",
       "      <td>1258.0</td>\n",
       "      <td>538</td>\n",
       "      <td>Casual</td>\n",
       "      <td>Low</td>\n",
       "      <td>4.4</td>\n",
       "      <td>Free</td>\n",
       "      <td>Summer</td>\n",
       "      <td>v-neck</td>\n",
       "      <td>short</td>\n",
       "      <td>cotton</td>\n",
       "      <td>Corduroy</td>\n",
       "      <td>lace</td>\n",
       "      <td>solid</td>\n",
       "      <td>0</td>\n",
       "    </tr>\n",
       "  </tbody>\n",
       "</table>\n",
       "<p>471 rows × 17 columns</p>\n",
       "</div>"
      ],
      "text/plain": [
       "         Dress_ID  Summer   Autumn  Winter  Spring    Style    Price  Rating  \\\n",
       "0    1.006033e+09   13899  26857.0  9658.0    2660     Sexy      Low     4.6   \n",
       "1    1.212192e+09    6216  17311.0  6405.0     750   Casual      Low     0.0   \n",
       "2    1.190381e+09      40     82.0    28.0       7  vintage     High     0.0   \n",
       "3    9.660060e+08    7213  14411.0  5012.0    1455    Brief  Average     4.6   \n",
       "4    8.763395e+08    7706  14676.0  5678.0    1396     cute      Low     4.5   \n",
       "..            ...     ...      ...     ...     ...      ...      ...     ...   \n",
       "474  9.905592e+08     203    565.0   144.0      60    Brief  Average     4.7   \n",
       "475  7.133920e+08    1478   3800.0   810.0     560   Casual      Low     4.7   \n",
       "476  5.328743e+08    2005   5290.0  1214.0     734   Casual  Average     4.7   \n",
       "477  6.554649e+08     769   2117.0   516.0     254   Casual  Average     4.6   \n",
       "478  9.199310e+08    1763   4828.0  1258.0     538   Casual      Low     4.4   \n",
       "\n",
       "       Size  Season   NeckLine  SleeveLength       Material  FabricType  \\\n",
       "0    Medium  Summer     o-neck   sleeve less        Missing     chiffon   \n",
       "1     Large  Summer     o-neck         Petal     microfiber     Missing   \n",
       "2     Large  Autumn     o-neck  full sleeves       polyster     Missing   \n",
       "3     Large  Spring     o-neck  full sleeves           silk     chiffon   \n",
       "4    Medium  Summer     o-neck     butterfly  chiffonfabric     chiffon   \n",
       "..      ...     ...        ...           ...            ...         ...   \n",
       "474  Medium  Winter     o-neck  half sleeves        acrylic     chiffon   \n",
       "475  Medium  Spring     o-neck  full sleeves       polyster     Missing   \n",
       "476  Medium  Summer     v-neck  full sleeves         cotton     Missing   \n",
       "477   Large  Winter  boat-neck   sleeve less           silk  broadcloth   \n",
       "478    Free  Summer     v-neck         short         cotton    Corduroy   \n",
       "\n",
       "     Decoration Pattern Type  Recommendation  \n",
       "0       ruffles       animal               1  \n",
       "1       ruffles       animal               0  \n",
       "2       Missing        print               0  \n",
       "3    embroidary        print               1  \n",
       "4           bow          dot               0  \n",
       "..          ...          ...             ...  \n",
       "474     Missing      striped               0  \n",
       "475     Missing        solid               1  \n",
       "476        lace        solid               1  \n",
       "477    applique        print               1  \n",
       "478        lace        solid               0  \n",
       "\n",
       "[471 rows x 17 columns]"
      ]
     },
     "execution_count": 64,
     "metadata": {},
     "output_type": "execute_result"
    }
   ],
   "source": [
    "inp0"
   ]
  },
  {
   "cell_type": "code",
   "execution_count": 65,
   "metadata": {
    "scrolled": true
   },
   "outputs": [
    {
     "data": {
      "text/plain": [
       "Style\n",
       "Casual      46.072187\n",
       "Sexy        13.800425\n",
       "party       10.191083\n",
       "cute         9.129512\n",
       "vintage      5.307856\n",
       "bohemian     4.883227\n",
       "Brief        3.609342\n",
       "work         3.609342\n",
       "Others       2.123142\n",
       "sexy         1.273885\n",
       "Name: proportion, dtype: float64"
      ]
     },
     "execution_count": 65,
     "metadata": {},
     "output_type": "execute_result"
    }
   ],
   "source": [
    " inp0.Style.value_counts(normalize= True) * 100"
   ]
  },
  {
   "cell_type": "markdown",
   "metadata": {},
   "source": [
    "cute is 9% <br> others 2.1%"
   ]
  },
  {
   "cell_type": "code",
   "execution_count": null,
   "metadata": {},
   "outputs": [],
   "source": []
  },
  {
   "cell_type": "code",
   "execution_count": null,
   "metadata": {},
   "outputs": [],
   "source": []
  },
  {
   "cell_type": "code",
   "execution_count": 66,
   "metadata": {},
   "outputs": [],
   "source": [
    "# srghrggkjdn"
   ]
  },
  {
   "cell_type": "code",
   "execution_count": 67,
   "metadata": {
    "scrolled": true
   },
   "outputs": [
    {
     "data": {
      "text/html": [
       "<div>\n",
       "<style scoped>\n",
       "    .dataframe tbody tr th:only-of-type {\n",
       "        vertical-align: middle;\n",
       "    }\n",
       "\n",
       "    .dataframe tbody tr th {\n",
       "        vertical-align: top;\n",
       "    }\n",
       "\n",
       "    .dataframe thead th {\n",
       "        text-align: right;\n",
       "    }\n",
       "</style>\n",
       "<table border=\"1\" class=\"dataframe\">\n",
       "  <thead>\n",
       "    <tr style=\"text-align: right;\">\n",
       "      <th></th>\n",
       "      <th>Summer</th>\n",
       "      <th>Autumn</th>\n",
       "      <th>Winter</th>\n",
       "      <th>Spring</th>\n",
       "    </tr>\n",
       "    <tr>\n",
       "      <th>Style</th>\n",
       "      <th></th>\n",
       "      <th></th>\n",
       "      <th></th>\n",
       "      <th></th>\n",
       "    </tr>\n",
       "  </thead>\n",
       "  <tbody>\n",
       "    <tr>\n",
       "      <th>Brief</th>\n",
       "      <td>37303</td>\n",
       "      <td>69821.0</td>\n",
       "      <td>25020.0</td>\n",
       "      <td>7484</td>\n",
       "    </tr>\n",
       "    <tr>\n",
       "      <th>Casual</th>\n",
       "      <td>282913</td>\n",
       "      <td>566744.0</td>\n",
       "      <td>192922.0</td>\n",
       "      <td>60979</td>\n",
       "    </tr>\n",
       "    <tr>\n",
       "      <th>Others</th>\n",
       "      <td>3471</td>\n",
       "      <td>8883.0</td>\n",
       "      <td>3037.0</td>\n",
       "      <td>668</td>\n",
       "    </tr>\n",
       "    <tr>\n",
       "      <th>Sexy</th>\n",
       "      <td>117117</td>\n",
       "      <td>230524.0</td>\n",
       "      <td>81263.0</td>\n",
       "      <td>23451</td>\n",
       "    </tr>\n",
       "    <tr>\n",
       "      <th>bohemian</th>\n",
       "      <td>16119</td>\n",
       "      <td>37446.0</td>\n",
       "      <td>11752.0</td>\n",
       "      <td>3800</td>\n",
       "    </tr>\n",
       "    <tr>\n",
       "      <th>cute</th>\n",
       "      <td>98512</td>\n",
       "      <td>179466.0</td>\n",
       "      <td>63999.0</td>\n",
       "      <td>20022</td>\n",
       "    </tr>\n",
       "    <tr>\n",
       "      <th>party</th>\n",
       "      <td>35518</td>\n",
       "      <td>73978.0</td>\n",
       "      <td>24558.0</td>\n",
       "      <td>7987</td>\n",
       "    </tr>\n",
       "    <tr>\n",
       "      <th>sexy</th>\n",
       "      <td>19704</td>\n",
       "      <td>39002.0</td>\n",
       "      <td>15173.0</td>\n",
       "      <td>3564</td>\n",
       "    </tr>\n",
       "    <tr>\n",
       "      <th>vintage</th>\n",
       "      <td>46847</td>\n",
       "      <td>91439.0</td>\n",
       "      <td>33595.0</td>\n",
       "      <td>8693</td>\n",
       "    </tr>\n",
       "    <tr>\n",
       "      <th>work</th>\n",
       "      <td>24931</td>\n",
       "      <td>46389.0</td>\n",
       "      <td>16882.0</td>\n",
       "      <td>4893</td>\n",
       "    </tr>\n",
       "  </tbody>\n",
       "</table>\n",
       "</div>"
      ],
      "text/plain": [
       "          Summer    Autumn    Winter  Spring\n",
       "Style                                       \n",
       "Brief      37303   69821.0   25020.0    7484\n",
       "Casual    282913  566744.0  192922.0   60979\n",
       "Others      3471    8883.0    3037.0     668\n",
       "Sexy      117117  230524.0   81263.0   23451\n",
       "bohemian   16119   37446.0   11752.0    3800\n",
       "cute       98512  179466.0   63999.0   20022\n",
       "party      35518   73978.0   24558.0    7987\n",
       "sexy       19704   39002.0   15173.0    3564\n",
       "vintage    46847   91439.0   33595.0    8693\n",
       "work       24931   46389.0   16882.0    4893"
      ]
     },
     "execution_count": 67,
     "metadata": {},
     "output_type": "execute_result"
    }
   ],
   "source": [
    "# Group \"Style\" categories into \"Others\" which have less than 50000 sales across all the seasons.\n",
    "inp2 = inp0.groupby('Style')[[\"Summer\",'Autumn','Winter','Spring']].sum()\n",
    "inp2"
   ]
  },
  {
   "cell_type": "code",
   "execution_count": 68,
   "metadata": {},
   "outputs": [],
   "source": [
    "# method 1 IN THIS I RENAMED THE DATAFRAME INDEX COLUMSN WHERE SALES IS LESS THAN 50000 , IN END U CAN SEE RESULT HAS INDEX WITH NAMES \"OTHERS\""
   ]
  },
  {
   "cell_type": "code",
   "execution_count": 69,
   "metadata": {},
   "outputs": [
    {
     "data": {
      "text/plain": [
       "Style\n",
       "Brief        139628.0\n",
       "Casual      1103558.0\n",
       "Others        16059.0\n",
       "Sexy         452355.0\n",
       "bohemian      69117.0\n",
       "cute         361999.0\n",
       "party        142041.0\n",
       "sexy          77443.0\n",
       "vintage      180574.0\n",
       "work          93095.0\n",
       "dtype: float64"
      ]
     },
     "execution_count": 69,
     "metadata": {},
     "output_type": "execute_result"
    }
   ],
   "source": [
    "inp2.sum(axis = 1)"
   ]
  },
  {
   "cell_type": "code",
   "execution_count": 70,
   "metadata": {},
   "outputs": [
    {
     "data": {
      "text/html": [
       "<div>\n",
       "<style scoped>\n",
       "    .dataframe tbody tr th:only-of-type {\n",
       "        vertical-align: middle;\n",
       "    }\n",
       "\n",
       "    .dataframe tbody tr th {\n",
       "        vertical-align: top;\n",
       "    }\n",
       "\n",
       "    .dataframe thead th {\n",
       "        text-align: right;\n",
       "    }\n",
       "</style>\n",
       "<table border=\"1\" class=\"dataframe\">\n",
       "  <thead>\n",
       "    <tr style=\"text-align: right;\">\n",
       "      <th></th>\n",
       "      <th>Summer</th>\n",
       "      <th>Autumn</th>\n",
       "      <th>Winter</th>\n",
       "      <th>Spring</th>\n",
       "    </tr>\n",
       "    <tr>\n",
       "      <th>Style</th>\n",
       "      <th></th>\n",
       "      <th></th>\n",
       "      <th></th>\n",
       "      <th></th>\n",
       "    </tr>\n",
       "  </thead>\n",
       "  <tbody>\n",
       "    <tr>\n",
       "      <th>Others</th>\n",
       "      <td>3471</td>\n",
       "      <td>8883.0</td>\n",
       "      <td>3037.0</td>\n",
       "      <td>668</td>\n",
       "    </tr>\n",
       "  </tbody>\n",
       "</table>\n",
       "</div>"
      ],
      "text/plain": [
       "        Summer  Autumn  Winter  Spring\n",
       "Style                                 \n",
       "Others    3471  8883.0  3037.0     668"
      ]
     },
     "execution_count": 70,
     "metadata": {},
     "output_type": "execute_result"
    }
   ],
   "source": [
    "inp2[inp2.sum(axis = 1) < 50000]"
   ]
  },
  {
   "cell_type": "code",
   "execution_count": 71,
   "metadata": {},
   "outputs": [
    {
     "data": {
      "text/plain": [
       "Index(['Others'], dtype='object', name='Style')"
      ]
     },
     "execution_count": 71,
     "metadata": {},
     "output_type": "execute_result"
    }
   ],
   "source": [
    "inp2[inp2.sum(axis = 1) < 50000].index"
   ]
  },
  {
   "cell_type": "code",
   "execution_count": 72,
   "metadata": {},
   "outputs": [
    {
     "data": {
      "text/html": [
       "<div>\n",
       "<style scoped>\n",
       "    .dataframe tbody tr th:only-of-type {\n",
       "        vertical-align: middle;\n",
       "    }\n",
       "\n",
       "    .dataframe tbody tr th {\n",
       "        vertical-align: top;\n",
       "    }\n",
       "\n",
       "    .dataframe thead th {\n",
       "        text-align: right;\n",
       "    }\n",
       "</style>\n",
       "<table border=\"1\" class=\"dataframe\">\n",
       "  <thead>\n",
       "    <tr style=\"text-align: right;\">\n",
       "      <th></th>\n",
       "      <th>Summer</th>\n",
       "      <th>Autumn</th>\n",
       "      <th>Winter</th>\n",
       "      <th>Spring</th>\n",
       "    </tr>\n",
       "    <tr>\n",
       "      <th>Style</th>\n",
       "      <th></th>\n",
       "      <th></th>\n",
       "      <th></th>\n",
       "      <th></th>\n",
       "    </tr>\n",
       "  </thead>\n",
       "  <tbody>\n",
       "    <tr>\n",
       "      <th>Brief</th>\n",
       "      <td>37303</td>\n",
       "      <td>69821.0</td>\n",
       "      <td>25020.0</td>\n",
       "      <td>7484</td>\n",
       "    </tr>\n",
       "    <tr>\n",
       "      <th>Casual</th>\n",
       "      <td>282913</td>\n",
       "      <td>566744.0</td>\n",
       "      <td>192922.0</td>\n",
       "      <td>60979</td>\n",
       "    </tr>\n",
       "    <tr>\n",
       "      <th>Others</th>\n",
       "      <td>3471</td>\n",
       "      <td>8883.0</td>\n",
       "      <td>3037.0</td>\n",
       "      <td>668</td>\n",
       "    </tr>\n",
       "    <tr>\n",
       "      <th>Sexy</th>\n",
       "      <td>117117</td>\n",
       "      <td>230524.0</td>\n",
       "      <td>81263.0</td>\n",
       "      <td>23451</td>\n",
       "    </tr>\n",
       "    <tr>\n",
       "      <th>bohemian</th>\n",
       "      <td>16119</td>\n",
       "      <td>37446.0</td>\n",
       "      <td>11752.0</td>\n",
       "      <td>3800</td>\n",
       "    </tr>\n",
       "    <tr>\n",
       "      <th>cute</th>\n",
       "      <td>98512</td>\n",
       "      <td>179466.0</td>\n",
       "      <td>63999.0</td>\n",
       "      <td>20022</td>\n",
       "    </tr>\n",
       "    <tr>\n",
       "      <th>party</th>\n",
       "      <td>35518</td>\n",
       "      <td>73978.0</td>\n",
       "      <td>24558.0</td>\n",
       "      <td>7987</td>\n",
       "    </tr>\n",
       "    <tr>\n",
       "      <th>sexy</th>\n",
       "      <td>19704</td>\n",
       "      <td>39002.0</td>\n",
       "      <td>15173.0</td>\n",
       "      <td>3564</td>\n",
       "    </tr>\n",
       "    <tr>\n",
       "      <th>vintage</th>\n",
       "      <td>46847</td>\n",
       "      <td>91439.0</td>\n",
       "      <td>33595.0</td>\n",
       "      <td>8693</td>\n",
       "    </tr>\n",
       "    <tr>\n",
       "      <th>work</th>\n",
       "      <td>24931</td>\n",
       "      <td>46389.0</td>\n",
       "      <td>16882.0</td>\n",
       "      <td>4893</td>\n",
       "    </tr>\n",
       "  </tbody>\n",
       "</table>\n",
       "</div>"
      ],
      "text/plain": [
       "          Summer    Autumn    Winter  Spring\n",
       "Style                                       \n",
       "Brief      37303   69821.0   25020.0    7484\n",
       "Casual    282913  566744.0  192922.0   60979\n",
       "Others      3471    8883.0    3037.0     668\n",
       "Sexy      117117  230524.0   81263.0   23451\n",
       "bohemian   16119   37446.0   11752.0    3800\n",
       "cute       98512  179466.0   63999.0   20022\n",
       "party      35518   73978.0   24558.0    7987\n",
       "sexy       19704   39002.0   15173.0    3564\n",
       "vintage    46847   91439.0   33595.0    8693\n",
       "work       24931   46389.0   16882.0    4893"
      ]
     },
     "execution_count": 72,
     "metadata": {},
     "output_type": "execute_result"
    }
   ],
   "source": [
    "inp2.index = inp2.index.to_series().replace(inp2[inp2.sum(axis = 1) < 50000].index,\"Others\")\n",
    "inp2"
   ]
  },
  {
   "cell_type": "code",
   "execution_count": 73,
   "metadata": {},
   "outputs": [],
   "source": [
    "# method 2\" IN THIS I DIDN'T RENAME INDEX NAMES INSTEAD CREATED NEW COLUMN WITH SUM OF SALES AND BY SEEING UPDATED ANSWERS\n",
    "# THIS METHOD DOES NOT HELP IN FURTHER QUESTIONS AS NEXT QUESTION HAS % OF SALES FOR \"OTHERS\""
   ]
  },
  {
   "cell_type": "code",
   "execution_count": 74,
   "metadata": {},
   "outputs": [],
   "source": [
    "inp2[\"Total\"] = inp2.Summer + inp2.Autumn + inp2.Winter + inp2.Spring"
   ]
  },
  {
   "cell_type": "code",
   "execution_count": 75,
   "metadata": {},
   "outputs": [
    {
     "data": {
      "text/html": [
       "<div>\n",
       "<style scoped>\n",
       "    .dataframe tbody tr th:only-of-type {\n",
       "        vertical-align: middle;\n",
       "    }\n",
       "\n",
       "    .dataframe tbody tr th {\n",
       "        vertical-align: top;\n",
       "    }\n",
       "\n",
       "    .dataframe thead th {\n",
       "        text-align: right;\n",
       "    }\n",
       "</style>\n",
       "<table border=\"1\" class=\"dataframe\">\n",
       "  <thead>\n",
       "    <tr style=\"text-align: right;\">\n",
       "      <th></th>\n",
       "      <th>Summer</th>\n",
       "      <th>Autumn</th>\n",
       "      <th>Winter</th>\n",
       "      <th>Spring</th>\n",
       "      <th>Total</th>\n",
       "    </tr>\n",
       "    <tr>\n",
       "      <th>Style</th>\n",
       "      <th></th>\n",
       "      <th></th>\n",
       "      <th></th>\n",
       "      <th></th>\n",
       "      <th></th>\n",
       "    </tr>\n",
       "  </thead>\n",
       "  <tbody>\n",
       "    <tr>\n",
       "      <th>Brief</th>\n",
       "      <td>37303</td>\n",
       "      <td>69821.0</td>\n",
       "      <td>25020.0</td>\n",
       "      <td>7484</td>\n",
       "      <td>139628.0</td>\n",
       "    </tr>\n",
       "    <tr>\n",
       "      <th>Casual</th>\n",
       "      <td>282913</td>\n",
       "      <td>566744.0</td>\n",
       "      <td>192922.0</td>\n",
       "      <td>60979</td>\n",
       "      <td>1103558.0</td>\n",
       "    </tr>\n",
       "    <tr>\n",
       "      <th>Others</th>\n",
       "      <td>3471</td>\n",
       "      <td>8883.0</td>\n",
       "      <td>3037.0</td>\n",
       "      <td>668</td>\n",
       "      <td>16059.0</td>\n",
       "    </tr>\n",
       "    <tr>\n",
       "      <th>Sexy</th>\n",
       "      <td>117117</td>\n",
       "      <td>230524.0</td>\n",
       "      <td>81263.0</td>\n",
       "      <td>23451</td>\n",
       "      <td>452355.0</td>\n",
       "    </tr>\n",
       "    <tr>\n",
       "      <th>bohemian</th>\n",
       "      <td>16119</td>\n",
       "      <td>37446.0</td>\n",
       "      <td>11752.0</td>\n",
       "      <td>3800</td>\n",
       "      <td>69117.0</td>\n",
       "    </tr>\n",
       "    <tr>\n",
       "      <th>cute</th>\n",
       "      <td>98512</td>\n",
       "      <td>179466.0</td>\n",
       "      <td>63999.0</td>\n",
       "      <td>20022</td>\n",
       "      <td>361999.0</td>\n",
       "    </tr>\n",
       "    <tr>\n",
       "      <th>party</th>\n",
       "      <td>35518</td>\n",
       "      <td>73978.0</td>\n",
       "      <td>24558.0</td>\n",
       "      <td>7987</td>\n",
       "      <td>142041.0</td>\n",
       "    </tr>\n",
       "    <tr>\n",
       "      <th>sexy</th>\n",
       "      <td>19704</td>\n",
       "      <td>39002.0</td>\n",
       "      <td>15173.0</td>\n",
       "      <td>3564</td>\n",
       "      <td>77443.0</td>\n",
       "    </tr>\n",
       "    <tr>\n",
       "      <th>vintage</th>\n",
       "      <td>46847</td>\n",
       "      <td>91439.0</td>\n",
       "      <td>33595.0</td>\n",
       "      <td>8693</td>\n",
       "      <td>180574.0</td>\n",
       "    </tr>\n",
       "    <tr>\n",
       "      <th>work</th>\n",
       "      <td>24931</td>\n",
       "      <td>46389.0</td>\n",
       "      <td>16882.0</td>\n",
       "      <td>4893</td>\n",
       "      <td>93095.0</td>\n",
       "    </tr>\n",
       "  </tbody>\n",
       "</table>\n",
       "</div>"
      ],
      "text/plain": [
       "          Summer    Autumn    Winter  Spring      Total\n",
       "Style                                                  \n",
       "Brief      37303   69821.0   25020.0    7484   139628.0\n",
       "Casual    282913  566744.0  192922.0   60979  1103558.0\n",
       "Others      3471    8883.0    3037.0     668    16059.0\n",
       "Sexy      117117  230524.0   81263.0   23451   452355.0\n",
       "bohemian   16119   37446.0   11752.0    3800    69117.0\n",
       "cute       98512  179466.0   63999.0   20022   361999.0\n",
       "party      35518   73978.0   24558.0    7987   142041.0\n",
       "sexy       19704   39002.0   15173.0    3564    77443.0\n",
       "vintage    46847   91439.0   33595.0    8693   180574.0\n",
       "work       24931   46389.0   16882.0    4893    93095.0"
      ]
     },
     "execution_count": 75,
     "metadata": {},
     "output_type": "execute_result"
    }
   ],
   "source": [
    "inp2"
   ]
  },
  {
   "cell_type": "code",
   "execution_count": 76,
   "metadata": {},
   "outputs": [
    {
     "data": {
      "text/html": [
       "<div>\n",
       "<style scoped>\n",
       "    .dataframe tbody tr th:only-of-type {\n",
       "        vertical-align: middle;\n",
       "    }\n",
       "\n",
       "    .dataframe tbody tr th {\n",
       "        vertical-align: top;\n",
       "    }\n",
       "\n",
       "    .dataframe thead th {\n",
       "        text-align: right;\n",
       "    }\n",
       "</style>\n",
       "<table border=\"1\" class=\"dataframe\">\n",
       "  <thead>\n",
       "    <tr style=\"text-align: right;\">\n",
       "      <th></th>\n",
       "      <th>Summer</th>\n",
       "      <th>Autumn</th>\n",
       "      <th>Winter</th>\n",
       "      <th>Spring</th>\n",
       "      <th>Total</th>\n",
       "    </tr>\n",
       "    <tr>\n",
       "      <th>Style</th>\n",
       "      <th></th>\n",
       "      <th></th>\n",
       "      <th></th>\n",
       "      <th></th>\n",
       "      <th></th>\n",
       "    </tr>\n",
       "  </thead>\n",
       "  <tbody>\n",
       "    <tr>\n",
       "      <th>Others</th>\n",
       "      <td>3471</td>\n",
       "      <td>8883.0</td>\n",
       "      <td>3037.0</td>\n",
       "      <td>668</td>\n",
       "      <td>16059.0</td>\n",
       "    </tr>\n",
       "  </tbody>\n",
       "</table>\n",
       "</div>"
      ],
      "text/plain": [
       "        Summer  Autumn  Winter  Spring    Total\n",
       "Style                                          \n",
       "Others    3471  8883.0  3037.0     668  16059.0"
      ]
     },
     "execution_count": 76,
     "metadata": {},
     "output_type": "execute_result"
    }
   ],
   "source": [
    "inp2[inp2.Total < 50000]"
   ]
  },
  {
   "cell_type": "code",
   "execution_count": 77,
   "metadata": {},
   "outputs": [],
   "source": [
    "### both method ends here"
   ]
  },
  {
   "cell_type": "code",
   "execution_count": null,
   "metadata": {},
   "outputs": [],
   "source": []
  },
  {
   "cell_type": "code",
   "execution_count": null,
   "metadata": {},
   "outputs": [],
   "source": []
  },
  {
   "cell_type": "code",
   "execution_count": 78,
   "metadata": {},
   "outputs": [],
   "source": [
    "#### IGNORE CELLS BELOW TILL MENTIONED"
   ]
  },
  {
   "cell_type": "code",
   "execution_count": 79,
   "metadata": {},
   "outputs": [],
   "source": [
    "inp2[\"Total\"] = inp2.Summer + inp2.Autumn + inp2.Winter + inp2.Spring"
   ]
  },
  {
   "cell_type": "code",
   "execution_count": 80,
   "metadata": {},
   "outputs": [
    {
     "data": {
      "text/html": [
       "<div>\n",
       "<style scoped>\n",
       "    .dataframe tbody tr th:only-of-type {\n",
       "        vertical-align: middle;\n",
       "    }\n",
       "\n",
       "    .dataframe tbody tr th {\n",
       "        vertical-align: top;\n",
       "    }\n",
       "\n",
       "    .dataframe thead th {\n",
       "        text-align: right;\n",
       "    }\n",
       "</style>\n",
       "<table border=\"1\" class=\"dataframe\">\n",
       "  <thead>\n",
       "    <tr style=\"text-align: right;\">\n",
       "      <th></th>\n",
       "      <th>Summer</th>\n",
       "      <th>Autumn</th>\n",
       "      <th>Winter</th>\n",
       "      <th>Spring</th>\n",
       "      <th>Total</th>\n",
       "    </tr>\n",
       "    <tr>\n",
       "      <th>Style</th>\n",
       "      <th></th>\n",
       "      <th></th>\n",
       "      <th></th>\n",
       "      <th></th>\n",
       "      <th></th>\n",
       "    </tr>\n",
       "  </thead>\n",
       "  <tbody>\n",
       "    <tr>\n",
       "      <th>Brief</th>\n",
       "      <td>37303</td>\n",
       "      <td>69821.0</td>\n",
       "      <td>25020.0</td>\n",
       "      <td>7484</td>\n",
       "      <td>139628.0</td>\n",
       "    </tr>\n",
       "    <tr>\n",
       "      <th>Casual</th>\n",
       "      <td>282913</td>\n",
       "      <td>566744.0</td>\n",
       "      <td>192922.0</td>\n",
       "      <td>60979</td>\n",
       "      <td>1103558.0</td>\n",
       "    </tr>\n",
       "    <tr>\n",
       "      <th>Others</th>\n",
       "      <td>3471</td>\n",
       "      <td>8883.0</td>\n",
       "      <td>3037.0</td>\n",
       "      <td>668</td>\n",
       "      <td>16059.0</td>\n",
       "    </tr>\n",
       "    <tr>\n",
       "      <th>Sexy</th>\n",
       "      <td>117117</td>\n",
       "      <td>230524.0</td>\n",
       "      <td>81263.0</td>\n",
       "      <td>23451</td>\n",
       "      <td>452355.0</td>\n",
       "    </tr>\n",
       "    <tr>\n",
       "      <th>bohemian</th>\n",
       "      <td>16119</td>\n",
       "      <td>37446.0</td>\n",
       "      <td>11752.0</td>\n",
       "      <td>3800</td>\n",
       "      <td>69117.0</td>\n",
       "    </tr>\n",
       "    <tr>\n",
       "      <th>cute</th>\n",
       "      <td>98512</td>\n",
       "      <td>179466.0</td>\n",
       "      <td>63999.0</td>\n",
       "      <td>20022</td>\n",
       "      <td>361999.0</td>\n",
       "    </tr>\n",
       "    <tr>\n",
       "      <th>party</th>\n",
       "      <td>35518</td>\n",
       "      <td>73978.0</td>\n",
       "      <td>24558.0</td>\n",
       "      <td>7987</td>\n",
       "      <td>142041.0</td>\n",
       "    </tr>\n",
       "    <tr>\n",
       "      <th>sexy</th>\n",
       "      <td>19704</td>\n",
       "      <td>39002.0</td>\n",
       "      <td>15173.0</td>\n",
       "      <td>3564</td>\n",
       "      <td>77443.0</td>\n",
       "    </tr>\n",
       "    <tr>\n",
       "      <th>vintage</th>\n",
       "      <td>46847</td>\n",
       "      <td>91439.0</td>\n",
       "      <td>33595.0</td>\n",
       "      <td>8693</td>\n",
       "      <td>180574.0</td>\n",
       "    </tr>\n",
       "    <tr>\n",
       "      <th>work</th>\n",
       "      <td>24931</td>\n",
       "      <td>46389.0</td>\n",
       "      <td>16882.0</td>\n",
       "      <td>4893</td>\n",
       "      <td>93095.0</td>\n",
       "    </tr>\n",
       "  </tbody>\n",
       "</table>\n",
       "</div>"
      ],
      "text/plain": [
       "          Summer    Autumn    Winter  Spring      Total\n",
       "Style                                                  \n",
       "Brief      37303   69821.0   25020.0    7484   139628.0\n",
       "Casual    282913  566744.0  192922.0   60979  1103558.0\n",
       "Others      3471    8883.0    3037.0     668    16059.0\n",
       "Sexy      117117  230524.0   81263.0   23451   452355.0\n",
       "bohemian   16119   37446.0   11752.0    3800    69117.0\n",
       "cute       98512  179466.0   63999.0   20022   361999.0\n",
       "party      35518   73978.0   24558.0    7987   142041.0\n",
       "sexy       19704   39002.0   15173.0    3564    77443.0\n",
       "vintage    46847   91439.0   33595.0    8693   180574.0\n",
       "work       24931   46389.0   16882.0    4893    93095.0"
      ]
     },
     "execution_count": 80,
     "metadata": {},
     "output_type": "execute_result"
    }
   ],
   "source": [
    "inp2"
   ]
  },
  {
   "cell_type": "code",
   "execution_count": 81,
   "metadata": {},
   "outputs": [
    {
     "data": {
      "text/html": [
       "<div>\n",
       "<style scoped>\n",
       "    .dataframe tbody tr th:only-of-type {\n",
       "        vertical-align: middle;\n",
       "    }\n",
       "\n",
       "    .dataframe tbody tr th {\n",
       "        vertical-align: top;\n",
       "    }\n",
       "\n",
       "    .dataframe thead th {\n",
       "        text-align: right;\n",
       "    }\n",
       "</style>\n",
       "<table border=\"1\" class=\"dataframe\">\n",
       "  <thead>\n",
       "    <tr style=\"text-align: right;\">\n",
       "      <th></th>\n",
       "      <th>Summer</th>\n",
       "      <th>Autumn</th>\n",
       "      <th>Winter</th>\n",
       "      <th>Spring</th>\n",
       "      <th>Total</th>\n",
       "    </tr>\n",
       "    <tr>\n",
       "      <th>Style</th>\n",
       "      <th></th>\n",
       "      <th></th>\n",
       "      <th></th>\n",
       "      <th></th>\n",
       "      <th></th>\n",
       "    </tr>\n",
       "  </thead>\n",
       "  <tbody>\n",
       "    <tr>\n",
       "      <th>Brief</th>\n",
       "      <td>37303</td>\n",
       "      <td>69821.0</td>\n",
       "      <td>25020.0</td>\n",
       "      <td>7484</td>\n",
       "      <td>139628.0</td>\n",
       "    </tr>\n",
       "    <tr>\n",
       "      <th>Casual</th>\n",
       "      <td>282913</td>\n",
       "      <td>566744.0</td>\n",
       "      <td>192922.0</td>\n",
       "      <td>60979</td>\n",
       "      <td>1103558.0</td>\n",
       "    </tr>\n",
       "    <tr>\n",
       "      <th>Others</th>\n",
       "      <td>3471</td>\n",
       "      <td>8883.0</td>\n",
       "      <td>3037.0</td>\n",
       "      <td>668</td>\n",
       "      <td>16059.0</td>\n",
       "    </tr>\n",
       "    <tr>\n",
       "      <th>Sexy</th>\n",
       "      <td>117117</td>\n",
       "      <td>230524.0</td>\n",
       "      <td>81263.0</td>\n",
       "      <td>23451</td>\n",
       "      <td>452355.0</td>\n",
       "    </tr>\n",
       "    <tr>\n",
       "      <th>bohemian</th>\n",
       "      <td>16119</td>\n",
       "      <td>37446.0</td>\n",
       "      <td>11752.0</td>\n",
       "      <td>3800</td>\n",
       "      <td>69117.0</td>\n",
       "    </tr>\n",
       "    <tr>\n",
       "      <th>cute</th>\n",
       "      <td>98512</td>\n",
       "      <td>179466.0</td>\n",
       "      <td>63999.0</td>\n",
       "      <td>20022</td>\n",
       "      <td>361999.0</td>\n",
       "    </tr>\n",
       "    <tr>\n",
       "      <th>party</th>\n",
       "      <td>35518</td>\n",
       "      <td>73978.0</td>\n",
       "      <td>24558.0</td>\n",
       "      <td>7987</td>\n",
       "      <td>142041.0</td>\n",
       "    </tr>\n",
       "    <tr>\n",
       "      <th>sexy</th>\n",
       "      <td>19704</td>\n",
       "      <td>39002.0</td>\n",
       "      <td>15173.0</td>\n",
       "      <td>3564</td>\n",
       "      <td>77443.0</td>\n",
       "    </tr>\n",
       "    <tr>\n",
       "      <th>vintage</th>\n",
       "      <td>46847</td>\n",
       "      <td>91439.0</td>\n",
       "      <td>33595.0</td>\n",
       "      <td>8693</td>\n",
       "      <td>180574.0</td>\n",
       "    </tr>\n",
       "    <tr>\n",
       "      <th>work</th>\n",
       "      <td>24931</td>\n",
       "      <td>46389.0</td>\n",
       "      <td>16882.0</td>\n",
       "      <td>4893</td>\n",
       "      <td>93095.0</td>\n",
       "    </tr>\n",
       "  </tbody>\n",
       "</table>\n",
       "</div>"
      ],
      "text/plain": [
       "          Summer    Autumn    Winter  Spring      Total\n",
       "Style                                                  \n",
       "Brief      37303   69821.0   25020.0    7484   139628.0\n",
       "Casual    282913  566744.0  192922.0   60979  1103558.0\n",
       "Others      3471    8883.0    3037.0     668    16059.0\n",
       "Sexy      117117  230524.0   81263.0   23451   452355.0\n",
       "bohemian   16119   37446.0   11752.0    3800    69117.0\n",
       "cute       98512  179466.0   63999.0   20022   361999.0\n",
       "party      35518   73978.0   24558.0    7987   142041.0\n",
       "sexy       19704   39002.0   15173.0    3564    77443.0\n",
       "vintage    46847   91439.0   33595.0    8693   180574.0\n",
       "work       24931   46389.0   16882.0    4893    93095.0"
      ]
     },
     "execution_count": 81,
     "metadata": {},
     "output_type": "execute_result"
    }
   ],
   "source": [
    "inp2.groupby(inp2.index).sum()"
   ]
  },
  {
   "cell_type": "code",
   "execution_count": 82,
   "metadata": {},
   "outputs": [
    {
     "data": {
      "text/plain": [
       "Total\n",
       "139628.0     1\n",
       "1103558.0    1\n",
       "16059.0      1\n",
       "452355.0     1\n",
       "69117.0      1\n",
       "361999.0     1\n",
       "142041.0     1\n",
       "77443.0      1\n",
       "180574.0     1\n",
       "93095.0      1\n",
       "Name: count, dtype: int64"
      ]
     },
     "execution_count": 82,
     "metadata": {},
     "output_type": "execute_result"
    }
   ],
   "source": [
    "inp2.Total.value_counts()"
   ]
  },
  {
   "cell_type": "code",
   "execution_count": 83,
   "metadata": {},
   "outputs": [
    {
     "data": {
      "text/html": [
       "<div>\n",
       "<style scoped>\n",
       "    .dataframe tbody tr th:only-of-type {\n",
       "        vertical-align: middle;\n",
       "    }\n",
       "\n",
       "    .dataframe tbody tr th {\n",
       "        vertical-align: top;\n",
       "    }\n",
       "\n",
       "    .dataframe thead th {\n",
       "        text-align: right;\n",
       "    }\n",
       "</style>\n",
       "<table border=\"1\" class=\"dataframe\">\n",
       "  <thead>\n",
       "    <tr style=\"text-align: right;\">\n",
       "      <th></th>\n",
       "      <th>Style</th>\n",
       "      <th>Summer</th>\n",
       "      <th>Autumn</th>\n",
       "      <th>Winter</th>\n",
       "      <th>Spring</th>\n",
       "      <th>Total</th>\n",
       "    </tr>\n",
       "  </thead>\n",
       "  <tbody>\n",
       "    <tr>\n",
       "      <th>0</th>\n",
       "      <td>Brief</td>\n",
       "      <td>37303</td>\n",
       "      <td>69821.0</td>\n",
       "      <td>25020.0</td>\n",
       "      <td>7484</td>\n",
       "      <td>139628.0</td>\n",
       "    </tr>\n",
       "    <tr>\n",
       "      <th>1</th>\n",
       "      <td>Casual</td>\n",
       "      <td>282913</td>\n",
       "      <td>566744.0</td>\n",
       "      <td>192922.0</td>\n",
       "      <td>60979</td>\n",
       "      <td>1103558.0</td>\n",
       "    </tr>\n",
       "    <tr>\n",
       "      <th>2</th>\n",
       "      <td>Others</td>\n",
       "      <td>3471</td>\n",
       "      <td>8883.0</td>\n",
       "      <td>3037.0</td>\n",
       "      <td>668</td>\n",
       "      <td>16059.0</td>\n",
       "    </tr>\n",
       "    <tr>\n",
       "      <th>3</th>\n",
       "      <td>Sexy</td>\n",
       "      <td>117117</td>\n",
       "      <td>230524.0</td>\n",
       "      <td>81263.0</td>\n",
       "      <td>23451</td>\n",
       "      <td>452355.0</td>\n",
       "    </tr>\n",
       "    <tr>\n",
       "      <th>4</th>\n",
       "      <td>bohemian</td>\n",
       "      <td>16119</td>\n",
       "      <td>37446.0</td>\n",
       "      <td>11752.0</td>\n",
       "      <td>3800</td>\n",
       "      <td>69117.0</td>\n",
       "    </tr>\n",
       "    <tr>\n",
       "      <th>5</th>\n",
       "      <td>cute</td>\n",
       "      <td>98512</td>\n",
       "      <td>179466.0</td>\n",
       "      <td>63999.0</td>\n",
       "      <td>20022</td>\n",
       "      <td>361999.0</td>\n",
       "    </tr>\n",
       "    <tr>\n",
       "      <th>6</th>\n",
       "      <td>party</td>\n",
       "      <td>35518</td>\n",
       "      <td>73978.0</td>\n",
       "      <td>24558.0</td>\n",
       "      <td>7987</td>\n",
       "      <td>142041.0</td>\n",
       "    </tr>\n",
       "    <tr>\n",
       "      <th>7</th>\n",
       "      <td>sexy</td>\n",
       "      <td>19704</td>\n",
       "      <td>39002.0</td>\n",
       "      <td>15173.0</td>\n",
       "      <td>3564</td>\n",
       "      <td>77443.0</td>\n",
       "    </tr>\n",
       "    <tr>\n",
       "      <th>8</th>\n",
       "      <td>vintage</td>\n",
       "      <td>46847</td>\n",
       "      <td>91439.0</td>\n",
       "      <td>33595.0</td>\n",
       "      <td>8693</td>\n",
       "      <td>180574.0</td>\n",
       "    </tr>\n",
       "    <tr>\n",
       "      <th>9</th>\n",
       "      <td>work</td>\n",
       "      <td>24931</td>\n",
       "      <td>46389.0</td>\n",
       "      <td>16882.0</td>\n",
       "      <td>4893</td>\n",
       "      <td>93095.0</td>\n",
       "    </tr>\n",
       "  </tbody>\n",
       "</table>\n",
       "</div>"
      ],
      "text/plain": [
       "      Style  Summer    Autumn    Winter  Spring      Total\n",
       "0     Brief   37303   69821.0   25020.0    7484   139628.0\n",
       "1    Casual  282913  566744.0  192922.0   60979  1103558.0\n",
       "2    Others    3471    8883.0    3037.0     668    16059.0\n",
       "3      Sexy  117117  230524.0   81263.0   23451   452355.0\n",
       "4  bohemian   16119   37446.0   11752.0    3800    69117.0\n",
       "5      cute   98512  179466.0   63999.0   20022   361999.0\n",
       "6     party   35518   73978.0   24558.0    7987   142041.0\n",
       "7      sexy   19704   39002.0   15173.0    3564    77443.0\n",
       "8   vintage   46847   91439.0   33595.0    8693   180574.0\n",
       "9      work   24931   46389.0   16882.0    4893    93095.0"
      ]
     },
     "execution_count": 83,
     "metadata": {},
     "output_type": "execute_result"
    }
   ],
   "source": [
    "inp2.reset_index(inplace=True)\n",
    "inp2"
   ]
  },
  {
   "cell_type": "code",
   "execution_count": 84,
   "metadata": {},
   "outputs": [
    {
     "data": {
      "text/plain": [
       "Style\n",
       "Brief       1\n",
       "Casual      1\n",
       "Others      1\n",
       "Sexy        1\n",
       "bohemian    1\n",
       "cute        1\n",
       "party       1\n",
       "sexy        1\n",
       "vintage     1\n",
       "work        1\n",
       "Name: count, dtype: int64"
      ]
     },
     "execution_count": 84,
     "metadata": {},
     "output_type": "execute_result"
    }
   ],
   "source": [
    "inp2[\"Style\"].value_counts()"
   ]
  },
  {
   "cell_type": "code",
   "execution_count": 85,
   "metadata": {},
   "outputs": [
    {
     "data": {
      "text/html": [
       "<div>\n",
       "<style scoped>\n",
       "    .dataframe tbody tr th:only-of-type {\n",
       "        vertical-align: middle;\n",
       "    }\n",
       "\n",
       "    .dataframe tbody tr th {\n",
       "        vertical-align: top;\n",
       "    }\n",
       "\n",
       "    .dataframe thead th {\n",
       "        text-align: right;\n",
       "    }\n",
       "</style>\n",
       "<table border=\"1\" class=\"dataframe\">\n",
       "  <thead>\n",
       "    <tr style=\"text-align: right;\">\n",
       "      <th></th>\n",
       "      <th>Total</th>\n",
       "    </tr>\n",
       "    <tr>\n",
       "      <th>Style</th>\n",
       "      <th></th>\n",
       "    </tr>\n",
       "  </thead>\n",
       "  <tbody>\n",
       "    <tr>\n",
       "      <th>Brief</th>\n",
       "      <td>139628.0</td>\n",
       "    </tr>\n",
       "    <tr>\n",
       "      <th>Casual</th>\n",
       "      <td>1103558.0</td>\n",
       "    </tr>\n",
       "    <tr>\n",
       "      <th>Others</th>\n",
       "      <td>16059.0</td>\n",
       "    </tr>\n",
       "    <tr>\n",
       "      <th>Sexy</th>\n",
       "      <td>452355.0</td>\n",
       "    </tr>\n",
       "    <tr>\n",
       "      <th>bohemian</th>\n",
       "      <td>69117.0</td>\n",
       "    </tr>\n",
       "    <tr>\n",
       "      <th>cute</th>\n",
       "      <td>361999.0</td>\n",
       "    </tr>\n",
       "    <tr>\n",
       "      <th>party</th>\n",
       "      <td>142041.0</td>\n",
       "    </tr>\n",
       "    <tr>\n",
       "      <th>sexy</th>\n",
       "      <td>77443.0</td>\n",
       "    </tr>\n",
       "    <tr>\n",
       "      <th>vintage</th>\n",
       "      <td>180574.0</td>\n",
       "    </tr>\n",
       "    <tr>\n",
       "      <th>work</th>\n",
       "      <td>93095.0</td>\n",
       "    </tr>\n",
       "  </tbody>\n",
       "</table>\n",
       "</div>"
      ],
      "text/plain": [
       "              Total\n",
       "Style              \n",
       "Brief      139628.0\n",
       "Casual    1103558.0\n",
       "Others      16059.0\n",
       "Sexy       452355.0\n",
       "bohemian    69117.0\n",
       "cute       361999.0\n",
       "party      142041.0\n",
       "sexy        77443.0\n",
       "vintage    180574.0\n",
       "work        93095.0"
      ]
     },
     "execution_count": 85,
     "metadata": {},
     "output_type": "execute_result"
    }
   ],
   "source": [
    "inp2.groupby(\"Style\")[[\"Total\"]].sum()"
   ]
  },
  {
   "cell_type": "code",
   "execution_count": 86,
   "metadata": {},
   "outputs": [
    {
     "data": {
      "text/plain": [
       "2635869.0"
      ]
     },
     "execution_count": 86,
     "metadata": {},
     "output_type": "execute_result"
    }
   ],
   "source": [
    "inp2.Total.sum()"
   ]
  },
  {
   "cell_type": "code",
   "execution_count": 87,
   "metadata": {},
   "outputs": [
    {
     "data": {
      "text/plain": [
       "Style\n",
       "Brief        5.297228\n",
       "Casual      41.866952\n",
       "Others       0.609249\n",
       "Sexy        17.161513\n",
       "bohemian     2.622171\n",
       "cute        13.733573\n",
       "party        5.388773\n",
       "sexy         2.938044\n",
       "vintage      6.850644\n",
       "work         3.531852\n",
       "Name: Total, dtype: float64"
      ]
     },
     "execution_count": 87,
     "metadata": {},
     "output_type": "execute_result"
    }
   ],
   "source": [
    "(inp2.groupby(\"Style\")[\"Total\"].sum() / inp2.Total.sum()) * 100"
   ]
  },
  {
   "cell_type": "code",
   "execution_count": 88,
   "metadata": {},
   "outputs": [],
   "source": [
    "#### IGNORE TILL ABOVE"
   ]
  },
  {
   "cell_type": "code",
   "execution_count": null,
   "metadata": {},
   "outputs": [],
   "source": []
  },
  {
   "cell_type": "markdown",
   "metadata": {},
   "source": [
    "What is the percentage of “cute” and “Others” category in “Style” column in “Attribute DataSet” respectively?\n",
    "- 46%, 5%\n",
    "- 9%, 2.1%\n",
    "- 2.1%, 5%\n",
    "- 13.8%, 9%\n"
   ]
  },
  {
   "cell_type": "code",
   "execution_count": 89,
   "metadata": {},
   "outputs": [],
   "source": [
    "## 9%,2.1%"
   ]
  },
  {
   "cell_type": "markdown",
   "metadata": {},
   "source": [
    "Similarly Club Neckline, SLeeve length categories into \"Others\" which have less than 50000 sales across all the seasons."
   ]
  },
  {
   "cell_type": "code",
   "execution_count": 90,
   "metadata": {},
   "outputs": [
    {
     "data": {
      "text/plain": [
       "Index(['Dress_ID', 'Summer', 'Autumn', 'Winter', 'Spring', 'Style', 'Price',\n",
       "       'Rating', 'Size', 'Season', 'NeckLine', 'SleeveLength', 'Material',\n",
       "       'FabricType', 'Decoration', 'Pattern Type', 'Recommendation'],\n",
       "      dtype='object')"
      ]
     },
     "execution_count": 90,
     "metadata": {},
     "output_type": "execute_result"
    }
   ],
   "source": [
    "inp0.columns"
   ]
  },
  {
   "cell_type": "code",
   "execution_count": 91,
   "metadata": {},
   "outputs": [
    {
     "data": {
      "text/plain": [
       "array(['o-neck', 'v-neck', 'boat-neck', 'peterpan-collor', 'ruffled',\n",
       "       'turndowncollor', 'slash-neck', 'mandarin-collor', 'open',\n",
       "       'sqare-collor', 'Sweetheart', 'sweetheart', 'Scoop', 'halter',\n",
       "       'backless', 'bowneck'], dtype=object)"
      ]
     },
     "execution_count": 91,
     "metadata": {},
     "output_type": "execute_result"
    }
   ],
   "source": [
    "inp0.NeckLine.unique()"
   ]
  },
  {
   "cell_type": "code",
   "execution_count": 92,
   "metadata": {},
   "outputs": [
    {
     "data": {
      "text/html": [
       "<div>\n",
       "<style scoped>\n",
       "    .dataframe tbody tr th:only-of-type {\n",
       "        vertical-align: middle;\n",
       "    }\n",
       "\n",
       "    .dataframe tbody tr th {\n",
       "        vertical-align: top;\n",
       "    }\n",
       "\n",
       "    .dataframe thead th {\n",
       "        text-align: right;\n",
       "    }\n",
       "</style>\n",
       "<table border=\"1\" class=\"dataframe\">\n",
       "  <thead>\n",
       "    <tr style=\"text-align: right;\">\n",
       "      <th></th>\n",
       "      <th>Summer</th>\n",
       "      <th>Autumn</th>\n",
       "      <th>Winter</th>\n",
       "      <th>Spring</th>\n",
       "    </tr>\n",
       "    <tr>\n",
       "      <th>NeckLine</th>\n",
       "      <th></th>\n",
       "      <th></th>\n",
       "      <th></th>\n",
       "      <th></th>\n",
       "    </tr>\n",
       "  </thead>\n",
       "  <tbody>\n",
       "    <tr>\n",
       "      <th>Scoop</th>\n",
       "      <td>657</td>\n",
       "      <td>1802.0</td>\n",
       "      <td>478.0</td>\n",
       "      <td>198</td>\n",
       "    </tr>\n",
       "    <tr>\n",
       "      <th>Sweetheart</th>\n",
       "      <td>3072</td>\n",
       "      <td>8341.0</td>\n",
       "      <td>2264.0</td>\n",
       "      <td>911</td>\n",
       "    </tr>\n",
       "    <tr>\n",
       "      <th>backless</th>\n",
       "      <td>600</td>\n",
       "      <td>1690.0</td>\n",
       "      <td>408.0</td>\n",
       "      <td>190</td>\n",
       "    </tr>\n",
       "    <tr>\n",
       "      <th>boat-neck</th>\n",
       "      <td>13032</td>\n",
       "      <td>27968.0</td>\n",
       "      <td>9265.0</td>\n",
       "      <td>2784</td>\n",
       "    </tr>\n",
       "    <tr>\n",
       "      <th>bowneck</th>\n",
       "      <td>4583</td>\n",
       "      <td>12371.0</td>\n",
       "      <td>3354.0</td>\n",
       "      <td>1325</td>\n",
       "    </tr>\n",
       "    <tr>\n",
       "      <th>halter</th>\n",
       "      <td>505</td>\n",
       "      <td>1336.0</td>\n",
       "      <td>363.0</td>\n",
       "      <td>151</td>\n",
       "    </tr>\n",
       "    <tr>\n",
       "      <th>mandarin-collor</th>\n",
       "      <td>63</td>\n",
       "      <td>158.0</td>\n",
       "      <td>53.0</td>\n",
       "      <td>15</td>\n",
       "    </tr>\n",
       "    <tr>\n",
       "      <th>o-neck</th>\n",
       "      <td>431970</td>\n",
       "      <td>852040.0</td>\n",
       "      <td>299171.0</td>\n",
       "      <td>87921</td>\n",
       "    </tr>\n",
       "    <tr>\n",
       "      <th>open</th>\n",
       "      <td>2040</td>\n",
       "      <td>3621.0</td>\n",
       "      <td>1330.0</td>\n",
       "      <td>405</td>\n",
       "    </tr>\n",
       "    <tr>\n",
       "      <th>peterpan-collor</th>\n",
       "      <td>5429</td>\n",
       "      <td>9031.0</td>\n",
       "      <td>3307.0</td>\n",
       "      <td>1141</td>\n",
       "    </tr>\n",
       "    <tr>\n",
       "      <th>ruffled</th>\n",
       "      <td>35577</td>\n",
       "      <td>55532.0</td>\n",
       "      <td>20388.0</td>\n",
       "      <td>7374</td>\n",
       "    </tr>\n",
       "    <tr>\n",
       "      <th>slash-neck</th>\n",
       "      <td>16412</td>\n",
       "      <td>36571.0</td>\n",
       "      <td>11547.0</td>\n",
       "      <td>3866</td>\n",
       "    </tr>\n",
       "    <tr>\n",
       "      <th>sqare-collor</th>\n",
       "      <td>8459</td>\n",
       "      <td>16503.0</td>\n",
       "      <td>5683.0</td>\n",
       "      <td>1750</td>\n",
       "    </tr>\n",
       "    <tr>\n",
       "      <th>sweetheart</th>\n",
       "      <td>581</td>\n",
       "      <td>1557.0</td>\n",
       "      <td>409.0</td>\n",
       "      <td>181</td>\n",
       "    </tr>\n",
       "    <tr>\n",
       "      <th>turndowncollor</th>\n",
       "      <td>17825</td>\n",
       "      <td>34629.0</td>\n",
       "      <td>12548.0</td>\n",
       "      <td>3494</td>\n",
       "    </tr>\n",
       "    <tr>\n",
       "      <th>v-neck</th>\n",
       "      <td>141630</td>\n",
       "      <td>280542.0</td>\n",
       "      <td>97633.0</td>\n",
       "      <td>29835</td>\n",
       "    </tr>\n",
       "  </tbody>\n",
       "</table>\n",
       "</div>"
      ],
      "text/plain": [
       "                 Summer    Autumn    Winter  Spring\n",
       "NeckLine                                           \n",
       "Scoop               657    1802.0     478.0     198\n",
       "Sweetheart         3072    8341.0    2264.0     911\n",
       "backless            600    1690.0     408.0     190\n",
       "boat-neck         13032   27968.0    9265.0    2784\n",
       "bowneck            4583   12371.0    3354.0    1325\n",
       "halter              505    1336.0     363.0     151\n",
       "mandarin-collor      63     158.0      53.0      15\n",
       "o-neck           431970  852040.0  299171.0   87921\n",
       "open               2040    3621.0    1330.0     405\n",
       "peterpan-collor    5429    9031.0    3307.0    1141\n",
       "ruffled           35577   55532.0   20388.0    7374\n",
       "slash-neck        16412   36571.0   11547.0    3866\n",
       "sqare-collor       8459   16503.0    5683.0    1750\n",
       "sweetheart          581    1557.0     409.0     181\n",
       "turndowncollor    17825   34629.0   12548.0    3494\n",
       "v-neck           141630  280542.0   97633.0   29835"
      ]
     },
     "execution_count": 92,
     "metadata": {},
     "output_type": "execute_result"
    }
   ],
   "source": [
    "inp0.groupby(\"NeckLine\")[['Summer',\"Autumn\",\"Winter\",\"Spring\"]].sum()"
   ]
  },
  {
   "cell_type": "code",
   "execution_count": 93,
   "metadata": {},
   "outputs": [
    {
     "data": {
      "text/html": [
       "<div>\n",
       "<style scoped>\n",
       "    .dataframe tbody tr th:only-of-type {\n",
       "        vertical-align: middle;\n",
       "    }\n",
       "\n",
       "    .dataframe tbody tr th {\n",
       "        vertical-align: top;\n",
       "    }\n",
       "\n",
       "    .dataframe thead th {\n",
       "        text-align: right;\n",
       "    }\n",
       "</style>\n",
       "<table border=\"1\" class=\"dataframe\">\n",
       "  <thead>\n",
       "    <tr style=\"text-align: right;\">\n",
       "      <th></th>\n",
       "      <th>Summer</th>\n",
       "      <th>Autumn</th>\n",
       "      <th>Winter</th>\n",
       "      <th>Spring</th>\n",
       "    </tr>\n",
       "    <tr>\n",
       "      <th>NeckLine</th>\n",
       "      <th></th>\n",
       "      <th></th>\n",
       "      <th></th>\n",
       "      <th></th>\n",
       "    </tr>\n",
       "  </thead>\n",
       "  <tbody>\n",
       "    <tr>\n",
       "      <th>Scoop</th>\n",
       "      <td>657</td>\n",
       "      <td>1802.0</td>\n",
       "      <td>478.0</td>\n",
       "      <td>198</td>\n",
       "    </tr>\n",
       "    <tr>\n",
       "      <th>Sweetheart</th>\n",
       "      <td>3072</td>\n",
       "      <td>8341.0</td>\n",
       "      <td>2264.0</td>\n",
       "      <td>911</td>\n",
       "    </tr>\n",
       "    <tr>\n",
       "      <th>backless</th>\n",
       "      <td>600</td>\n",
       "      <td>1690.0</td>\n",
       "      <td>408.0</td>\n",
       "      <td>190</td>\n",
       "    </tr>\n",
       "    <tr>\n",
       "      <th>boat-neck</th>\n",
       "      <td>13032</td>\n",
       "      <td>27968.0</td>\n",
       "      <td>9265.0</td>\n",
       "      <td>2784</td>\n",
       "    </tr>\n",
       "    <tr>\n",
       "      <th>bowneck</th>\n",
       "      <td>4583</td>\n",
       "      <td>12371.0</td>\n",
       "      <td>3354.0</td>\n",
       "      <td>1325</td>\n",
       "    </tr>\n",
       "    <tr>\n",
       "      <th>halter</th>\n",
       "      <td>505</td>\n",
       "      <td>1336.0</td>\n",
       "      <td>363.0</td>\n",
       "      <td>151</td>\n",
       "    </tr>\n",
       "    <tr>\n",
       "      <th>mandarin-collor</th>\n",
       "      <td>63</td>\n",
       "      <td>158.0</td>\n",
       "      <td>53.0</td>\n",
       "      <td>15</td>\n",
       "    </tr>\n",
       "    <tr>\n",
       "      <th>o-neck</th>\n",
       "      <td>431970</td>\n",
       "      <td>852040.0</td>\n",
       "      <td>299171.0</td>\n",
       "      <td>87921</td>\n",
       "    </tr>\n",
       "    <tr>\n",
       "      <th>open</th>\n",
       "      <td>2040</td>\n",
       "      <td>3621.0</td>\n",
       "      <td>1330.0</td>\n",
       "      <td>405</td>\n",
       "    </tr>\n",
       "    <tr>\n",
       "      <th>peterpan-collor</th>\n",
       "      <td>5429</td>\n",
       "      <td>9031.0</td>\n",
       "      <td>3307.0</td>\n",
       "      <td>1141</td>\n",
       "    </tr>\n",
       "    <tr>\n",
       "      <th>ruffled</th>\n",
       "      <td>35577</td>\n",
       "      <td>55532.0</td>\n",
       "      <td>20388.0</td>\n",
       "      <td>7374</td>\n",
       "    </tr>\n",
       "    <tr>\n",
       "      <th>slash-neck</th>\n",
       "      <td>16412</td>\n",
       "      <td>36571.0</td>\n",
       "      <td>11547.0</td>\n",
       "      <td>3866</td>\n",
       "    </tr>\n",
       "    <tr>\n",
       "      <th>sqare-collor</th>\n",
       "      <td>8459</td>\n",
       "      <td>16503.0</td>\n",
       "      <td>5683.0</td>\n",
       "      <td>1750</td>\n",
       "    </tr>\n",
       "    <tr>\n",
       "      <th>sweetheart</th>\n",
       "      <td>581</td>\n",
       "      <td>1557.0</td>\n",
       "      <td>409.0</td>\n",
       "      <td>181</td>\n",
       "    </tr>\n",
       "    <tr>\n",
       "      <th>turndowncollor</th>\n",
       "      <td>17825</td>\n",
       "      <td>34629.0</td>\n",
       "      <td>12548.0</td>\n",
       "      <td>3494</td>\n",
       "    </tr>\n",
       "    <tr>\n",
       "      <th>v-neck</th>\n",
       "      <td>141630</td>\n",
       "      <td>280542.0</td>\n",
       "      <td>97633.0</td>\n",
       "      <td>29835</td>\n",
       "    </tr>\n",
       "  </tbody>\n",
       "</table>\n",
       "</div>"
      ],
      "text/plain": [
       "                 Summer    Autumn    Winter  Spring\n",
       "NeckLine                                           \n",
       "Scoop               657    1802.0     478.0     198\n",
       "Sweetheart         3072    8341.0    2264.0     911\n",
       "backless            600    1690.0     408.0     190\n",
       "boat-neck         13032   27968.0    9265.0    2784\n",
       "bowneck            4583   12371.0    3354.0    1325\n",
       "halter              505    1336.0     363.0     151\n",
       "mandarin-collor      63     158.0      53.0      15\n",
       "o-neck           431970  852040.0  299171.0   87921\n",
       "open               2040    3621.0    1330.0     405\n",
       "peterpan-collor    5429    9031.0    3307.0    1141\n",
       "ruffled           35577   55532.0   20388.0    7374\n",
       "slash-neck        16412   36571.0   11547.0    3866\n",
       "sqare-collor       8459   16503.0    5683.0    1750\n",
       "sweetheart          581    1557.0     409.0     181\n",
       "turndowncollor    17825   34629.0   12548.0    3494\n",
       "v-neck           141630  280542.0   97633.0   29835"
      ]
     },
     "execution_count": 93,
     "metadata": {},
     "output_type": "execute_result"
    }
   ],
   "source": [
    "NecklineCollection = inp0.groupby(\"NeckLine\")[['Summer',\"Autumn\",\"Winter\",\"Spring\"]].sum()\n",
    "NecklineCollection"
   ]
  },
  {
   "cell_type": "code",
   "execution_count": 94,
   "metadata": {},
   "outputs": [],
   "source": [
    "inp0.replace(NecklineCollection[NecklineCollection.sum(axis=1) < 50000].index,\"Others\",inplace=True)"
   ]
  },
  {
   "cell_type": "code",
   "execution_count": 95,
   "metadata": {},
   "outputs": [
    {
     "data": {
      "text/plain": [
       "NeckLine\n",
       "o-neck            54.140127\n",
       "v-neck            24.840764\n",
       "Others             8.917197\n",
       "slash-neck         5.307856\n",
       "boat-neck          3.821656\n",
       "turndowncollor     2.760085\n",
       "ruffled            0.212314\n",
       "Name: proportion, dtype: float64"
      ]
     },
     "execution_count": 95,
     "metadata": {},
     "output_type": "execute_result"
    }
   ],
   "source": [
    "inp0.NeckLine.value_counts(normalize=True) * 100"
   ]
  },
  {
   "cell_type": "markdown",
   "metadata": {},
   "source": [
    "Club material, fabrictype, patterntype and decoration categories into \"Others\" which have less than 25000 sales across all the seasons"
   ]
  },
  {
   "cell_type": "code",
   "execution_count": 96,
   "metadata": {},
   "outputs": [
    {
     "data": {
      "text/html": [
       "<div>\n",
       "<style scoped>\n",
       "    .dataframe tbody tr th:only-of-type {\n",
       "        vertical-align: middle;\n",
       "    }\n",
       "\n",
       "    .dataframe tbody tr th {\n",
       "        vertical-align: top;\n",
       "    }\n",
       "\n",
       "    .dataframe thead th {\n",
       "        text-align: right;\n",
       "    }\n",
       "</style>\n",
       "<table border=\"1\" class=\"dataframe\">\n",
       "  <thead>\n",
       "    <tr style=\"text-align: right;\">\n",
       "      <th></th>\n",
       "      <th>Summer</th>\n",
       "      <th>Autumn</th>\n",
       "      <th>Winter</th>\n",
       "      <th>Spring</th>\n",
       "    </tr>\n",
       "    <tr>\n",
       "      <th>Material</th>\n",
       "      <th></th>\n",
       "      <th></th>\n",
       "      <th></th>\n",
       "      <th></th>\n",
       "    </tr>\n",
       "  </thead>\n",
       "  <tbody>\n",
       "    <tr>\n",
       "      <th>Missing</th>\n",
       "      <td>172775</td>\n",
       "      <td>336779.0</td>\n",
       "      <td>118652.0</td>\n",
       "      <td>35006</td>\n",
       "    </tr>\n",
       "    <tr>\n",
       "      <th>acrylic</th>\n",
       "      <td>2822</td>\n",
       "      <td>6628.0</td>\n",
       "      <td>1956.0</td>\n",
       "      <td>749</td>\n",
       "    </tr>\n",
       "    <tr>\n",
       "      <th>cashmere</th>\n",
       "      <td>1450</td>\n",
       "      <td>2920.0</td>\n",
       "      <td>985.0</td>\n",
       "      <td>312</td>\n",
       "    </tr>\n",
       "    <tr>\n",
       "      <th>chiffonfabric</th>\n",
       "      <td>92292</td>\n",
       "      <td>163959.0</td>\n",
       "      <td>57014.0</td>\n",
       "      <td>20019</td>\n",
       "    </tr>\n",
       "    <tr>\n",
       "      <th>cotton</th>\n",
       "      <td>186262</td>\n",
       "      <td>372874.0</td>\n",
       "      <td>129821.0</td>\n",
       "      <td>38460</td>\n",
       "    </tr>\n",
       "    <tr>\n",
       "      <th>lace</th>\n",
       "      <td>1773</td>\n",
       "      <td>3046.0</td>\n",
       "      <td>1127.0</td>\n",
       "      <td>350</td>\n",
       "    </tr>\n",
       "    <tr>\n",
       "      <th>linen</th>\n",
       "      <td>5357</td>\n",
       "      <td>10008.0</td>\n",
       "      <td>3723.0</td>\n",
       "      <td>1061</td>\n",
       "    </tr>\n",
       "    <tr>\n",
       "      <th>lycra</th>\n",
       "      <td>3224</td>\n",
       "      <td>6383.0</td>\n",
       "      <td>2389.0</td>\n",
       "      <td>559</td>\n",
       "    </tr>\n",
       "    <tr>\n",
       "      <th>microfiber</th>\n",
       "      <td>6454</td>\n",
       "      <td>17967.0</td>\n",
       "      <td>6571.0</td>\n",
       "      <td>825</td>\n",
       "    </tr>\n",
       "    <tr>\n",
       "      <th>milksilk</th>\n",
       "      <td>8772</td>\n",
       "      <td>17107.0</td>\n",
       "      <td>6024.0</td>\n",
       "      <td>1807</td>\n",
       "    </tr>\n",
       "    <tr>\n",
       "      <th>mix</th>\n",
       "      <td>17684</td>\n",
       "      <td>34817.0</td>\n",
       "      <td>12723.0</td>\n",
       "      <td>3266</td>\n",
       "    </tr>\n",
       "    <tr>\n",
       "      <th>modal</th>\n",
       "      <td>147</td>\n",
       "      <td>249.0</td>\n",
       "      <td>95.0</td>\n",
       "      <td>31</td>\n",
       "    </tr>\n",
       "    <tr>\n",
       "      <th>model</th>\n",
       "      <td>50</td>\n",
       "      <td>144.0</td>\n",
       "      <td>43.0</td>\n",
       "      <td>8</td>\n",
       "    </tr>\n",
       "    <tr>\n",
       "      <th>nylon</th>\n",
       "      <td>6576</td>\n",
       "      <td>16421.0</td>\n",
       "      <td>4781.0</td>\n",
       "      <td>1705</td>\n",
       "    </tr>\n",
       "    <tr>\n",
       "      <th>other</th>\n",
       "      <td>1153</td>\n",
       "      <td>3097.0</td>\n",
       "      <td>901.0</td>\n",
       "      <td>307</td>\n",
       "    </tr>\n",
       "    <tr>\n",
       "      <th>polyster</th>\n",
       "      <td>125980</td>\n",
       "      <td>248502.0</td>\n",
       "      <td>87241.0</td>\n",
       "      <td>26156</td>\n",
       "    </tr>\n",
       "    <tr>\n",
       "      <th>rayon</th>\n",
       "      <td>17819</td>\n",
       "      <td>32311.0</td>\n",
       "      <td>11331.0</td>\n",
       "      <td>3747</td>\n",
       "    </tr>\n",
       "    <tr>\n",
       "      <th>shiffon</th>\n",
       "      <td>1877</td>\n",
       "      <td>4575.0</td>\n",
       "      <td>1353.0</td>\n",
       "      <td>490</td>\n",
       "    </tr>\n",
       "    <tr>\n",
       "      <th>silk</th>\n",
       "      <td>22450</td>\n",
       "      <td>50129.0</td>\n",
       "      <td>16159.0</td>\n",
       "      <td>5129</td>\n",
       "    </tr>\n",
       "    <tr>\n",
       "      <th>sill</th>\n",
       "      <td>532</td>\n",
       "      <td>1514.0</td>\n",
       "      <td>662.0</td>\n",
       "      <td>11</td>\n",
       "    </tr>\n",
       "    <tr>\n",
       "      <th>spandex</th>\n",
       "      <td>5930</td>\n",
       "      <td>11333.0</td>\n",
       "      <td>3924.0</td>\n",
       "      <td>1215</td>\n",
       "    </tr>\n",
       "    <tr>\n",
       "      <th>viscos</th>\n",
       "      <td>897</td>\n",
       "      <td>2407.0</td>\n",
       "      <td>576.0</td>\n",
       "      <td>300</td>\n",
       "    </tr>\n",
       "    <tr>\n",
       "      <th>wool</th>\n",
       "      <td>159</td>\n",
       "      <td>522.0</td>\n",
       "      <td>150.0</td>\n",
       "      <td>28</td>\n",
       "    </tr>\n",
       "  </tbody>\n",
       "</table>\n",
       "</div>"
      ],
      "text/plain": [
       "               Summer    Autumn    Winter  Spring\n",
       "Material                                         \n",
       "Missing        172775  336779.0  118652.0   35006\n",
       "acrylic          2822    6628.0    1956.0     749\n",
       "cashmere         1450    2920.0     985.0     312\n",
       "chiffonfabric   92292  163959.0   57014.0   20019\n",
       "cotton         186262  372874.0  129821.0   38460\n",
       "lace             1773    3046.0    1127.0     350\n",
       "linen            5357   10008.0    3723.0    1061\n",
       "lycra            3224    6383.0    2389.0     559\n",
       "microfiber       6454   17967.0    6571.0     825\n",
       "milksilk         8772   17107.0    6024.0    1807\n",
       "mix             17684   34817.0   12723.0    3266\n",
       "modal             147     249.0      95.0      31\n",
       "model              50     144.0      43.0       8\n",
       "nylon            6576   16421.0    4781.0    1705\n",
       "other            1153    3097.0     901.0     307\n",
       "polyster       125980  248502.0   87241.0   26156\n",
       "rayon           17819   32311.0   11331.0    3747\n",
       "shiffon          1877    4575.0    1353.0     490\n",
       "silk            22450   50129.0   16159.0    5129\n",
       "sill              532    1514.0     662.0      11\n",
       "spandex          5930   11333.0    3924.0    1215\n",
       "viscos            897    2407.0     576.0     300\n",
       "wool              159     522.0     150.0      28"
      ]
     },
     "execution_count": 96,
     "metadata": {},
     "output_type": "execute_result"
    }
   ],
   "source": [
    "# Group \"material\" categories into \"Others\" which have less than 25000 sales across all the seasons.\n",
    "Material = inp0.groupby(\"Material\")[['Summer',\"Autumn\",\"Winter\",\"Spring\"]].sum()\n",
    "Material"
   ]
  },
  {
   "cell_type": "code",
   "execution_count": 97,
   "metadata": {},
   "outputs": [],
   "source": [
    "inp0.replace(Material[Material.sum(axis=1) < 25000].index,\"Others\",inplace=True)"
   ]
  },
  {
   "cell_type": "code",
   "execution_count": 98,
   "metadata": {},
   "outputs": [
    {
     "data": {
      "text/plain": [
       "Material\n",
       "cotton           30.573248\n",
       "Missing          24.628450\n",
       "polyster         19.532909\n",
       "Others            6.157113\n",
       "silk              5.520170\n",
       "chiffonfabric     5.095541\n",
       "mix               2.547771\n",
       "nylon             2.123142\n",
       "rayon             2.123142\n",
       "milksilk          1.061571\n",
       "microfiber        0.636943\n",
       "Name: proportion, dtype: float64"
      ]
     },
     "execution_count": 98,
     "metadata": {},
     "output_type": "execute_result"
    }
   ],
   "source": [
    "inp0.Material.value_counts(normalize=True) * 100"
   ]
  },
  {
   "cell_type": "code",
   "execution_count": 100,
   "metadata": {},
   "outputs": [
    {
     "data": {
      "text/html": [
       "<div>\n",
       "<style scoped>\n",
       "    .dataframe tbody tr th:only-of-type {\n",
       "        vertical-align: middle;\n",
       "    }\n",
       "\n",
       "    .dataframe tbody tr th {\n",
       "        vertical-align: top;\n",
       "    }\n",
       "\n",
       "    .dataframe thead th {\n",
       "        text-align: right;\n",
       "    }\n",
       "</style>\n",
       "<table border=\"1\" class=\"dataframe\">\n",
       "  <thead>\n",
       "    <tr style=\"text-align: right;\">\n",
       "      <th></th>\n",
       "      <th>Summer</th>\n",
       "      <th>Autumn</th>\n",
       "      <th>Winter</th>\n",
       "      <th>Spring</th>\n",
       "    </tr>\n",
       "    <tr>\n",
       "      <th>FabricType</th>\n",
       "      <th></th>\n",
       "      <th></th>\n",
       "      <th></th>\n",
       "      <th></th>\n",
       "    </tr>\n",
       "  </thead>\n",
       "  <tbody>\n",
       "    <tr>\n",
       "      <th>Corduroy</th>\n",
       "      <td>2279</td>\n",
       "      <td>6259.0</td>\n",
       "      <td>1640.0</td>\n",
       "      <td>688</td>\n",
       "    </tr>\n",
       "    <tr>\n",
       "      <th>Missing</th>\n",
       "      <td>310173</td>\n",
       "      <td>626217.0</td>\n",
       "      <td>216901.0</td>\n",
       "      <td>64656</td>\n",
       "    </tr>\n",
       "    <tr>\n",
       "      <th>Others</th>\n",
       "      <td>6880</td>\n",
       "      <td>17168.0</td>\n",
       "      <td>4917.0</td>\n",
       "      <td>1854</td>\n",
       "    </tr>\n",
       "    <tr>\n",
       "      <th>batik</th>\n",
       "      <td>864</td>\n",
       "      <td>2205.0</td>\n",
       "      <td>854.0</td>\n",
       "      <td>98</td>\n",
       "    </tr>\n",
       "    <tr>\n",
       "      <th>broadcloth</th>\n",
       "      <td>30718</td>\n",
       "      <td>61546.0</td>\n",
       "      <td>21585.0</td>\n",
       "      <td>6149</td>\n",
       "    </tr>\n",
       "    <tr>\n",
       "      <th>chiffon</th>\n",
       "      <td>265067</td>\n",
       "      <td>502947.0</td>\n",
       "      <td>176263.0</td>\n",
       "      <td>54883</td>\n",
       "    </tr>\n",
       "    <tr>\n",
       "      <th>dobby</th>\n",
       "      <td>744</td>\n",
       "      <td>1374.0</td>\n",
       "      <td>497.0</td>\n",
       "      <td>146</td>\n",
       "    </tr>\n",
       "    <tr>\n",
       "      <th>flannael</th>\n",
       "      <td>1751</td>\n",
       "      <td>3462.0</td>\n",
       "      <td>1301.0</td>\n",
       "      <td>321</td>\n",
       "    </tr>\n",
       "    <tr>\n",
       "      <th>flannel</th>\n",
       "      <td>4289</td>\n",
       "      <td>6995.0</td>\n",
       "      <td>2595.0</td>\n",
       "      <td>854</td>\n",
       "    </tr>\n",
       "    <tr>\n",
       "      <th>jersey</th>\n",
       "      <td>32635</td>\n",
       "      <td>59360.0</td>\n",
       "      <td>21500.0</td>\n",
       "      <td>6457</td>\n",
       "    </tr>\n",
       "    <tr>\n",
       "      <th>knitted</th>\n",
       "      <td>3</td>\n",
       "      <td>8.0</td>\n",
       "      <td>2.0</td>\n",
       "      <td>1</td>\n",
       "    </tr>\n",
       "    <tr>\n",
       "      <th>knitting</th>\n",
       "      <td>9</td>\n",
       "      <td>21.0</td>\n",
       "      <td>7.0</td>\n",
       "      <td>2</td>\n",
       "    </tr>\n",
       "    <tr>\n",
       "      <th>organza</th>\n",
       "      <td>160</td>\n",
       "      <td>442.0</td>\n",
       "      <td>109.0</td>\n",
       "      <td>51</td>\n",
       "    </tr>\n",
       "    <tr>\n",
       "      <th>poplin</th>\n",
       "      <td>333</td>\n",
       "      <td>787.0</td>\n",
       "      <td>239.0</td>\n",
       "      <td>84</td>\n",
       "    </tr>\n",
       "    <tr>\n",
       "      <th>satin</th>\n",
       "      <td>2376</td>\n",
       "      <td>5879.0</td>\n",
       "      <td>2807.0</td>\n",
       "      <td>341</td>\n",
       "    </tr>\n",
       "    <tr>\n",
       "      <th>sattin</th>\n",
       "      <td>1986</td>\n",
       "      <td>5580.0</td>\n",
       "      <td>1651.0</td>\n",
       "      <td>456</td>\n",
       "    </tr>\n",
       "    <tr>\n",
       "      <th>terry</th>\n",
       "      <td>80</td>\n",
       "      <td>208.0</td>\n",
       "      <td>60.0</td>\n",
       "      <td>25</td>\n",
       "    </tr>\n",
       "    <tr>\n",
       "      <th>tulle</th>\n",
       "      <td>439</td>\n",
       "      <td>1231.0</td>\n",
       "      <td>313.0</td>\n",
       "      <td>136</td>\n",
       "    </tr>\n",
       "    <tr>\n",
       "      <th>wollen</th>\n",
       "      <td>600</td>\n",
       "      <td>1658.0</td>\n",
       "      <td>416.0</td>\n",
       "      <td>184</td>\n",
       "    </tr>\n",
       "    <tr>\n",
       "      <th>worsted</th>\n",
       "      <td>21049</td>\n",
       "      <td>40345.0</td>\n",
       "      <td>14544.0</td>\n",
       "      <td>4155</td>\n",
       "    </tr>\n",
       "  </tbody>\n",
       "</table>\n",
       "</div>"
      ],
      "text/plain": [
       "            Summer    Autumn    Winter  Spring\n",
       "FabricType                                    \n",
       "Corduroy      2279    6259.0    1640.0     688\n",
       "Missing     310173  626217.0  216901.0   64656\n",
       "Others        6880   17168.0    4917.0    1854\n",
       "batik          864    2205.0     854.0      98\n",
       "broadcloth   30718   61546.0   21585.0    6149\n",
       "chiffon     265067  502947.0  176263.0   54883\n",
       "dobby          744    1374.0     497.0     146\n",
       "flannael      1751    3462.0    1301.0     321\n",
       "flannel       4289    6995.0    2595.0     854\n",
       "jersey       32635   59360.0   21500.0    6457\n",
       "knitted          3       8.0       2.0       1\n",
       "knitting         9      21.0       7.0       2\n",
       "organza        160     442.0     109.0      51\n",
       "poplin         333     787.0     239.0      84\n",
       "satin         2376    5879.0    2807.0     341\n",
       "sattin        1986    5580.0    1651.0     456\n",
       "terry           80     208.0      60.0      25\n",
       "tulle          439    1231.0     313.0     136\n",
       "wollen         600    1658.0     416.0     184\n",
       "worsted      21049   40345.0   14544.0    4155"
      ]
     },
     "execution_count": 100,
     "metadata": {},
     "output_type": "execute_result"
    }
   ],
   "source": [
    "Fabric = inp0.groupby(\"FabricType\")[['Summer',\"Autumn\",\"Winter\",\"Spring\"]].sum()\n",
    "Fabric"
   ]
  },
  {
   "cell_type": "code",
   "execution_count": 101,
   "metadata": {},
   "outputs": [],
   "source": [
    "# Group \"fabric type\" categories into \"Others\" which have less than 25000 sales across all the seasons.\n",
    "inp0.replace(Fabric[Fabric.sum(axis=1) < 25000].index,\"Others\",inplace=True)"
   ]
  },
  {
   "cell_type": "code",
   "execution_count": 102,
   "metadata": {},
   "outputs": [
    {
     "data": {
      "text/plain": [
       "FabricType\n",
       "Missing       250\n",
       "chiffon       128\n",
       "Others         34\n",
       "broadcloth     29\n",
       "worsted        18\n",
       "jersey         12\n",
       "Name: count, dtype: int64"
      ]
     },
     "execution_count": 102,
     "metadata": {},
     "output_type": "execute_result"
    }
   ],
   "source": [
    "inp0.FabricType.value_counts()"
   ]
  },
  {
   "cell_type": "code",
   "execution_count": 106,
   "metadata": {},
   "outputs": [
    {
     "data": {
      "text/html": [
       "<div>\n",
       "<style scoped>\n",
       "    .dataframe tbody tr th:only-of-type {\n",
       "        vertical-align: middle;\n",
       "    }\n",
       "\n",
       "    .dataframe tbody tr th {\n",
       "        vertical-align: top;\n",
       "    }\n",
       "\n",
       "    .dataframe thead th {\n",
       "        text-align: right;\n",
       "    }\n",
       "</style>\n",
       "<table border=\"1\" class=\"dataframe\">\n",
       "  <thead>\n",
       "    <tr style=\"text-align: right;\">\n",
       "      <th></th>\n",
       "      <th>Summer</th>\n",
       "      <th>Autumn</th>\n",
       "      <th>Winter</th>\n",
       "      <th>Spring</th>\n",
       "    </tr>\n",
       "    <tr>\n",
       "      <th>Pattern Type</th>\n",
       "      <th></th>\n",
       "      <th></th>\n",
       "      <th></th>\n",
       "      <th></th>\n",
       "    </tr>\n",
       "  </thead>\n",
       "  <tbody>\n",
       "    <tr>\n",
       "      <th>Missing</th>\n",
       "      <td>58662</td>\n",
       "      <td>133793.0</td>\n",
       "      <td>40719.0</td>\n",
       "      <td>14508</td>\n",
       "    </tr>\n",
       "    <tr>\n",
       "      <th>animal</th>\n",
       "      <td>53975</td>\n",
       "      <td>107604.0</td>\n",
       "      <td>39725.0</td>\n",
       "      <td>9969</td>\n",
       "    </tr>\n",
       "    <tr>\n",
       "      <th>character</th>\n",
       "      <td>993</td>\n",
       "      <td>1841.0</td>\n",
       "      <td>728.0</td>\n",
       "      <td>176</td>\n",
       "    </tr>\n",
       "    <tr>\n",
       "      <th>dot</th>\n",
       "      <td>70367</td>\n",
       "      <td>117370.0</td>\n",
       "      <td>43181.0</td>\n",
       "      <td>14173</td>\n",
       "    </tr>\n",
       "    <tr>\n",
       "      <th>floral</th>\n",
       "      <td>2807</td>\n",
       "      <td>5340.0</td>\n",
       "      <td>1933.0</td>\n",
       "      <td>534</td>\n",
       "    </tr>\n",
       "    <tr>\n",
       "      <th>geometric</th>\n",
       "      <td>33000</td>\n",
       "      <td>54131.0</td>\n",
       "      <td>20620.0</td>\n",
       "      <td>6584</td>\n",
       "    </tr>\n",
       "    <tr>\n",
       "      <th>leapord</th>\n",
       "      <td>623</td>\n",
       "      <td>1732.0</td>\n",
       "      <td>538.0</td>\n",
       "      <td>124</td>\n",
       "    </tr>\n",
       "    <tr>\n",
       "      <th>leopard</th>\n",
       "      <td>6912</td>\n",
       "      <td>12169.0</td>\n",
       "      <td>5022.0</td>\n",
       "      <td>1164</td>\n",
       "    </tr>\n",
       "    <tr>\n",
       "      <th>none</th>\n",
       "      <td>1291</td>\n",
       "      <td>3360.0</td>\n",
       "      <td>951.0</td>\n",
       "      <td>389</td>\n",
       "    </tr>\n",
       "    <tr>\n",
       "      <th>patchwork</th>\n",
       "      <td>48402</td>\n",
       "      <td>98233.0</td>\n",
       "      <td>33501.0</td>\n",
       "      <td>10224</td>\n",
       "    </tr>\n",
       "    <tr>\n",
       "      <th>plaid</th>\n",
       "      <td>346</td>\n",
       "      <td>703.0</td>\n",
       "      <td>256.0</td>\n",
       "      <td>64</td>\n",
       "    </tr>\n",
       "    <tr>\n",
       "      <th>print</th>\n",
       "      <td>105061</td>\n",
       "      <td>204370.0</td>\n",
       "      <td>72677.0</td>\n",
       "      <td>20917</td>\n",
       "    </tr>\n",
       "    <tr>\n",
       "      <th>solid</th>\n",
       "      <td>283496</td>\n",
       "      <td>567694.0</td>\n",
       "      <td>196353.0</td>\n",
       "      <td>59507</td>\n",
       "    </tr>\n",
       "    <tr>\n",
       "      <th>splice</th>\n",
       "      <td>1042</td>\n",
       "      <td>2990.0</td>\n",
       "      <td>810.0</td>\n",
       "      <td>270</td>\n",
       "    </tr>\n",
       "    <tr>\n",
       "      <th>striped</th>\n",
       "      <td>15458</td>\n",
       "      <td>32362.0</td>\n",
       "      <td>11187.0</td>\n",
       "      <td>2938</td>\n",
       "    </tr>\n",
       "  </tbody>\n",
       "</table>\n",
       "</div>"
      ],
      "text/plain": [
       "              Summer    Autumn    Winter  Spring\n",
       "Pattern Type                                    \n",
       "Missing        58662  133793.0   40719.0   14508\n",
       "animal         53975  107604.0   39725.0    9969\n",
       "character        993    1841.0     728.0     176\n",
       "dot            70367  117370.0   43181.0   14173\n",
       "floral          2807    5340.0    1933.0     534\n",
       "geometric      33000   54131.0   20620.0    6584\n",
       "leapord          623    1732.0     538.0     124\n",
       "leopard         6912   12169.0    5022.0    1164\n",
       "none            1291    3360.0     951.0     389\n",
       "patchwork      48402   98233.0   33501.0   10224\n",
       "plaid            346     703.0     256.0      64\n",
       "print         105061  204370.0   72677.0   20917\n",
       "solid         283496  567694.0  196353.0   59507\n",
       "splice          1042    2990.0     810.0     270\n",
       "striped        15458   32362.0   11187.0    2938"
      ]
     },
     "execution_count": 106,
     "metadata": {},
     "output_type": "execute_result"
    }
   ],
   "source": [
    "Pattern = inp0.groupby(\"Pattern Type\")[['Summer',\"Autumn\",\"Winter\",\"Spring\"]].sum()\n",
    "Pattern"
   ]
  },
  {
   "cell_type": "code",
   "execution_count": 107,
   "metadata": {},
   "outputs": [],
   "source": [
    "inp0.replace(Pattern[Pattern.sum(axis=1) < 25000].index,\"Others\",inplace=True)"
   ]
  },
  {
   "cell_type": "code",
   "execution_count": 109,
   "metadata": {},
   "outputs": [
    {
     "data": {
      "text/plain": [
       "Pattern Type\n",
       "solid        196\n",
       "Missing       98\n",
       "print         67\n",
       "patchwork     46\n",
       "animal        19\n",
       "striped       15\n",
       "dot           13\n",
       "Others         9\n",
       "geometric      5\n",
       "leopard        3\n",
       "Name: count, dtype: int64"
      ]
     },
     "execution_count": 109,
     "metadata": {},
     "output_type": "execute_result"
    }
   ],
   "source": [
    "inp0[\"Pattern Type\"].value_counts()"
   ]
  },
  {
   "cell_type": "code",
   "execution_count": 110,
   "metadata": {},
   "outputs": [
    {
     "data": {
      "text/html": [
       "<div>\n",
       "<style scoped>\n",
       "    .dataframe tbody tr th:only-of-type {\n",
       "        vertical-align: middle;\n",
       "    }\n",
       "\n",
       "    .dataframe tbody tr th {\n",
       "        vertical-align: top;\n",
       "    }\n",
       "\n",
       "    .dataframe thead th {\n",
       "        text-align: right;\n",
       "    }\n",
       "</style>\n",
       "<table border=\"1\" class=\"dataframe\">\n",
       "  <thead>\n",
       "    <tr style=\"text-align: right;\">\n",
       "      <th></th>\n",
       "      <th>Summer</th>\n",
       "      <th>Autumn</th>\n",
       "      <th>Winter</th>\n",
       "      <th>Spring</th>\n",
       "    </tr>\n",
       "    <tr>\n",
       "      <th>Decoration</th>\n",
       "      <th></th>\n",
       "      <th></th>\n",
       "      <th></th>\n",
       "      <th></th>\n",
       "    </tr>\n",
       "  </thead>\n",
       "  <tbody>\n",
       "    <tr>\n",
       "      <th>Missing</th>\n",
       "      <td>277261</td>\n",
       "      <td>557288.0</td>\n",
       "      <td>191284.0</td>\n",
       "      <td>58641</td>\n",
       "    </tr>\n",
       "    <tr>\n",
       "      <th>Others</th>\n",
       "      <td>113256</td>\n",
       "      <td>214973.0</td>\n",
       "      <td>76654.0</td>\n",
       "      <td>23256</td>\n",
       "    </tr>\n",
       "    <tr>\n",
       "      <th>Tiered</th>\n",
       "      <td>6366</td>\n",
       "      <td>10603.0</td>\n",
       "      <td>3910.0</td>\n",
       "      <td>1268</td>\n",
       "    </tr>\n",
       "    <tr>\n",
       "      <th>applique</th>\n",
       "      <td>17207</td>\n",
       "      <td>34862.0</td>\n",
       "      <td>12448.0</td>\n",
       "      <td>3356</td>\n",
       "    </tr>\n",
       "    <tr>\n",
       "      <th>beading</th>\n",
       "      <td>11737</td>\n",
       "      <td>25910.0</td>\n",
       "      <td>8839.0</td>\n",
       "      <td>2425</td>\n",
       "    </tr>\n",
       "    <tr>\n",
       "      <th>bow</th>\n",
       "      <td>72872</td>\n",
       "      <td>122906.0</td>\n",
       "      <td>44467.0</td>\n",
       "      <td>15114</td>\n",
       "    </tr>\n",
       "    <tr>\n",
       "      <th>button</th>\n",
       "      <td>5390</td>\n",
       "      <td>11615.0</td>\n",
       "      <td>4200.0</td>\n",
       "      <td>998</td>\n",
       "    </tr>\n",
       "    <tr>\n",
       "      <th>cascading</th>\n",
       "      <td>42</td>\n",
       "      <td>126.0</td>\n",
       "      <td>34.0</td>\n",
       "      <td>8</td>\n",
       "    </tr>\n",
       "    <tr>\n",
       "      <th>crystal</th>\n",
       "      <td>1346</td>\n",
       "      <td>3744.0</td>\n",
       "      <td>940.0</td>\n",
       "      <td>420</td>\n",
       "    </tr>\n",
       "    <tr>\n",
       "      <th>draped</th>\n",
       "      <td>1572</td>\n",
       "      <td>3923.0</td>\n",
       "      <td>1054.0</td>\n",
       "      <td>550</td>\n",
       "    </tr>\n",
       "    <tr>\n",
       "      <th>embroidary</th>\n",
       "      <td>10485</td>\n",
       "      <td>21692.0</td>\n",
       "      <td>7803.0</td>\n",
       "      <td>1888</td>\n",
       "    </tr>\n",
       "    <tr>\n",
       "      <th>feathers</th>\n",
       "      <td>14</td>\n",
       "      <td>35.0</td>\n",
       "      <td>12.0</td>\n",
       "      <td>3</td>\n",
       "    </tr>\n",
       "    <tr>\n",
       "      <th>flowers</th>\n",
       "      <td>1502</td>\n",
       "      <td>3702.0</td>\n",
       "      <td>1046.0</td>\n",
       "      <td>426</td>\n",
       "    </tr>\n",
       "    <tr>\n",
       "      <th>hollowout</th>\n",
       "      <td>16397</td>\n",
       "      <td>35807.0</td>\n",
       "      <td>12287.0</td>\n",
       "      <td>3267</td>\n",
       "    </tr>\n",
       "    <tr>\n",
       "      <th>pearls</th>\n",
       "      <td>8</td>\n",
       "      <td>24.0</td>\n",
       "      <td>7.0</td>\n",
       "      <td>2</td>\n",
       "    </tr>\n",
       "    <tr>\n",
       "      <th>plain</th>\n",
       "      <td>573</td>\n",
       "      <td>1600.0</td>\n",
       "      <td>399.0</td>\n",
       "      <td>168</td>\n",
       "    </tr>\n",
       "    <tr>\n",
       "      <th>pockets</th>\n",
       "      <td>5605</td>\n",
       "      <td>10887.0</td>\n",
       "      <td>3891.0</td>\n",
       "      <td>1149</td>\n",
       "    </tr>\n",
       "    <tr>\n",
       "      <th>rivet</th>\n",
       "      <td>3905</td>\n",
       "      <td>10066.0</td>\n",
       "      <td>2605.0</td>\n",
       "      <td>1225</td>\n",
       "    </tr>\n",
       "    <tr>\n",
       "      <th>ruched</th>\n",
       "      <td>1676</td>\n",
       "      <td>4574.0</td>\n",
       "      <td>1164.0</td>\n",
       "      <td>526</td>\n",
       "    </tr>\n",
       "    <tr>\n",
       "      <th>ruffles</th>\n",
       "      <td>48245</td>\n",
       "      <td>97978.0</td>\n",
       "      <td>36152.0</td>\n",
       "      <td>8812</td>\n",
       "    </tr>\n",
       "    <tr>\n",
       "      <th>sashes</th>\n",
       "      <td>74451</td>\n",
       "      <td>145771.0</td>\n",
       "      <td>50077.0</td>\n",
       "      <td>15460</td>\n",
       "    </tr>\n",
       "    <tr>\n",
       "      <th>sequined</th>\n",
       "      <td>12344</td>\n",
       "      <td>25044.0</td>\n",
       "      <td>8774.0</td>\n",
       "      <td>2537</td>\n",
       "    </tr>\n",
       "    <tr>\n",
       "      <th>tassel</th>\n",
       "      <td>181</td>\n",
       "      <td>562.0</td>\n",
       "      <td>154.0</td>\n",
       "      <td>42</td>\n",
       "    </tr>\n",
       "  </tbody>\n",
       "</table>\n",
       "</div>"
      ],
      "text/plain": [
       "            Summer    Autumn    Winter  Spring\n",
       "Decoration                                    \n",
       "Missing     277261  557288.0  191284.0   58641\n",
       "Others      113256  214973.0   76654.0   23256\n",
       "Tiered        6366   10603.0    3910.0    1268\n",
       "applique     17207   34862.0   12448.0    3356\n",
       "beading      11737   25910.0    8839.0    2425\n",
       "bow          72872  122906.0   44467.0   15114\n",
       "button        5390   11615.0    4200.0     998\n",
       "cascading       42     126.0      34.0       8\n",
       "crystal       1346    3744.0     940.0     420\n",
       "draped        1572    3923.0    1054.0     550\n",
       "embroidary   10485   21692.0    7803.0    1888\n",
       "feathers        14      35.0      12.0       3\n",
       "flowers       1502    3702.0    1046.0     426\n",
       "hollowout    16397   35807.0   12287.0    3267\n",
       "pearls           8      24.0       7.0       2\n",
       "plain          573    1600.0     399.0     168\n",
       "pockets       5605   10887.0    3891.0    1149\n",
       "rivet         3905   10066.0    2605.0    1225\n",
       "ruched        1676    4574.0    1164.0     526\n",
       "ruffles      48245   97978.0   36152.0    8812\n",
       "sashes       74451  145771.0   50077.0   15460\n",
       "sequined     12344   25044.0    8774.0    2537\n",
       "tassel         181     562.0     154.0      42"
      ]
     },
     "execution_count": 110,
     "metadata": {},
     "output_type": "execute_result"
    }
   ],
   "source": [
    "decoration = inp0.groupby(\"Decoration\")[['Summer',\"Autumn\",\"Winter\",\"Spring\"]].sum()\n",
    "decoration"
   ]
  },
  {
   "cell_type": "code",
   "execution_count": 111,
   "metadata": {},
   "outputs": [],
   "source": [
    "inp0.replace(decoration[decoration.sum(axis=1) < 25000].index,\"Others\",inplace=True)"
   ]
  },
  {
   "cell_type": "code",
   "execution_count": 112,
   "metadata": {},
   "outputs": [
    {
     "data": {
      "text/plain": [
       "Decoration\n",
       "Missing       220\n",
       "Others        100\n",
       "sashes         41\n",
       "beading        21\n",
       "hollowout      21\n",
       "applique       20\n",
       "ruffles        17\n",
       "bow            14\n",
       "sequined       13\n",
       "embroidary      4\n",
       "Name: count, dtype: int64"
      ]
     },
     "execution_count": 112,
     "metadata": {},
     "output_type": "execute_result"
    }
   ],
   "source": [
    "inp0.Decoration.value_counts()"
   ]
  },
  {
   "cell_type": "markdown",
   "metadata": {},
   "source": [
    "### Caregorical Ordered Univariate Analysis"
   ]
  },
  {
   "cell_type": "markdown",
   "metadata": {},
   "source": [
    "Which of the following is an unordered variable in the 'Attribute Dataset'?"
   ]
  },
  {
   "cell_type": "markdown",
   "metadata": {},
   "source": [
    "- Style\n",
    "- Price\n",
    "- Season\n",
    "- Size"
   ]
  },
  {
   "cell_type": "code",
   "execution_count": 113,
   "metadata": {},
   "outputs": [],
   "source": [
    "# Style"
   ]
  },
  {
   "cell_type": "markdown",
   "metadata": {},
   "source": [
    "### Numerical variable Univariate analysis:"
   ]
  },
  {
   "cell_type": "markdown",
   "metadata": {},
   "source": [
    "What is the approximate difference between the maximum value and 75th percentile in “Autumn” column.\n",
    "- Approx 54000\n",
    "- Approx 55000\n",
    "- Approx 52000\n",
    "- Approx 50000\n",
    "\n"
   ]
  },
  {
   "cell_type": "code",
   "execution_count": 114,
   "metadata": {},
   "outputs": [
    {
     "data": {
      "text/plain": [
       "count      471.000000\n",
       "mean      2852.849257\n",
       "std       5037.033044\n",
       "min          1.000000\n",
       "25%        410.500000\n",
       "50%       1334.000000\n",
       "75%       3126.000000\n",
       "max      55532.000000\n",
       "Name: Autumn, dtype: float64"
      ]
     },
     "execution_count": 114,
     "metadata": {},
     "output_type": "execute_result"
    }
   ],
   "source": [
    "# Describe the numerical variale: \"Autumn\".\n",
    "inp0.Autumn.describe()"
   ]
  },
  {
   "cell_type": "code",
   "execution_count": 115,
   "metadata": {},
   "outputs": [
    {
     "data": {
      "text/plain": [
       "52406.0"
      ]
     },
     "execution_count": 115,
     "metadata": {},
     "output_type": "execute_result"
    }
   ],
   "source": [
    "55532.0 - 3126.000000"
   ]
  },
  {
   "cell_type": "code",
   "execution_count": 117,
   "metadata": {},
   "outputs": [
    {
     "data": {
      "image/png": "[encoded data removed]",
      "text/plain": [
       "<Figure size 640x480 with 1 Axes>"
      ]
     },
     "metadata": {},
     "output_type": "display_data"
    }
   ],
   "source": [
    "# plot the boxplot of \"Autumn\" column.\n",
    "inp0.Autumn.plot.box()\n",
    "plt.show()"
   ]
  },
  {
   "cell_type": "markdown",
   "metadata": {},
   "source": [
    "Which of the following season has the highest difference between the maximum value and 99th quantile of sales?\n",
    "- Winter\n",
    "- Summer\n",
    "- Spring\n",
    "- Autumn\n"
   ]
  },
  {
   "cell_type": "code",
   "execution_count": 125,
   "metadata": {},
   "outputs": [
    {
     "data": {
      "text/plain": [
       "1.00    20388.0\n",
       "0.99     8985.3\n",
       "Name: Winter, dtype: float64"
      ]
     },
     "execution_count": 125,
     "metadata": {},
     "output_type": "execute_result"
    }
   ],
   "source": [
    "inp0.Winter.quantile([1.0,0.99])"
   ]
  },
  {
   "cell_type": "code",
   "execution_count": 120,
   "metadata": {},
   "outputs": [
    {
     "data": {
      "text/plain": [
       "11402.69999999999"
      ]
     },
     "execution_count": 120,
     "metadata": {},
     "output_type": "execute_result"
    }
   ],
   "source": [
    "# Find the maximum and 99th percentile of Winter season.\n",
    "inp0.Winter.quantile(1.0) - inp0.Winter.quantile(0.99)"
   ]
  },
  {
   "cell_type": "code",
   "execution_count": 121,
   "metadata": {},
   "outputs": [
    {
     "data": {
      "text/plain": [
       "21602.999999999996"
      ]
     },
     "execution_count": 121,
     "metadata": {},
     "output_type": "execute_result"
    }
   ],
   "source": [
    "# Find the maximum and 99th percentile of Summer season.\n",
    "inp0.Summer.quantile(1.0) - inp0.Summer.quantile(0.99)"
   ]
  },
  {
   "cell_type": "code",
   "execution_count": 122,
   "metadata": {},
   "outputs": [
    {
     "data": {
      "text/plain": [
       "4716.8"
      ]
     },
     "execution_count": 122,
     "metadata": {},
     "output_type": "execute_result"
    }
   ],
   "source": [
    "# Find the maximum and 99th percentile of Spring season.\n",
    "inp0.Spring.quantile(1.0) - inp0.Spring.quantile(0.99)"
   ]
  },
  {
   "cell_type": "code",
   "execution_count": 126,
   "metadata": {},
   "outputs": [
    {
     "data": {
      "text/plain": [
       "31397.999999999975"
      ]
     },
     "execution_count": 126,
     "metadata": {},
     "output_type": "execute_result"
    }
   ],
   "source": [
    "# Find the maximum and 99th percentile of Autumn season.\n",
    "inp0.Autumn.quantile(1.0) - inp0.Autumn.quantile(0.99)"
   ]
  },
  {
   "cell_type": "markdown",
   "metadata": {},
   "source": [
    "## Bivariate Analysis "
   ]
  },
  {
   "cell_type": "markdown",
   "metadata": {},
   "source": [
    "### Numerical- Categorical analysis"
   ]
  },
  {
   "cell_type": "markdown",
   "metadata": {},
   "source": [
    "Which of the following “Price” category has the lowest average value of rating?\n",
    "- very-high\n",
    "- Medium\n",
    "- Low\n",
    "- High\n"
   ]
  },
  {
   "cell_type": "code",
   "execution_count": null,
   "metadata": {},
   "outputs": [],
   "source": [
    "# Find the Mean of Ratings for each Price category.\n"
   ]
  },
  {
   "cell_type": "markdown",
   "metadata": {},
   "source": [
    "What is the median of the rating of “vintage” category in Style column?\n",
    "- 4.6\n",
    "- 4.7\n",
    "- 4.55\n",
    "- 0.00\n"
   ]
  },
  {
   "cell_type": "code",
   "execution_count": null,
   "metadata": {},
   "outputs": [],
   "source": [
    "# Find the median of Ratings for each Style category.\n"
   ]
  },
  {
   "cell_type": "markdown",
   "metadata": {},
   "source": [
    "Which of the following season has the highest average value of sale for “Recommendation” value equals to 1.\n",
    "- Summer\n",
    "- Spring\n",
    "- Autumn\n",
    "- Winter\n"
   ]
  },
  {
   "cell_type": "code",
   "execution_count": null,
   "metadata": {},
   "outputs": [],
   "source": [
    "# Summer sale vs Recommendation.\n"
   ]
  },
  {
   "cell_type": "code",
   "execution_count": null,
   "metadata": {},
   "outputs": [],
   "source": [
    "# Spring sale vs Recommendation.\n"
   ]
  },
  {
   "cell_type": "code",
   "execution_count": null,
   "metadata": {},
   "outputs": [],
   "source": [
    "# Autumn sale vs Recommendation.\n"
   ]
  },
  {
   "cell_type": "code",
   "execution_count": null,
   "metadata": {},
   "outputs": [],
   "source": [
    "# Winter sale vs Recommendation.\n"
   ]
  },
  {
   "cell_type": "markdown",
   "metadata": {},
   "source": [
    "### Categorical categorical bivariate analysis\n"
   ]
  },
  {
   "cell_type": "markdown",
   "metadata": {},
   "source": [
    "Which of the following size categories has the highest positive recommendations?\n",
    "- Medium and extra large\n",
    "- Extra large and small\n",
    "- Free and small\n",
    "- Free and medium\n"
   ]
  },
  {
   "cell_type": "code",
   "execution_count": null,
   "metadata": {},
   "outputs": [],
   "source": [
    "# Size vs Recommendation.\n"
   ]
  },
  {
   "cell_type": "markdown",
   "metadata": {},
   "source": [
    "### Multivariate analysis "
   ]
  },
  {
   "cell_type": "markdown",
   "metadata": {},
   "source": [
    "Which of the following pair of “Style” and “Price” category has the highest average of positive recommendations?\n",
    "- Price: medium and style: vintage\n",
    "- Price: medium and style: cute\n",
    "- Price: very high and style: party\n",
    "- Price: low and style: sexy\n"
   ]
  },
  {
   "cell_type": "code",
   "execution_count": null,
   "metadata": {},
   "outputs": [],
   "source": [
    "# plot the heat map of Style, price and Recommendation.\n"
   ]
  },
  {
   "cell_type": "markdown",
   "metadata": {},
   "source": [
    "Which of the following material type has no recommendation in summer and winter seasons?\n",
    "- Mix and Milksilk\n",
    "- Nylon and Rayon\n",
    "- Microfiber and Silk\n",
    "- Milksilk and Microfiber\n"
   ]
  },
  {
   "cell_type": "code",
   "execution_count": null,
   "metadata": {},
   "outputs": [],
   "source": [
    "# plot the heat map of Season, material and Recommendation.\n"
   ]
  }
 ],
 "metadata": {
  "kernelspec": {
   "display_name": "Python 3 (ipykernel)",
   "language": "python",
   "name": "python3"
  },
  "language_info": {
   "codemirror_mode": {
    "name": "ipython",
    "version": 3
   },
   "file_extension": ".py",
   "mimetype": "text/x-python",
   "name": "python",
   "nbconvert_exporter": "python",
   "pygments_lexer": "ipython3",
   "version": "3.11.7"
  }
 },
 "nbformat": 4,
 "nbformat_minor": 4
}
