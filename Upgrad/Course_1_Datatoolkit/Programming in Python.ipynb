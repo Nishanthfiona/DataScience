{
 "cells": [
  {
   "cell_type": "code",
   "execution_count": 1,
   "id": "87e113fc-352f-489b-8437-e22ef7a8c00e",
   "metadata": {},
   "outputs": [
    {
     "name": "stdout",
     "output_type": "stream",
     "text": [
      "64\n"
     ]
    }
   ],
   "source": [
    "p = 4**3\n",
    "print(p)"
   ]
  },
  {
   "cell_type": "code",
   "execution_count": 2,
   "id": "44fde17a-1aa5-43e2-ac70-11864b0c6375",
   "metadata": {},
   "outputs": [],
   "source": [
    "a = 21 % 4"
   ]
  },
  {
   "cell_type": "code",
   "execution_count": 3,
   "id": "e9318f80-3fcb-4d6f-b733-f05f67eafadd",
   "metadata": {},
   "outputs": [
    {
     "data": {
      "text/plain": [
       "1"
      ]
     },
     "execution_count": 3,
     "metadata": {},
     "output_type": "execute_result"
    }
   ],
   "source": [
    "a"
   ]
  },
  {
   "cell_type": "code",
   "execution_count": 4,
   "id": "4be775e2-dd3d-49f3-93ab-1700208b82d9",
   "metadata": {},
   "outputs": [
    {
     "name": "stdout",
     "output_type": "stream",
     "text": [
      "4\n"
     ]
    }
   ],
   "source": [
    "d = 23//5\n",
    "print(d)"
   ]
  },
  {
   "cell_type": "code",
   "execution_count": 5,
   "id": "46258f2c-1b01-4b9b-a37c-ac28960b32c3",
   "metadata": {},
   "outputs": [
    {
     "ename": "IndentationError",
     "evalue": "expected an indented block after 'if' statement on line 1 (595579375.py, line 3)",
     "output_type": "error",
     "traceback": [
      "\u001b[1;36m  Cell \u001b[1;32mIn[5], line 3\u001b[1;36m\u001b[0m\n\u001b[1;33m    print (True)\u001b[0m\n\u001b[1;37m    ^\u001b[0m\n\u001b[1;31mIndentationError\u001b[0m\u001b[1;31m:\u001b[0m expected an indented block after 'if' statement on line 1\n"
     ]
    }
   ],
   "source": [
    "\n",
    "if (1):\n",
    "\n",
    "print (True)"
   ]
  },
  {
   "cell_type": "code",
   "execution_count": 6,
   "id": "d7601c3a-28af-4d44-85ee-e5ab89029855",
   "metadata": {},
   "outputs": [
    {
     "name": "stdout",
     "output_type": "stream",
     "text": [
      "True\n"
     ]
    }
   ],
   "source": [
    "if (1):\n",
    "\n",
    "    print (True)"
   ]
  },
  {
   "cell_type": "code",
   "execution_count": 7,
   "id": "96333d67-b9ad-43b3-b43a-1edc93b928d1",
   "metadata": {},
   "outputs": [
    {
     "ename": "SyntaxError",
     "evalue": "invalid syntax (2700202895.py, line 1)",
     "output_type": "error",
     "traceback": [
      "\u001b[1;36m  Cell \u001b[1;32mIn[7], line 1\u001b[1;36m\u001b[0m\n\u001b[1;33m    if (1) print(True)\u001b[0m\n\u001b[1;37m           ^\u001b[0m\n\u001b[1;31mSyntaxError\u001b[0m\u001b[1;31m:\u001b[0m invalid syntax\n"
     ]
    }
   ],
   "source": [
    "\n",
    "if (1) print(True)"
   ]
  },
  {
   "cell_type": "code",
   "execution_count": 8,
   "id": "0d99410e-e35c-46b6-b400-52d25e13a39b",
   "metadata": {},
   "outputs": [
    {
     "name": "stdout",
     "output_type": "stream",
     "text": [
      "True\n"
     ]
    }
   ],
   "source": [
    "if (-1):\n",
    "\n",
    "    print('True')"
   ]
  },
  {
   "cell_type": "code",
   "execution_count": 9,
   "id": "7a4376ec-9422-4175-92c1-1af099496018",
   "metadata": {},
   "outputs": [
    {
     "name": "stdout",
     "output_type": "stream",
     "text": [
      "True\n"
     ]
    }
   ],
   "source": [
    "if (1):\n",
    "\n",
    "    print ('True')"
   ]
  },
  {
   "cell_type": "code",
   "execution_count": 10,
   "id": "7a22db8b-a826-4d00-b111-21485263f11e",
   "metadata": {},
   "outputs": [
    {
     "ename": "SyntaxError",
     "evalue": "expected ':' (2373447202.py, line 1)",
     "output_type": "error",
     "traceback": [
      "\u001b[1;36m  Cell \u001b[1;32mIn[10], line 1\u001b[1;36m\u001b[0m\n\u001b[1;33m    if (1)\u001b[0m\n\u001b[1;37m          ^\u001b[0m\n\u001b[1;31mSyntaxError\u001b[0m\u001b[1;31m:\u001b[0m expected ':'\n"
     ]
    }
   ],
   "source": [
    "if (1)\n",
    "\n",
    "    print (True)"
   ]
  },
  {
   "cell_type": "code",
   "execution_count": 11,
   "id": "f6e3786c-b19b-4ffb-8ca1-e3dc7047e4a3",
   "metadata": {},
   "outputs": [
    {
     "name": "stdout",
     "output_type": "stream",
     "text": [
      "0\n",
      "1\n",
      "2\n"
     ]
    }
   ],
   "source": [
    "for i in range(3):\n",
    "    print(i)"
   ]
  },
  {
   "cell_type": "code",
   "execution_count": 12,
   "id": "326ab4e5-dc4a-497d-b8ef-04bd53e9bbe0",
   "metadata": {},
   "outputs": [
    {
     "name": "stdout",
     "output_type": "stream",
     "text": [
      "11 12 13 \n",
      "14\n"
     ]
    }
   ],
   "source": [
    "print('11 12 13 \\n14')"
   ]
  },
  {
   "cell_type": "code",
   "execution_count": 13,
   "id": "bab8c8e2-8446-4098-946b-91f2e3fa7f19",
   "metadata": {},
   "outputs": [
    {
     "name": "stdout",
     "output_type": "stream",
     "text": [
      "36\n",
      "14\n"
     ]
    }
   ],
   "source": [
    "a=11\n",
    "\n",
    "b=12\n",
    "\n",
    "c=13 \n",
    "\n",
    "d=14\n",
    "\n",
    "print(a+b+c)\n",
    "\n",
    "print(d)"
   ]
  },
  {
   "cell_type": "code",
   "execution_count": 14,
   "id": "30d16c40-ff50-4d6a-9062-77e06fa06db6",
   "metadata": {},
   "outputs": [
    {
     "name": "stdout",
     "output_type": "stream",
     "text": [
      "11 12 13\n",
      "14\n"
     ]
    }
   ],
   "source": [
    "a=11\n",
    "\n",
    "b=12\n",
    "\n",
    "c=13 \n",
    "\n",
    "d=14\n",
    "\n",
    "print(a,b,c)\n",
    "\n",
    "print(d)"
   ]
  },
  {
   "cell_type": "code",
   "execution_count": 15,
   "id": "04e83553-2eff-448d-8af2-eb83552c1596",
   "metadata": {},
   "outputs": [
    {
     "name": "stdout",
     "output_type": "stream",
     "text": [
      "11 12 13\n",
      "14\n"
     ]
    }
   ],
   "source": [
    "\n",
    "a=11\n",
    "\n",
    "b=12\n",
    "\n",
    "c=13 \n",
    "\n",
    "d=14\n",
    "\n",
    "print('{0} {1} {2}'.format(a,b,c) )\n",
    "\n",
    "print(d)"
   ]
  },
  {
   "cell_type": "code",
   "execution_count": 16,
   "id": "e08662af-9e5e-4cfa-b2ea-45cf14b6ee3f",
   "metadata": {},
   "outputs": [
    {
     "name": "stdout",
     "output_type": "stream",
     "text": [
      "11 12 13\n",
      "14\n"
     ]
    }
   ],
   "source": [
    "a=11\n",
    "\n",
    "b=12\n",
    "\n",
    "c=13 \n",
    "\n",
    "d=14\n",
    "\n",
    "print('%d %d %d' %(a,b,c))\n",
    "\n",
    "print(d)"
   ]
  },
  {
   "cell_type": "code",
   "execution_count": 17,
   "id": "67b9c78b-f78c-4ea8-bc16-20a276a7effc",
   "metadata": {},
   "outputs": [
    {
     "name": "stdout",
     "output_type": "stream",
     "text": [
      "111213\n",
      "14\n"
     ]
    }
   ],
   "source": [
    "a=11\n",
    "\n",
    "b=12\n",
    "\n",
    "c=13 \n",
    "\n",
    "d=14\n",
    "\n",
    "print(f'{a}{b}{c}')\n",
    "\n",
    "print(d)"
   ]
  },
  {
   "cell_type": "code",
   "execution_count": null,
   "id": "3c604138-cf1d-4ec0-8780-a11b53fd5a5f",
   "metadata": {},
   "outputs": [],
   "source": []
  },
  {
   "cell_type": "markdown",
   "id": "a546f37e-01e3-42ba-a064-743ed0e3dc2c",
   "metadata": {},
   "source": [
    "#### Swapping\r\n",
    "Description\r\n",
    "You are given two integer variables,  x and y. You have to swap the values stored in x and y.\r\n",
    "\r\n",
    "----------------------------------------------------------------------\r\n",
    "Input:\r\n",
    "Two numbers x and y separated by a comma.\r\n",
    "\r\n",
    "Output:\r\n",
    "Print 5 lines. The first two lines will have values of variables shown before swapping, and the last two lines will have values of variables shown after swapping. The third line will be blank.\r\n",
    "\r\n",
    "----------------------------------------------------------------------\r\n",
    "Sample input:\r\n",
    "20, 50\r\n",
    "\r\n",
    "Sample output:\r\n",
    "x before swapping: 20\r\n",
    "y before swapping: 50\r\n",
    "\r\n",
    "x after swapping: 50\r\n",
    "y after swapping: 20\r\n",
    "\r\n",
    "\r\n",
    "Execution Time Limit\r\n",
    "20 seconds"
   ]
  },
  {
   "cell_type": "code",
   "execution_count": 18,
   "id": "da2b4aec-743d-469e-a706-73117c175d19",
   "metadata": {},
   "outputs": [
    {
     "name": "stdin",
     "output_type": "stream",
     "text": [
      " 19,20\n"
     ]
    },
    {
     "name": "stdout",
     "output_type": "stream",
     "text": [
      "x before swapping: 19\n",
      "y before swapping: 20\n",
      "\n",
      "x after swapping: 20\n",
      "y after swapping: 19\n"
     ]
    }
   ],
   "source": [
    "#Take input using input()\n",
    "\n",
    "#input() takes input in form of the string\n",
    "in_string=input()\n",
    "\n",
    "#here extract the two numbers from the string\n",
    "mylist = in_string.split(\",\")\n",
    "x = int(mylist[0])\n",
    "y = int(mylist[1])\n",
    "#print x and y before swapping\n",
    "print('x before swapping: {0}'.format(x))\n",
    "print('y before swapping: {0}'.format(y))\n",
    "\n",
    "#Writing your swapping code here\n",
    "x,y = y,x\n",
    "print()\n",
    "print('x after swapping: {0}'.format(x))\n",
    "print('y after swapping: {0}'.format(y))\n",
    "#print x and y after swapping"
   ]
  },
  {
   "cell_type": "markdown",
   "id": "14542e85-529a-4e79-ac53-0165666ff8d8",
   "metadata": {},
   "source": [
    " #### Even Or Odd\r\n",
    "Description\r\n",
    "Given an integer, print whether it is Even or Odd.\r\n",
    "\r\n",
    "----------------------------------------------------------------------\r\n",
    "Input:\r\n",
    "An integer\r\n",
    "\r\n",
    "Output:\r\n",
    "'Even' or 'Odd'\r\n",
    "\r\n",
    "----------------------------------------------------------------------\r\n",
    "Sample input:\r\n",
    "3\r\n",
    "\r\n",
    "Sample output:\r\n",
    "Odd\r\n",
    "\r\n",
    "----------------------------------------------------------------------\r\n",
    "Sample input:\r\n",
    "6\r\n",
    "\r\n",
    "Sample output:\r\n",
    "Even\r\n",
    "Execution Time Limit\r\n",
    "20 seconds"
   ]
  },
  {
   "cell_type": "code",
   "execution_count": 19,
   "id": "c9d665c5-3e81-4610-9fc0-7e07322f1509",
   "metadata": {},
   "outputs": [
    {
     "name": "stdin",
     "output_type": "stream",
     "text": [
      " 2\n"
     ]
    },
    {
     "name": "stdout",
     "output_type": "stream",
     "text": [
      "Even\n"
     ]
    }
   ],
   "source": [
    "#Take input on your own\n",
    "num=int(input())\n",
    "\n",
    "#start writing your code from here\n",
    "if num%2==0:\n",
    "    print(\"Even\")\n",
    "else:\n",
    "    print(\"Odd\")\n"
   ]
  },
  {
   "cell_type": "code",
   "execution_count": null,
   "id": "11b5da7d-6b9a-4bb3-ab09-30aa5bf2731c",
   "metadata": {},
   "outputs": [],
   "source": []
  },
  {
   "cell_type": "code",
   "execution_count": null,
   "id": "e57c2307-04c1-4d32-bf40-56b74828fd5b",
   "metadata": {},
   "outputs": [],
   "source": []
  },
  {
   "cell_type": "code",
   "execution_count": null,
   "id": "48300087-c9e3-4db9-804f-b4e95a65944e",
   "metadata": {},
   "outputs": [],
   "source": []
  },
  {
   "cell_type": "code",
   "execution_count": null,
   "id": "13977e01-104c-4495-9917-9532ff1238b1",
   "metadata": {},
   "outputs": [],
   "source": []
  }
 ],
 "metadata": {
  "kernelspec": {
   "display_name": "Python 3 (ipykernel)",
   "language": "python",
   "name": "python3"
  },
  "language_info": {
   "codemirror_mode": {
    "name": "ipython",
    "version": 3
   },
   "file_extension": ".py",
   "mimetype": "text/x-python",
   "name": "python",
   "nbconvert_exporter": "python",
   "pygments_lexer": "ipython3",
   "version": "3.11.7"
  }
 },
 "nbformat": 4,
 "nbformat_minor": 5
}
