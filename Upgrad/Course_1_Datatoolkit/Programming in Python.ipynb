{
 "cells": [
  {
   "cell_type": "code",
   "execution_count": 1,
   "id": "87e113fc-352f-489b-8437-e22ef7a8c00e",
   "metadata": {},
   "outputs": [
    {
     "name": "stdout",
     "output_type": "stream",
     "text": [
      "64\n"
     ]
    }
   ],
   "source": [
    "p = 4**3\n",
    "print(p)"
   ]
  },
  {
   "cell_type": "code",
   "execution_count": 2,
   "id": "44fde17a-1aa5-43e2-ac70-11864b0c6375",
   "metadata": {},
   "outputs": [],
   "source": [
    "a = 21 % 4"
   ]
  },
  {
   "cell_type": "code",
   "execution_count": 3,
   "id": "e9318f80-3fcb-4d6f-b733-f05f67eafadd",
   "metadata": {},
   "outputs": [
    {
     "data": {
      "text/plain": [
       "1"
      ]
     },
     "execution_count": 3,
     "metadata": {},
     "output_type": "execute_result"
    }
   ],
   "source": [
    "a"
   ]
  },
  {
   "cell_type": "code",
   "execution_count": 4,
   "id": "4be775e2-dd3d-49f3-93ab-1700208b82d9",
   "metadata": {},
   "outputs": [
    {
     "name": "stdout",
     "output_type": "stream",
     "text": [
      "4\n"
     ]
    }
   ],
   "source": [
    "d = 23//5\n",
    "print(d)"
   ]
  },
  {
   "cell_type": "code",
   "execution_count": 5,
   "id": "46258f2c-1b01-4b9b-a37c-ac28960b32c3",
   "metadata": {},
   "outputs": [
    {
     "ename": "IndentationError",
     "evalue": "expected an indented block after 'if' statement on line 1 (595579375.py, line 3)",
     "output_type": "error",
     "traceback": [
      "\u001b[1;36m  Cell \u001b[1;32mIn[5], line 3\u001b[1;36m\u001b[0m\n\u001b[1;33m    print (True)\u001b[0m\n\u001b[1;37m    ^\u001b[0m\n\u001b[1;31mIndentationError\u001b[0m\u001b[1;31m:\u001b[0m expected an indented block after 'if' statement on line 1\n"
     ]
    }
   ],
   "source": [
    "\n",
    "if (1):\n",
    "\n",
    "print (True)"
   ]
  },
  {
   "cell_type": "code",
   "execution_count": 6,
   "id": "d7601c3a-28af-4d44-85ee-e5ab89029855",
   "metadata": {},
   "outputs": [
    {
     "name": "stdout",
     "output_type": "stream",
     "text": [
      "True\n"
     ]
    }
   ],
   "source": [
    "if (1):\n",
    "\n",
    "    print (True)"
   ]
  },
  {
   "cell_type": "code",
   "execution_count": 7,
   "id": "96333d67-b9ad-43b3-b43a-1edc93b928d1",
   "metadata": {},
   "outputs": [
    {
     "ename": "SyntaxError",
     "evalue": "invalid syntax (2700202895.py, line 1)",
     "output_type": "error",
     "traceback": [
      "\u001b[1;36m  Cell \u001b[1;32mIn[7], line 1\u001b[1;36m\u001b[0m\n\u001b[1;33m    if (1) print(True)\u001b[0m\n\u001b[1;37m           ^\u001b[0m\n\u001b[1;31mSyntaxError\u001b[0m\u001b[1;31m:\u001b[0m invalid syntax\n"
     ]
    }
   ],
   "source": [
    "\n",
    "if (1) print(True)"
   ]
  },
  {
   "cell_type": "code",
   "execution_count": 8,
   "id": "0d99410e-e35c-46b6-b400-52d25e13a39b",
   "metadata": {},
   "outputs": [
    {
     "name": "stdout",
     "output_type": "stream",
     "text": [
      "True\n"
     ]
    }
   ],
   "source": [
    "if (-1):\n",
    "\n",
    "    print('True')"
   ]
  },
  {
   "cell_type": "code",
   "execution_count": 9,
   "id": "7a4376ec-9422-4175-92c1-1af099496018",
   "metadata": {},
   "outputs": [
    {
     "name": "stdout",
     "output_type": "stream",
     "text": [
      "True\n"
     ]
    }
   ],
   "source": [
    "if (1):\n",
    "\n",
    "    print ('True')"
   ]
  },
  {
   "cell_type": "code",
   "execution_count": 10,
   "id": "7a22db8b-a826-4d00-b111-21485263f11e",
   "metadata": {},
   "outputs": [
    {
     "ename": "SyntaxError",
     "evalue": "expected ':' (2373447202.py, line 1)",
     "output_type": "error",
     "traceback": [
      "\u001b[1;36m  Cell \u001b[1;32mIn[10], line 1\u001b[1;36m\u001b[0m\n\u001b[1;33m    if (1)\u001b[0m\n\u001b[1;37m          ^\u001b[0m\n\u001b[1;31mSyntaxError\u001b[0m\u001b[1;31m:\u001b[0m expected ':'\n"
     ]
    }
   ],
   "source": [
    "if (1)\n",
    "\n",
    "    print (True)"
   ]
  },
  {
   "cell_type": "code",
   "execution_count": 11,
   "id": "f6e3786c-b19b-4ffb-8ca1-e3dc7047e4a3",
   "metadata": {},
   "outputs": [
    {
     "name": "stdout",
     "output_type": "stream",
     "text": [
      "0\n",
      "1\n",
      "2\n"
     ]
    }
   ],
   "source": [
    "for i in range(3):\n",
    "    print(i)"
   ]
  },
  {
   "cell_type": "code",
   "execution_count": 12,
   "id": "326ab4e5-dc4a-497d-b8ef-04bd53e9bbe0",
   "metadata": {},
   "outputs": [
    {
     "name": "stdout",
     "output_type": "stream",
     "text": [
      "11 12 13 \n",
      "14\n"
     ]
    }
   ],
   "source": [
    "print('11 12 13 \\n14')"
   ]
  },
  {
   "cell_type": "code",
   "execution_count": 13,
   "id": "bab8c8e2-8446-4098-946b-91f2e3fa7f19",
   "metadata": {},
   "outputs": [
    {
     "name": "stdout",
     "output_type": "stream",
     "text": [
      "36\n",
      "14\n"
     ]
    }
   ],
   "source": [
    "a=11\n",
    "\n",
    "b=12\n",
    "\n",
    "c=13 \n",
    "\n",
    "d=14\n",
    "\n",
    "print(a+b+c)\n",
    "\n",
    "print(d)"
   ]
  },
  {
   "cell_type": "code",
   "execution_count": 14,
   "id": "30d16c40-ff50-4d6a-9062-77e06fa06db6",
   "metadata": {},
   "outputs": [
    {
     "name": "stdout",
     "output_type": "stream",
     "text": [
      "11 12 13\n",
      "14\n"
     ]
    }
   ],
   "source": [
    "a=11\n",
    "\n",
    "b=12\n",
    "\n",
    "c=13 \n",
    "\n",
    "d=14\n",
    "\n",
    "print(a,b,c)\n",
    "\n",
    "print(d)"
   ]
  },
  {
   "cell_type": "code",
   "execution_count": 15,
   "id": "04e83553-2eff-448d-8af2-eb83552c1596",
   "metadata": {},
   "outputs": [
    {
     "name": "stdout",
     "output_type": "stream",
     "text": [
      "11 12 13\n",
      "14\n"
     ]
    }
   ],
   "source": [
    "\n",
    "a=11\n",
    "\n",
    "b=12\n",
    "\n",
    "c=13 \n",
    "\n",
    "d=14\n",
    "\n",
    "print('{0} {1} {2}'.format(a,b,c) )\n",
    "\n",
    "print(d)"
   ]
  },
  {
   "cell_type": "code",
   "execution_count": 16,
   "id": "e08662af-9e5e-4cfa-b2ea-45cf14b6ee3f",
   "metadata": {},
   "outputs": [
    {
     "name": "stdout",
     "output_type": "stream",
     "text": [
      "11 12 13\n",
      "14\n"
     ]
    }
   ],
   "source": [
    "a=11\n",
    "\n",
    "b=12\n",
    "\n",
    "c=13 \n",
    "\n",
    "d=14\n",
    "\n",
    "print('%d %d %d' %(a,b,c))\n",
    "\n",
    "print(d)"
   ]
  },
  {
   "cell_type": "code",
   "execution_count": 17,
   "id": "67b9c78b-f78c-4ea8-bc16-20a276a7effc",
   "metadata": {},
   "outputs": [
    {
     "name": "stdout",
     "output_type": "stream",
     "text": [
      "111213\n",
      "14\n"
     ]
    }
   ],
   "source": [
    "a=11\n",
    "\n",
    "b=12\n",
    "\n",
    "c=13 \n",
    "\n",
    "d=14\n",
    "\n",
    "print(f'{a}{b}{c}')\n",
    "\n",
    "print(d)"
   ]
  },
  {
   "cell_type": "code",
   "execution_count": null,
   "id": "3c604138-cf1d-4ec0-8780-a11b53fd5a5f",
   "metadata": {},
   "outputs": [],
   "source": []
  },
  {
   "cell_type": "markdown",
   "id": "a546f37e-01e3-42ba-a064-743ed0e3dc2c",
   "metadata": {},
   "source": [
    "#### Swapping\r\n",
    "Description\r\n",
    "You are given two integer variables,  x and y. You have to swap the values stored in x and y.\r\n",
    "\r\n",
    "----------------------------------------------------------------------\r\n",
    "Input:\r\n",
    "Two numbers x and y separated by a comma.\r\n",
    "\r\n",
    "Output:\r\n",
    "Print 5 lines. The first two lines will have values of variables shown before swapping, and the last two lines will have values of variables shown after swapping. The third line will be blank.\r\n",
    "\r\n",
    "----------------------------------------------------------------------\r\n",
    "Sample input:\r\n",
    "20, 50\r\n",
    "\r\n",
    "Sample output:\r\n",
    "x before swapping: 20\r\n",
    "y before swapping: 50\r\n",
    "\r\n",
    "x after swapping: 50\r\n",
    "y after swapping: 20\r\n",
    "\r\n",
    "\r\n",
    "Execution Time Limit\r\n",
    "20 seconds"
   ]
  },
  {
   "cell_type": "code",
   "execution_count": 18,
   "id": "da2b4aec-743d-469e-a706-73117c175d19",
   "metadata": {},
   "outputs": [
    {
     "name": "stdin",
     "output_type": "stream",
     "text": [
      " 19,20\n"
     ]
    },
    {
     "name": "stdout",
     "output_type": "stream",
     "text": [
      "x before swapping: 19\n",
      "y before swapping: 20\n",
      "\n",
      "x after swapping: 20\n",
      "y after swapping: 19\n"
     ]
    }
   ],
   "source": [
    "#Take input using input()\n",
    "\n",
    "#input() takes input in form of the string\n",
    "in_string=input()\n",
    "\n",
    "#here extract the two numbers from the string\n",
    "mylist = in_string.split(\",\")\n",
    "x = int(mylist[0])\n",
    "y = int(mylist[1])\n",
    "#print x and y before swapping\n",
    "print('x before swapping: {0}'.format(x))\n",
    "print('y before swapping: {0}'.format(y))\n",
    "\n",
    "#Writing your swapping code here\n",
    "x,y = y,x\n",
    "print()\n",
    "print('x after swapping: {0}'.format(x))\n",
    "print('y after swapping: {0}'.format(y))\n",
    "#print x and y after swapping"
   ]
  },
  {
   "cell_type": "markdown",
   "id": "14542e85-529a-4e79-ac53-0165666ff8d8",
   "metadata": {},
   "source": [
    " #### Even Or Odd\r\n",
    "Description\r\n",
    "Given an integer, print whether it is Even or Odd.\r\n",
    "\r\n",
    "----------------------------------------------------------------------\r\n",
    "Input:\r\n",
    "An integer\r\n",
    "\r\n",
    "Output:\r\n",
    "'Even' or 'Odd'\r\n",
    "\r\n",
    "----------------------------------------------------------------------\r\n",
    "Sample input:\r\n",
    "3\r\n",
    "\r\n",
    "Sample output:\r\n",
    "Odd\r\n",
    "\r\n",
    "----------------------------------------------------------------------\r\n",
    "Sample input:\r\n",
    "6\r\n",
    "\r\n",
    "Sample output:\r\n",
    "Even\r\n",
    "Execution Time Limit\r\n",
    "20 seconds"
   ]
  },
  {
   "cell_type": "code",
   "execution_count": 19,
   "id": "c9d665c5-3e81-4610-9fc0-7e07322f1509",
   "metadata": {},
   "outputs": [
    {
     "name": "stdin",
     "output_type": "stream",
     "text": [
      " 2\n"
     ]
    },
    {
     "name": "stdout",
     "output_type": "stream",
     "text": [
      "Even\n"
     ]
    }
   ],
   "source": [
    "#Take input on your own\n",
    "num=int(input())\n",
    "\n",
    "#start writing your code from here\n",
    "if num%2==0:\n",
    "    print(\"Even\")\n",
    "else:\n",
    "    print(\"Odd\")\n"
   ]
  },
  {
   "cell_type": "code",
   "execution_count": null,
   "id": "11b5da7d-6b9a-4bb3-ab09-30aa5bf2731c",
   "metadata": {},
   "outputs": [],
   "source": []
  },
  {
   "cell_type": "markdown",
   "id": "cae2c5ee-0b3b-4cbe-9dc7-a2e0bfbf860a",
   "metadata": {},
   "source": [
    "#### Alarm Clock\r\n",
    "Description\r\n",
    "You're trying to automate your alarm clock by writing a function for it. You're given a day of the week encoded as 1=Mon, 2=Tue, ... 6=Sat, 7=Sun, and whether you are on vacation as a boolean value (a boolean object is either True or False. Google \"booleans python\" to get a better understanding). Based on the day and whether you're on vacation, write a function that returns a time in form of a string indicating when the alarm clock should ring. \r\n",
    "\r\n",
    "When not on a vacation, on weekdays, the alarm should ring at \"7:00\" and on the weekends (Saturday and Sunday) it should ring at \"10:00\". \r\n",
    "\r\n",
    "While on a vacation, it should ring at \"10:00\" on weekdays. On vacation, it should not ring on weekends, that is, it should return \"off\".\r\n",
    "\r\n",
    "----------------------------------------------------------------------\r\n",
    "Input:\r\n",
    "The input will be a list of two elements. The first element will be an integer from 1 to 7, and the second element will be a boolean value.\r\n",
    "\r\n",
    "Output:\r\n",
    "The output will be a string denoting the time alarm will ring or 'off'\r\n",
    "\r\n",
    "----------------------------------------------------------------------\r\n",
    "Sample input:\r\n",
    "[7, True]\r\n",
    "\r\n",
    "Sample output:\r\n",
    "off\r\n",
    "\r\n",
    "----------------------------------------------------------------------\r\n",
    "Sample input:\r\n",
    "[3, True]\r\n",
    "\r\n",
    "Sample output:\r\n",
    "10:00\r\n",
    "\r\n",
    "----------------------------------------------------------------------\r\n",
    "\r\n",
    "Execution Time Limit\r\n",
    "20 seconds"
   ]
  },
  {
   "cell_type": "code",
   "execution_count": 20,
   "id": "48300087-c9e3-4db9-804f-b4e95a65944e",
   "metadata": {},
   "outputs": [
    {
     "name": "stdin",
     "output_type": "stream",
     "text": [
      " 5,True\n"
     ]
    },
    {
     "name": "stdout",
     "output_type": "stream",
     "text": [
      "10:00\n"
     ]
    }
   ],
   "source": [
    "#Take input here\n",
    "#we will take input using ast sys\n",
    "import ast\n",
    "input_str = input()\n",
    "\n",
    "#ast.literal_eval() will evaluate the string and make a data structure for the same\n",
    "#here the input is a list since input is in '[...]', so ast.literal_eval() will\n",
    "#make a list with the same data as passed\n",
    "input_list = ast.literal_eval(input_str)\n",
    "\n",
    "#the data or the two values in list is now changed to separate variables\n",
    "day_of_the_week = input_list[0] #first element is an integer denoting the day of the week\n",
    "is_on_vacation = input_list[1] #this is a boolean denoting if its vacation or not\n",
    "\n",
    "\n",
    "def alarm_time(day_of_the_week,is_on_vacation):\n",
    "    weekend = [6,7]\n",
    "    if is_on_vacation:\n",
    "        if day_of_the_week not in weekend:\n",
    "            return \"10:00\"\n",
    "        else:\n",
    "            return \"off\"\n",
    "    else:\n",
    "        if day_of_the_week not in weekend:\n",
    "            return \"7:00\"\n",
    "        else:\n",
    "            return \"10:00\"\n",
    "\n",
    "print(alarm_time(day_of_the_week,is_on_vacation))\n",
    "        "
   ]
  },
  {
   "cell_type": "markdown",
   "id": "83441591-dc82-447f-a4b6-c01e73338b0e",
   "metadata": {},
   "source": [
    "### Factorial\r\n",
    "Description\r\n",
    "Factorial is a mathematical function denoted by '!'. It is defined as\r\n",
    "\r\n",
    "n factorial = n!= 1*2*3...*(n-1)*n\r\n",
    "\r\n",
    "In this question, you have to make a function that will take an integer as input, and return the factorial of that integer if that integer is greater than or equal to zero and return -1 if the number is less than zero or negative.\r\n",
    "\r\n",
    "Note: the function doesn't return print the factorial but returns it.\r\n",
    "----------------------------------------------------------------------\r\n",
    "Input:\r\n",
    "An integer n\r\n",
    "\r\n",
    "Output:\r\n",
    "The function returns n! if n is greater than or equal to 0.\r\n",
    "0! = 1\r\n",
    "and the function returns -1 if the number is less than 0.\r\n",
    "\r\n",
    "----------------------------------------------------------------------\r\n",
    "Sample input:\r\n",
    "3\r\n",
    "\r\n",
    "Sample output:\r\n",
    "6\r\n",
    "\r\n",
    "----------------------------------------------------------------------\r\n",
    "Sample input:\r\n",
    "-4\r\n",
    "\r\n",
    "Sample output:\r\n",
    "-1\r\n",
    "Execution Time Limit\r\n",
    "20 seconds"
   ]
  },
  {
   "cell_type": "code",
   "execution_count": 21,
   "id": "1fddb460-218e-4779-9347-9e9323f2fad8",
   "metadata": {},
   "outputs": [
    {
     "name": "stdin",
     "output_type": "stream",
     "text": [
      " 10\n"
     ]
    },
    {
     "name": "stdout",
     "output_type": "stream",
     "text": [
      "3628800\n"
     ]
    }
   ],
   "source": [
    "#take the input here\n",
    "number=int(input())\n",
    "\n",
    "\n",
    "\n",
    "#the function definition starts here\n",
    "def factorial(n):\n",
    "    #write the funtion here that finds and RETURNS factorial of next\n",
    "    if n<0:\n",
    "        return -1\n",
    "    elif n==0:\n",
    "        return 1\n",
    "    else:\n",
    "        f = 1\n",
    "        for i in range(1,n+1):\n",
    "            f = f*i\n",
    "        return f\n",
    "    \n",
    "    \n",
    "\n",
    "\n",
    "#function definition ends here\n",
    "\n",
    "#do not alter the code typed below\n",
    "k=factorial(number)\n",
    "print(k)"
   ]
  },
  {
   "cell_type": "markdown",
   "id": "e03478fc-8158-4803-bb3b-ae4bc5b15c9f",
   "metadata": {},
   "source": [
    "#### Reverse The Digits\r\n",
    "Description\r\n",
    "You will be given a number. You have to reverse the digits of the number and print it.\r\n",
    "\r\n",
    "----------------------------------------------------------------------\r\n",
    "Input:\r\n",
    "A positive integer greater than zero\r\n",
    "\r\n",
    "Output:\r\n",
    "The number in reverse order. Check sample outputs for more details.\r\n",
    "\r\n",
    "----------------------------------------------------------------------\r\n",
    "Sample input:\r\n",
    "345200\r\n",
    "\r\n",
    "Sample output:\r\n",
    "2543\r\n",
    "\r\n",
    "----------------------------------------------------------------------\r\n",
    "Sample input:\r\n",
    "6752343\r\n",
    "\r\n",
    "Sample output:\r\n",
    "3432576\r\n",
    "Execution Time Limit"
   ]
  },
  {
   "cell_type": "code",
   "execution_count": 22,
   "id": "a4666749-ecbf-4b35-bc01-70777eb8f7fb",
   "metadata": {},
   "outputs": [
    {
     "name": "stdin",
     "output_type": "stream",
     "text": [
      " 123\n"
     ]
    },
    {
     "name": "stdout",
     "output_type": "stream",
     "text": [
      "321\n"
     ]
    }
   ],
   "source": [
    "#take input of the number here\n",
    "n=int(input())\n",
    "r=0\n",
    "#write code to reverse the number here\n",
    "while n>0:\n",
    "    r = r*10 + n%10\n",
    "    n =n //10\n",
    "print(r)\n",
    "\n",
    "\n"
   ]
  },
  {
   "cell_type": "markdown",
   "id": "d874b02f-47b9-4ca2-9875-6858c3b2085e",
   "metadata": {},
   "source": [
    "#### How Many Chocolates?\r\n",
    "Description\r\n",
    "Sanjay loves chocolates. He goes to a shop to buy his favourite chocolate. There he notices there is an offer going on, upon bringing 3 wrappers of the same chocolate, you will get new chocolate for free. If Sanjay has m Rupees. How many chocolates will he be able to eat if each chocolate costs c Rupees?\r\n",
    "\r\n",
    "----------------------------------------------------------------------\r\n",
    "Input:\r\n",
    "Two positive integers m and c separated by a comma. The first integer is m and the second integer is c \r\n",
    "\r\n",
    "Output:\r\n",
    "A single integer denoting the number of chocolates Sanjay was able to eat in total.\r\n",
    "\r\n",
    "----------------------------------------------------------------------\r\n",
    "Sample input:\r\n",
    "15, 2\r\n",
    "\r\n",
    "Sample output:\r\n",
    "10\r\n",
    "\r\n",
    "Explanation:\r\n",
    "First, he will get 15/2=7 chocolates. He then will return 6 wrappers for 2 chocolates. And lastly, these two wrappers and the one he previously had will get him one more chocolate, making a total of 7+2+1=10 chocolates.\r\n",
    "\r\n",
    "----------------------------------------------------------------------\r\n",
    "Sample input:\r\n",
    "3,1\r\n",
    "\r\n",
    "Sample output:\r\n",
    "4\r\n",
    "Execution Time Limit\r\n",
    "20 seconds"
   ]
  },
  {
   "cell_type": "code",
   "execution_count": 23,
   "id": "eba76106-b10a-4eb1-86bc-c07a7f18b7cc",
   "metadata": {},
   "outputs": [
    {
     "name": "stdin",
     "output_type": "stream",
     "text": [
      " 100,1\n"
     ]
    },
    {
     "name": "stdout",
     "output_type": "stream",
     "text": [
      "149\n"
     ]
    }
   ],
   "source": [
    "#take input here\n",
    "\n",
    "mystring = input()\n",
    "mylist = mystring.split(\",\")\n",
    "\n",
    "m =int(mylist[0])\n",
    "c =int(mylist[1])\n",
    "\n",
    "#start writing your code here\n",
    "choc = m//c\n",
    "w = m//c\n",
    "\n",
    "while w//3!=0:\n",
    "    choc = choc + w//3\n",
    "    w = w//3 + w%3\n",
    "print(choc)\n",
    "\n",
    "#dont forget to print the number of chocolates Sanjay can eat"
   ]
  },
  {
   "cell_type": "markdown",
   "id": "57633b1a-b5d7-4842-ace2-17b08f08312f",
   "metadata": {},
   "source": [
    "#### Description\r\n",
    "Printing different patterns is a very good exercise to reinforce iteration through loops and strong logic building. Here you will be given a positive integer and you will generate pattern based on that integer.\r\n",
    "\r\n",
    "----------------------------------------------------------------------\r\n",
    "Input:\r\n",
    "A positive integer n\r\n",
    "1 <= n <=20\r\n",
    "\r\n",
    "Output:\r\n",
    "A pattern as described by the Sample input and outputs below.\r\n",
    "\r\n",
    "----------------------------------------------------------------------\r\n",
    "Sample input:\r\n",
    "5\r\n",
    "\r\n",
    "Sample output:\r\n",
    "    *\r\n",
    "   *_*\r\n",
    "  *_*_*\r\n",
    " *_*_*_*\r\n",
    "*_*_*_*_*\r\n",
    "\r\n",
    "----------------------------------------------------------------------\r\n",
    "Sample input:\r\n",
    "3\r\n",
    "\r\n",
    "Sample output:\r\n",
    "  *\r\n",
    " *_*\r\n",
    "*_*_*\r\n",
    "Execution Time Limit"
   ]
  },
  {
   "cell_type": "code",
   "execution_count": 24,
   "id": "45376461-45fc-49fc-94af-b3cf74565ad4",
   "metadata": {},
   "outputs": [
    {
     "name": "stdin",
     "output_type": "stream",
     "text": [
      " 10\n"
     ]
    },
    {
     "name": "stdout",
     "output_type": "stream",
     "text": [
      "         *\n",
      "        *_*\n",
      "       *_*_*\n",
      "      *_*_*_*\n",
      "     *_*_*_*_*\n",
      "    *_*_*_*_*_*\n",
      "   *_*_*_*_*_*_*\n",
      "  *_*_*_*_*_*_*_*\n",
      " *_*_*_*_*_*_*_*_*\n",
      "*_*_*_*_*_*_*_*_*_*\n"
     ]
    }
   ],
   "source": [
    "#please take input here\n",
    "n = int(input())\n",
    "\n",
    "#start writing your code here\n",
    "for i in range(1,n+1):\n",
    "    for j in range(n-i):\n",
    "        print(\" \",end=\"\")\n",
    "    for k in range(i-1):\n",
    "        print(\"*_\",end=\"\")\n",
    "    print(\"*\")"
   ]
  },
  {
   "cell_type": "code",
   "execution_count": 25,
   "id": "b3d073fe-e0ea-4581-af35-bb12c56afc89",
   "metadata": {},
   "outputs": [],
   "source": [
    "L = [i for i in range(1, 5)]"
   ]
  },
  {
   "cell_type": "code",
   "execution_count": 26,
   "id": "2dc55252-039e-4bf3-8dbb-ee1a0eae271b",
   "metadata": {},
   "outputs": [
    {
     "data": {
      "text/plain": [
       "list"
      ]
     },
     "execution_count": 26,
     "metadata": {},
     "output_type": "execute_result"
    }
   ],
   "source": [
    "type(L)"
   ]
  },
  {
   "cell_type": "code",
   "execution_count": 27,
   "id": "01f7fa74-a7b1-4c92-915b-979a226f5910",
   "metadata": {},
   "outputs": [
    {
     "ename": "SyntaxError",
     "evalue": "invalid syntax (1908398937.py, line 1)",
     "output_type": "error",
     "traceback": [
      "\u001b[1;36m  Cell \u001b[1;32mIn[27], line 1\u001b[1;36m\u001b[0m\n\u001b[1;33m    L = [for i in range(1, 5) i]\u001b[0m\n\u001b[1;37m         ^\u001b[0m\n\u001b[1;31mSyntaxError\u001b[0m\u001b[1;31m:\u001b[0m invalid syntax\n"
     ]
    }
   ],
   "source": [
    "\n",
    "L = [for i in range(1, 5) i]"
   ]
  },
  {
   "cell_type": "code",
   "execution_count": 28,
   "id": "85a73b74-24f7-4ca5-8236-2e987e1e55fc",
   "metadata": {},
   "outputs": [
    {
     "ename": "SyntaxError",
     "evalue": "invalid syntax (2535574015.py, line 1)",
     "output_type": "error",
     "traceback": [
      "\u001b[1;36m  Cell \u001b[1;32mIn[28], line 1\u001b[1;36m\u001b[0m\n\u001b[1;33m    L = [for i in range(1, 5): i]\u001b[0m\n\u001b[1;37m         ^\u001b[0m\n\u001b[1;31mSyntaxError\u001b[0m\u001b[1;31m:\u001b[0m invalid syntax\n"
     ]
    }
   ],
   "source": [
    "\n",
    "L = [for i in range(1, 5): i]"
   ]
  },
  {
   "cell_type": "code",
   "execution_count": 29,
   "id": "10ad974e-16d3-41ca-ae50-6ce4b400c845",
   "metadata": {},
   "outputs": [
    {
     "name": "stdout",
     "output_type": "stream",
     "text": [
      "0\n"
     ]
    }
   ],
   "source": [
    "L=[2, 3, 4, 2, 1, 2, 3]\n",
    "print(L.index(2))"
   ]
  },
  {
   "cell_type": "code",
   "execution_count": 30,
   "id": "043244da-9eef-4fb2-a6bb-ae89aa9251d5",
   "metadata": {},
   "outputs": [],
   "source": [
    "L = [2, 1, 2, 4, 5, 3, 6]\n",
    "K = 4 in L"
   ]
  },
  {
   "cell_type": "code",
   "execution_count": 31,
   "id": "da81c926-1018-4d67-a454-2e8d481015c9",
   "metadata": {},
   "outputs": [
    {
     "data": {
      "text/plain": [
       "True"
      ]
     },
     "execution_count": 31,
     "metadata": {},
     "output_type": "execute_result"
    }
   ],
   "source": [
    "K\n"
   ]
  },
  {
   "cell_type": "code",
   "execution_count": 32,
   "id": "1638cb63-519e-4504-8dc2-93261ff12280",
   "metadata": {},
   "outputs": [],
   "source": [
    "L=[10,20,30,40,50,60,70,80,90,100]"
   ]
  },
  {
   "cell_type": "code",
   "execution_count": 33,
   "id": "9486239f-f9a0-4909-b45a-7bf546a10b5e",
   "metadata": {},
   "outputs": [
    {
     "ename": "TypeError",
     "evalue": "list indices must be integers or slices, not list",
     "output_type": "error",
     "traceback": [
      "\u001b[1;31m---------------------------------------------------------------------------\u001b[0m",
      "\u001b[1;31mTypeError\u001b[0m                                 Traceback (most recent call last)",
      "Cell \u001b[1;32mIn[33], line 1\u001b[0m\n\u001b[1;32m----> 1\u001b[0m L[[\u001b[38;5;241m1\u001b[39m, \u001b[38;5;241m3\u001b[39m, \u001b[38;5;241m5\u001b[39m, \u001b[38;5;241m7\u001b[39m]]\n",
      "\u001b[1;31mTypeError\u001b[0m: list indices must be integers or slices, not list"
     ]
    }
   ],
   "source": [
    "L[[1, 3, 5, 7]]"
   ]
  },
  {
   "cell_type": "code",
   "execution_count": 34,
   "id": "df36bd32-403e-4ec1-856a-95bace845d6e",
   "metadata": {},
   "outputs": [
    {
     "ename": "TypeError",
     "evalue": "list indices must be integers or slices, not tuple",
     "output_type": "error",
     "traceback": [
      "\u001b[1;31m---------------------------------------------------------------------------\u001b[0m",
      "\u001b[1;31mTypeError\u001b[0m                                 Traceback (most recent call last)",
      "Cell \u001b[1;32mIn[34], line 1\u001b[0m\n\u001b[1;32m----> 1\u001b[0m L[\u001b[38;5;241m1\u001b[39m, \u001b[38;5;241m3\u001b[39m, \u001b[38;5;241m5\u001b[39m, \u001b[38;5;241m7\u001b[39m]\n",
      "\u001b[1;31mTypeError\u001b[0m: list indices must be integers or slices, not tuple"
     ]
    }
   ],
   "source": [
    "L[1, 3, 5, 7]"
   ]
  },
  {
   "cell_type": "code",
   "execution_count": 35,
   "id": "13131abe-e233-4963-8eb5-43ddc229d64b",
   "metadata": {},
   "outputs": [
    {
     "data": {
      "text/plain": [
       "[20, 40, 60, 80, 100]"
      ]
     },
     "execution_count": 35,
     "metadata": {},
     "output_type": "execute_result"
    }
   ],
   "source": [
    "L[1::2]"
   ]
  },
  {
   "cell_type": "code",
   "execution_count": 36,
   "id": "81e5c9eb-cbc5-4fa9-bf69-32be25214f93",
   "metadata": {},
   "outputs": [
    {
     "data": {
      "text/plain": [
       "[20, 40, 60, 80]"
      ]
     },
     "execution_count": 36,
     "metadata": {},
     "output_type": "execute_result"
    }
   ],
   "source": [
    "L[1:-1:2]"
   ]
  },
  {
   "cell_type": "code",
   "execution_count": 37,
   "id": "eb0bf75e-1d59-4288-81c5-c03f982ad0a4",
   "metadata": {},
   "outputs": [
    {
     "data": {
      "text/plain": [
       "[30, 50, 70, 90]"
      ]
     },
     "execution_count": 37,
     "metadata": {},
     "output_type": "execute_result"
    }
   ],
   "source": [
    "L[2:-1:2]"
   ]
  },
  {
   "cell_type": "code",
   "execution_count": null,
   "id": "5cf2f5a1-0658-4192-8f40-a3a3c5c54a93",
   "metadata": {},
   "outputs": [],
   "source": []
  },
  {
   "cell_type": "markdown",
   "id": "8fa78e86-dfa2-40e2-a223-0a55e0dea728",
   "metadata": {},
   "source": [
    "#### Smallest Element\r\n",
    "Description\r\n",
    "You have to find and print the smallest element of the list given as input. \r\n",
    "\r\n",
    "----------------------------------------------------------------------\r\n",
    "Input:\r\n",
    "A non-empty list of integers.\r\n",
    "\r\n",
    "Output:\r\n",
    "The smallest integer of the input list.\r\n",
    "\r\n",
    "----------------------------------------------------------------------\r\n",
    "Sample input:\r\n",
    "[2, -3, 0, 7, 21]\r\n",
    "\r\n",
    "Sample output:\r\n",
    "-3\r\n",
    "Execution Time Limit"
   ]
  },
  {
   "cell_type": "code",
   "execution_count": null,
   "id": "5d5179e5-23c2-4327-9e7b-d57c9a88cb50",
   "metadata": {},
   "outputs": [],
   "source": [
    "#input have been taken for you here\n",
    "import ast\n",
    "input_str = input()\n",
    "input_list = ast.literal_eval(input_str)\n",
    "\n",
    "#start writing your code here\n",
    "if input_list ==0:\n",
    "    print(\"no min value\")\n",
    "else:\n",
    "    m = input_list[0]\n",
    "    for item in input_list:\n",
    "        if item < m:\n",
    "            m = item\n",
    "    print(m)\n",
    "\n"
   ]
  },
  {
   "cell_type": "markdown",
   "id": "a24774e8-11a1-4b10-aa10-5c4bf68b5db4",
   "metadata": {},
   "source": [
    "#### Above Average\r\n",
    "Description\r\n",
    "Finding the average of the data and comparing it with other values is often encountered while analysing the data. Here you will do the same thing. The data will be provided to you in a list. You will also be given a number check.  You will return whether the number check is above average or no.\r\n",
    "\r\n",
    "----------------------------------------------------------------------\r\n",
    "Input:\r\n",
    "A list with two elements:\r\n",
    "The first element will be the list of data of integers and\r\n",
    "The second element will be an integer check.\r\n",
    "\r\n",
    "Output:\r\n",
    "True if check is above average and False otherwise\r\n",
    "\r\n",
    "----------------------------------------------------------------------\r\n",
    "Sample input:\r\n",
    "[ [2,4,6,8,10],  4]\r\n",
    "\r\n",
    "Sample output:\r\n",
    "False\r\n",
    "\r\n",
    "----------------------------------------------------------------------\r\n",
    "Sample input:\r\n",
    "[ [2,4,6,8,-10],  4]\r\n",
    "\r\n",
    "Sample output:\r\n",
    "True\r\n",
    "\r\n",
    "Execution Time Limit"
   ]
  },
  {
   "cell_type": "code",
   "execution_count": null,
   "id": "6664de0f-8f19-4f9f-a263-0a421e5460fc",
   "metadata": {},
   "outputs": [],
   "source": [
    "#Take input here\n",
    "#we will take input using ast sys\n",
    "import ast\n",
    "input_str = input()\n",
    "input_list = ast.literal_eval(input_str)\n",
    "\n",
    "#Remember how we took input in the Alarm clock Question in previous Session?\n",
    "#Lets see if you can finish taking input on your own\n",
    "\n",
    "data=input_list[0]\n",
    "check=input_list[1]\n",
    "\n",
    "s=0\n",
    "for item in data:\n",
    "    s = s + item\n",
    "avg = s / len(data)\n",
    "\n",
    "if check>avg:\n",
    "    print(\"True\")\n",
    "else:\n",
    "    print(\"False\")\n",
    "\n",
    "#start writing your code to find if check is above average of data \n",
    "\n",
    "\n"
   ]
  },
  {
   "cell_type": "code",
   "execution_count": null,
   "id": "5a3f9cfc-c38c-4cf6-b35e-5e3a2ac6a0b9",
   "metadata": {},
   "outputs": [],
   "source": []
  },
  {
   "cell_type": "markdown",
   "id": "c33ca222-0331-4864-818f-d9d56389a97d",
   "metadata": {},
   "source": [
    "#### Recruit New Members\n",
    "Description\n",
    "Suppose you are a manager as a big firm and now are looking for new members for your team. You sent out an advertisement and have received a few applications. You have a habit of scoring people on a scale of 100. You have given scores to all the members of your team and the new applications. The process of selection is going to be very straightforward if the applicant improves the average of the team then you hire the applicant to join the team or else reject the application. Remember the order of processing applications is going to be important here.\n",
    "\n",
    "\n",
    "\n",
    "You may see this as an extension of the previous problem, which it is. You may use the code written in the previous question as a function to improve the code quality.\n",
    "\n",
    "\n",
    "\n",
    "----------------------------------------------------------------------\n",
    "\n",
    "Input:\n",
    "\n",
    "Two lists on two separate lines.\n",
    "\n",
    "The first line will have the list of scores of current team members\n",
    "\n",
    "The second line will have the list of scores of the applicants.\n",
    "\n",
    "\n",
    "\n",
    "Output:\n",
    "\n",
    "The list consisting of scores of the final team after hiring from the pool of applicants.\n",
    "\n",
    "\n",
    "\n",
    "----------------------------------------------------------------------\n",
    "\n",
    "Sample input:\n",
    "\n",
    "[23,45,34,76]\n",
    "\n",
    "[70,34,94]\n",
    "\n",
    "\n",
    "\n",
    "Sample output:\n",
    "\n",
    "[23, 45, 34, 76, 70, 94]\n",
    "\n",
    "\n",
    "Explanation:\n",
    "\n",
    "The first applicant has score 70, and the team average is 44.5 hence the applicant is hired making the team average 49.6\n",
    "\n",
    "The second applicant has score 34, and the team average is 49.6 hence the applicant is rejected keeping the team average same 49.6\n",
    "\n",
    "The third applicant has score 94, and the team average is 49.6 hence the applicant is hired making the team average 57\n",
    "\n",
    "\n",
    "\n",
    "----------------------------------------------------------------------\n",
    "\n",
    "Sample input:\n",
    "\n",
    "[10,20,30,40,50]\n",
    "\n",
    "[30,60,80,40]\n",
    "\n",
    "\n",
    "\n",
    "Sample output:\n",
    "\n",
    "[10, 20, 30, 40, 50, 60, 80]\n",
    "Execution Time Limit"
   ]
  },
  {
   "cell_type": "code",
   "execution_count": null,
   "id": "21345c76-bc2b-46de-a1c3-b5c91303bb0b",
   "metadata": {},
   "outputs": [],
   "source": [
    "#Take input here\n",
    "#we will take input using ast sys\n",
    "import ast\n",
    "team = ast.literal_eval(input())\n",
    "applicant = ast.literal_eval(input())\n",
    "\n",
    "def check_abv_avg(data,check):\n",
    "    s=0\n",
    "    for item in data:\n",
    "        s = s + item\n",
    "    avg = s / len(data)\n",
    "    if check>avg:\n",
    "        return 1\n",
    "    else:\n",
    "        return 0\n",
    "for a in applicant:\n",
    "    is_add = check_abv_avg(team,a)\n",
    "    if is_add ==1:\n",
    "        team.append(a)\n",
    "print(team)\n",
    "\n",
    "\n"
   ]
  },
  {
   "cell_type": "code",
   "execution_count": null,
   "id": "e2c8d24c-4ce7-4429-b575-3ea76241c8d5",
   "metadata": {},
   "outputs": [],
   "source": []
  },
  {
   "cell_type": "markdown",
   "id": "1d65891d-38ff-4e66-8de2-4a05c01301a9",
   "metadata": {},
   "source": [
    "#### Calendar\r\n",
    "Description\r\n",
    "You are planning to go to your friend's wedding and you have long events all month, lasting at least a few days. You have the start and end dates of events and your task is to find out events overlapping with the wedding date.\r\n",
    "\r\n",
    "The code for taking input has already been written for you, please don't modify that, but do read and try to understand the way input has been taken. You will be asked to take input on your own for most of the problems here onwards. Taking data in a suitable format is an important skill for a Data Scientist.\r\n",
    "\r\n",
    "----------------------------------------------------------------------\r\n",
    "Input:\r\n",
    "The input will contain a list of lists where each sub-list has only two elements representing the start and end date of an event, the start date will be less than or equal to the end date. The next line of input will have a wedding date. \r\n",
    "\r\n",
    "Output:\r\n",
    "The output should have the number of events overlapping with the wedding date.\r\n",
    "\r\n",
    "----------------------------------------------------------------------\r\n",
    "Sample input:\r\n",
    "[ [29,31], [23,26], [24,25] ]\r\n",
    "24\r\n",
    "\r\n",
    "Sample output:\r\n",
    "2\r\n",
    "\r\n",
    "Explanation:\r\n",
    "There are three events in the month.\r\n",
    "Event 1= from date 29 to 31\r\n",
    "Event 2= from date 23 to 26\r\n",
    "Event 3= from date 24 to 25\r\n",
    "Wedding is on 24. This means it will clash with Event 3 and Event 2, that is two events. The output is therefore 2.\r\n",
    "\r\n",
    "----------------------------------------------------------------------\r\n",
    "Sample input:\r\n",
    "[ [1, 4], [7, 10], [8, 8], [14, 23] ]\r\n",
    "26\r\n",
    "\r\n",
    "Sample output:\r\n",
    "0\r\n",
    "Execution Time Limit\r\n",
    "20 seconds"
   ]
  },
  {
   "cell_type": "code",
   "execution_count": null,
   "id": "bd189d11-5d4c-4e0c-aeee-dfd5150596ab",
   "metadata": {},
   "outputs": [],
   "source": [
    "#taking input\n",
    "import ast\n",
    "input_str1 = input()\n",
    "input_list1 = ast.literal_eval(input_str1)\n",
    "events = input_list1\n",
    "\n",
    "wedding = int(input())\n",
    "\n",
    "\n",
    "clash = 0\n",
    "for event in events:\n",
    "    if event[0]<=wedding and event[1]>=wedding:\n",
    "        clash = clash + 1\n",
    "print(clash)\n",
    "\n",
    "\n"
   ]
  },
  {
   "cell_type": "code",
   "execution_count": null,
   "id": "170d6873-7f1e-4049-8942-8c5799dd1350",
   "metadata": {},
   "outputs": [],
   "source": []
  },
  {
   "cell_type": "markdown",
   "id": "1b0a89b7-1dcd-457f-8267-d6ec4453f8a2",
   "metadata": {},
   "source": [
    "#### Fenced Matrix\r\n",
    "Description\r\n",
    "You will be given two positive integers m and n. You have to make a list of lists (which can be visualised as a matrix) of size m*n, that is m sublists (rows), with each sublists having n integers (columns). The matrix should be such that it should have 1 on the border and 0 everywhere else. See sample input and output for more clarification.\r\n",
    "\r\n",
    "\r\n",
    "\r\n",
    "----------------------------------------------------------------------\r\n",
    "\r\n",
    "Input:\r\n",
    "\r\n",
    "Two integers separated by a comma\r\n",
    "\r\n",
    "\r\n",
    "\r\n",
    "Output:\r\n",
    "\r\n",
    "A list of lists of size m*n printed like matrix as shown in the sample output.\r\n",
    "\r\n",
    "\r\n",
    "\r\n",
    "----------------------------------------------------------------------\r\n",
    "\r\n",
    "Sample input:\r\n",
    "\r\n",
    "4,5\r\n",
    "\r\n",
    "\r\n",
    "\r\n",
    "Sample output:\r\n",
    "\r\n",
    "[1, 1, 1, 1, 1]\r\n",
    "[1, 0, 0, 0, 1]\r\n",
    "[1, 0, 0, 0, 1]\r\n",
    "[1, 1, 1, 1, 1]\r\n",
    "\r\n",
    "\r\n",
    "----------------------------------------------------------------------\r\n",
    "\r\n",
    "Sample input:\r\n",
    "\r\n",
    "3,3\r\n",
    "\r\n",
    "\r\n",
    "\r\n",
    "Sample output:\r\n",
    "\r\n",
    "[1, 1, 1]\r\n",
    "[1, 0, 1]\r\n",
    "[1, 1, 1]\r\n",
    "\r\n",
    "\r\n",
    "----------------------------------------------------------------------\r\n",
    "\r\n",
    "Sample input:\r\n",
    "\r\n",
    "3,2\r\n",
    "\r\n",
    "\r\n",
    "\r\n",
    "Sample output:\r\n",
    "\r\n",
    "[1, 1]\r\n",
    "[1, 1]\r\n",
    "[1, 1]\r\n",
    "Execution Time Limit\r\n",
    "20 seconds"
   ]
  },
  {
   "cell_type": "code",
   "execution_count": 75,
   "id": "40466823-5f21-4790-8ff2-1df570281213",
   "metadata": {},
   "outputs": [
    {
     "name": "stdin",
     "output_type": "stream",
     "text": [
      " 5,5\n"
     ]
    },
    {
     "name": "stdout",
     "output_type": "stream",
     "text": [
      "[1, 1, 1, 1, 1]\n",
      "[1, 0, 0, 0, 1]\n",
      "[1, 0, 0, 0, 1]\n",
      "[1, 0, 0, 0, 1]\n",
      "[1, 1, 1, 1, 1]\n"
     ]
    }
   ],
   "source": [
    "import ast\n",
    "input_list = ast.literal_eval(input())\n",
    "\n",
    "m=input_list[0]\n",
    "n=input_list[1]\n",
    "\n",
    "final = [0]*n\n",
    "\n",
    "final = [list(final) for i in range(m)]\n",
    "\n",
    "for i in range(m):\n",
    "    for j in range(n):\n",
    "        if i == 0 or j == 0 or i == m-1 or j == n-1:\n",
    "            final[i][j]=1\n",
    "\n",
    "for i in final:\n",
    "    print(i)"
   ]
  },
  {
   "cell_type": "code",
   "execution_count": 76,
   "id": "53c7bb27-9654-4aa9-9452-53488a2ec882",
   "metadata": {},
   "outputs": [],
   "source": [
    "original = [1, 2, [3, 4]]\n",
    "shallow_copy = list(original)\n"
   ]
  },
  {
   "cell_type": "code",
   "execution_count": 77,
   "id": "b7d91162-6f5d-473d-a425-7a4918692c48",
   "metadata": {},
   "outputs": [],
   "source": [
    "A = [1,2,[3,4]]"
   ]
  },
  {
   "cell_type": "code",
   "execution_count": 78,
   "id": "8f1eff40-273f-4282-b1a5-017a18492ef7",
   "metadata": {},
   "outputs": [],
   "source": [
    "B = A"
   ]
  },
  {
   "cell_type": "code",
   "execution_count": 79,
   "id": "4e895920-f7cf-47c5-a696-078ea1c4d79a",
   "metadata": {},
   "outputs": [],
   "source": [
    "B[1] = 5"
   ]
  },
  {
   "cell_type": "code",
   "execution_count": 80,
   "id": "77405bd4-43cb-4afd-aa07-435505443cbd",
   "metadata": {},
   "outputs": [
    {
     "data": {
      "text/plain": [
       "[1, 5, [3, 4]]"
      ]
     },
     "execution_count": 80,
     "metadata": {},
     "output_type": "execute_result"
    }
   ],
   "source": [
    "A"
   ]
  },
  {
   "cell_type": "code",
   "execution_count": 81,
   "id": "909356a0-1e79-4137-8530-737d3b9a3268",
   "metadata": {},
   "outputs": [
    {
     "data": {
      "text/plain": [
       "[1, 5, [3, 4]]"
      ]
     },
     "execution_count": 81,
     "metadata": {},
     "output_type": "execute_result"
    }
   ],
   "source": [
    "B"
   ]
  },
  {
   "cell_type": "markdown",
   "id": "adae3f18-a896-4704-9ed6-83af32cb69bf",
   "metadata": {},
   "source": [
    "#### Palindrome String\r\n",
    "Description\r\n",
    "Write a program to check whether a string is a palindrome or not. Print 1 if the string is a palindrome and 0 otherwise.\r\n",
    "\r\n",
    "Note: Please ensure that your program should not be case-sensitive. So, if the input is, say, “HAnnah”, then, its output should be 1.\r\n",
    "\r\n",
    "----------------------------------------------------------------------\r\n",
    "Input:\r\n",
    "A string\r\n",
    "\r\n",
    "Output:\r\n",
    "1 if the string is a palindrome, 0 otherwise\r\n",
    "\r\n",
    "----------------------------------------------------------------------\r\n",
    "Sample input:\r\n",
    "HAnnah\r\n",
    "\r\n",
    "Sample output:\r\n",
    "1\r\n",
    "\r\n",
    "----------------------------------------------------------------------\r\n",
    "Sample input:\r\n",
    "Rebecca\r\n",
    "\r\n",
    "Sample output:\r\n",
    "0\r\n",
    "Execution Time Limit\r\n",
    "20 seconds"
   ]
  },
  {
   "cell_type": "code",
   "execution_count": null,
   "id": "82ab85c3-5bb9-4736-8709-3b5a55e7df01",
   "metadata": {},
   "outputs": [],
   "source": [
    "# Read the input\n",
    "s = input()\n",
    "s = s.lower()\n",
    "r=\"\"\n",
    "for i in s:\n",
    "    r = i + r\n",
    "#check for palindrome here\n",
    "if s==r:\n",
    "    print('1')\n",
    "else:\n",
    "    print(\"0\")"
   ]
  },
  {
   "cell_type": "code",
   "execution_count": null,
   "id": "cc1157d2-360d-4235-bb3b-46c899eac3f5",
   "metadata": {},
   "outputs": [],
   "source": []
  },
  {
   "cell_type": "markdown",
   "id": "86641f7a-3824-471e-ac7b-c58b7a42c362",
   "metadata": {},
   "source": [
    "#### Reverse Words\n",
    "Description\n",
    "You will be given a sentence in the form of a string. You have to reverse the order of the words in the sentence. Remember not to reverse the individual words, but the order of words. Check the sample input-output for further clarification.\n",
    "\n",
    "----------------------------------------------------------------------\n",
    "Input:\n",
    "A string, which will consist of a few spaces.\n",
    "\n",
    "Output:\n",
    "The words in reverse order.\n",
    "\n",
    "----------------------------------------------------------------------\n",
    "Sample input:\n",
    "I love coding in python\n",
    "\n",
    "Sample output:\n",
    "python in coding love I\n",
    "\n",
    "----------------------------------------------------------------------\n",
    "Sample input:\n",
    "python is super easy and fun\n",
    "\n",
    "Sample output:\n",
    "fun and easy super is python\n",
    "Execution Time Limit\n",
    "20 seconds"
   ]
  },
  {
   "cell_type": "code",
   "execution_count": null,
   "id": "8f542802-4e9b-4a39-9de6-fa60811db857",
   "metadata": {},
   "outputs": [],
   "source": [
    "sentence = input()\n",
    "s = sentence.split(\" \")\n",
    "\n",
    "s.reverse()\n",
    "re = \" \".join(s)\n",
    "print(re)\n",
    "\n",
    "#reverse the words of the sentence here\n",
    "\n",
    "\n"
   ]
  },
  {
   "cell_type": "code",
   "execution_count": null,
   "id": "74a760f4-e72a-4f3d-8984-39741d08f23e",
   "metadata": {},
   "outputs": [],
   "source": []
  },
  {
   "cell_type": "markdown",
   "id": "8106561b-81e9-42e1-a112-ef0355888f4c",
   "metadata": {},
   "source": [
    "#### No Spaces\r\n",
    "Description\r\n",
    "While naming entities, it is a common practice to avoid spaces. That is the reason you see so many people using underscores instead of spaces. \r\n",
    "You will be given a string, containing a few spaces and random upper and lower cases. You have to write a code that will add underscore in place of spaces and also capitalise the letters properly, i.e. the first letter after underscore should be in upper case and the first letter of the string should be in upper case, all of the other letters should be lower case. \r\n",
    "This type of activity is frequently encountered while starting to analyse data. This is called Data cleaning and you will learn more about it in upcoming modules.\r\n",
    "\r\n",
    "----------------------------------------------------------------------\r\n",
    "Input:\r\n",
    "A string of only alphabets and spaces\r\n",
    "\r\n",
    "Output:\r\n",
    "A string formatted as stated above. See sample input/output for more clarification,\r\n",
    "\r\n",
    "----------------------------------------------------------------------\r\n",
    "Sample input:\r\n",
    "caloRie consuMed\r\n",
    "\r\n",
    "Sample output:\r\n",
    "Calorie_Consumed\r\n",
    "\r\n",
    "----------------------------------------------------------------------\r\n",
    "Sample input:\r\n",
    "data science\r\n",
    "\r\n",
    "Sample output:\r\n",
    "Data_Science\r\n",
    "Execution Time Limit\r\n",
    "20 seconds"
   ]
  },
  {
   "cell_type": "code",
   "execution_count": null,
   "id": "7ecfcc47-3cf2-4961-ac7b-1ecf967c8fb4",
   "metadata": {},
   "outputs": [],
   "source": [
    "#take input here\n",
    "s=input()\n",
    "words = s.split(\" \")\n",
    "final = [word[0].upper() + word[1:].lower() for word in words]\n",
    "f = \"_\".join(final)\n",
    "print(f)\n",
    "\n",
    "\n"
   ]
  },
  {
   "cell_type": "code",
   "execution_count": null,
   "id": "7391789f-947a-4fb2-86a7-a728b53cd7ff",
   "metadata": {},
   "outputs": [],
   "source": []
  },
  {
   "cell_type": "markdown",
   "id": "19deddcd-9569-447d-a696-4ef1143ea14a",
   "metadata": {},
   "source": [
    "#### Shift Vowels\n",
    "Description\n",
    "Write a program that receives a string and shifts all the vowels present in it to the beginning. Output the resultant string. The order of all the vowels with respect to each other as well as the order of all the other characters with respect to each other should stay the same.\n",
    "\n",
    "----------------------------------------------------------------------\n",
    "Input:\n",
    "A string\n",
    "\n",
    "Output:\n",
    "Vowels shifted to the beginning in the input string.\n",
    "\n",
    "----------------------------------------------------------------------\n",
    "Sample input:\n",
    "programming\n",
    "\n",
    "Sample output:\n",
    "oaiprgrmmng\n",
    "\n",
    "----------------------------------------------------------------------\n",
    "Sample input:\n",
    "You love Python!\n",
    "\n",
    "Sample output:\n",
    "ouoeoY lv Pythn!\n",
    "\n",
    "----------------------------------------------------------------------\n",
    "Explanation:\n",
    "All the vowels have been shifted to the beginning in order. The order of all the other characters remains the same.\n",
    "Execution Time Limit\n",
    "20 seconds"
   ]
  },
  {
   "cell_type": "code",
   "execution_count": null,
   "id": "d1cfa1ef-6e79-48bc-84bb-4ad7b4a1bb1b",
   "metadata": {},
   "outputs": [],
   "source": [
    "# Read the input string\n",
    "\n",
    "s = input()\n",
    "\n",
    "vow = \"aeiouAEIOU\"\n",
    "\n",
    "v =\"\"\n",
    "u =\"\"\n",
    "\n",
    "for i in s:\n",
    "    if i in vow:\n",
    "        v = v + i\n",
    "    else:\n",
    "        u = u + i\n",
    "print(v+u)"
   ]
  },
  {
   "cell_type": "code",
   "execution_count": null,
   "id": "0eae75f2-067c-4ffd-be9f-2f9f4b8fbd70",
   "metadata": {},
   "outputs": [],
   "source": []
  },
  {
   "cell_type": "markdown",
   "id": "6a0fdd5a-e49a-4302-9cb7-3b25197ca395",
   "metadata": {},
   "source": [
    "#### Common Prefix\r\n",
    "Description\r\n",
    "You will be given two strings. You have to find the largest prefix common in both the strings.\r\n",
    "\r\n",
    "\r\n",
    "\r\n",
    "----------------------------------------------------------------------\r\n",
    "\r\n",
    "Input:\r\n",
    "\r\n",
    "Two lines of input, one string on each line\r\n",
    "\r\n",
    "\r\n",
    "\r\n",
    "Output:\r\n",
    "\r\n",
    "The common largest prefix for both strings. Check sample input/output for clarification. -1 if no prefix is common.\r\n",
    "\r\n",
    "\r\n",
    "\r\n",
    "----------------------------------------------------------------------\r\n",
    "\r\n",
    "Sample input:\r\n",
    "\r\n",
    "abshdksajd\r\n",
    "\r\n",
    "abshiehand\r\n",
    "\r\n",
    "\r\n",
    "\r\n",
    "Sample output:\r\n",
    "\r\n",
    "absh\r\n",
    "\r\n",
    "\r\n",
    "\r\n",
    "----------------------------------------------------------------------\r\n",
    "\r\n",
    "Sample input:\r\n",
    "\r\n",
    "upgradData\r\n",
    "\r\n",
    "upGradScience\r\n",
    "\r\n",
    "\r\n",
    "\r\n",
    "Sample output:\r\n",
    "\r\n",
    "upgrad\r\n",
    "\r\n",
    "\r\n",
    "\r\n",
    "----------------------------------------------------------------------\r\n",
    "\r\n",
    "Sample input:\r\n",
    "\r\n",
    "upgrad\r\n",
    "\r\n",
    "upGradScience\r\n",
    "\r\n",
    "\r\n",
    "\r\n",
    "Sample output:\r\n",
    "\r\n",
    "upgrad\r\n",
    "\r\n",
    "\r\n",
    "\r\n",
    "----------------------------------------------------------------------\r\n",
    "\r\n",
    "Note: the last sample input/output clearly shows the code is not case sensitive.\r\n",
    "\r\n",
    "Execution Time Limit\r\n",
    "20 seconds"
   ]
  },
  {
   "cell_type": "code",
   "execution_count": 82,
   "id": "dcb62324-b64b-4502-9f4d-258e78e08dd2",
   "metadata": {},
   "outputs": [
    {
     "name": "stdin",
     "output_type": "stream",
     "text": [
      " upgrad\n",
      " upgradScience\n"
     ]
    },
    {
     "name": "stdout",
     "output_type": "stream",
     "text": [
      "upgra\n"
     ]
    }
   ],
   "source": [
    "#input has been taken for you\n",
    "\n",
    "string1=input()\n",
    "string2=input()\n",
    "\n",
    "string1 = string1.lower()\n",
    "string2 = string2.lower()\n",
    "#start writing your code to find largest common prefix here\n",
    "l1 = len(string1)\n",
    "l2 = len(string2)\n",
    "min_len = min(l1,l2)\n",
    "\n",
    "for i in range(min_len):\n",
    "    if string1[i] != string2[i]:\n",
    "        break\n",
    "    else:\n",
    "        i = i+1\n",
    "if i == 0:\n",
    "    print(-1)\n",
    "else:\n",
    "    print(string1[:i])\n",
    "    \n",
    "\n"
   ]
  },
  {
   "cell_type": "markdown",
   "id": "fbeb6451-9bf6-492b-9d6e-cc36741d1bbe",
   "metadata": {},
   "source": [
    "#### Anagrams\r\n",
    "Description\r\n",
    "Two strings are anagrams of each other if you can rearrange the characters of one string to make the other string.\r\n",
    "Given two strings, can you find if they are anagrams or no?\r\n",
    "\r\n",
    "----------------------------------------------------------------------\r\n",
    "Input:\r\n",
    "Two lines of input, each line will contain a string without space.\r\n",
    "\r\n",
    "Output:\r\n",
    "True or False based on whether the strings are anagrams or not.\r\n",
    "\r\n",
    "----------------------------------------------------------------------\r\n",
    "Sample input:\r\n",
    "thing\r\n",
    "night\r\n",
    "\r\n",
    "Sample output:\r\n",
    "True\r\n",
    "\r\n",
    "----------------------------------------------------------------------\r\n",
    "Sample input:\r\n",
    "upgrad\r\n",
    "found\r\n",
    "\r\n",
    "Sample output:\r\n",
    "False\r\n",
    "\r\n",
    "----------------------------------------------------------------------\r\n",
    "Note: the code will be case-Sensitive\r\n",
    "Hint: if the length of the strings doesn't match, the strings are obviously not anagrams.\r\n",
    "Execution Time Limit\r\n",
    "20 seconds"
   ]
  },
  {
   "cell_type": "code",
   "execution_count": null,
   "id": "f6b6f2bc-1c9f-4c59-9ef0-b5e6930ba554",
   "metadata": {},
   "outputs": [],
   "source": [
    "#take input here\n",
    "s1 = input()\n",
    "s2 = input()\n",
    "\n",
    "def anagram(s1,s2):\n",
    "    if len(s1) != len(s2):\n",
    "        return False\n",
    "    for i in range(len(s1)):\n",
    "        if s1.count(s1[i]) != s2.count(s1[i]):\n",
    "            return False\n",
    "    return True\n",
    "print(anagram(s1,s2))\n",
    "\n",
    "\n",
    "\n",
    "\n"
   ]
  },
  {
   "cell_type": "code",
   "execution_count": null,
   "id": "7cb9132e-01fd-4f0b-b1c3-6d103b1fb547",
   "metadata": {},
   "outputs": [],
   "source": []
  },
  {
   "cell_type": "code",
   "execution_count": 83,
   "id": "cad934eb-930e-4292-99a6-616c5a71ca21",
   "metadata": {},
   "outputs": [
    {
     "ename": "KeyError",
     "evalue": "'e'",
     "output_type": "error",
     "traceback": [
      "\u001b[1;31m---------------------------------------------------------------------------\u001b[0m",
      "\u001b[1;31mKeyError\u001b[0m                                  Traceback (most recent call last)",
      "Cell \u001b[1;32mIn[83], line 2\u001b[0m\n\u001b[0;32m      1\u001b[0m d\u001b[38;5;241m=\u001b[39m{\u001b[38;5;124m'\u001b[39m\u001b[38;5;124ma\u001b[39m\u001b[38;5;124m'\u001b[39m:\u001b[38;5;241m64\u001b[39m, \u001b[38;5;124m'\u001b[39m\u001b[38;5;124mb\u001b[39m\u001b[38;5;124m'\u001b[39m:\u001b[38;5;241m65\u001b[39m, \u001b[38;5;124m'\u001b[39m\u001b[38;5;124mc\u001b[39m\u001b[38;5;124m'\u001b[39m:\u001b[38;5;241m66\u001b[39m, \u001b[38;5;124m'\u001b[39m\u001b[38;5;124md\u001b[39m\u001b[38;5;124m'\u001b[39m:\u001b[38;5;241m67\u001b[39m}\n\u001b[1;32m----> 2\u001b[0m \u001b[38;5;28mprint\u001b[39m(d[\u001b[38;5;124m'\u001b[39m\u001b[38;5;124me\u001b[39m\u001b[38;5;124m'\u001b[39m])\n",
      "\u001b[1;31mKeyError\u001b[0m: 'e'"
     ]
    }
   ],
   "source": [
    "d={'a':64, 'b':65, 'c':66, 'd':67}\n",
    "print(d['e'])"
   ]
  },
  {
   "cell_type": "code",
   "execution_count": 84,
   "id": "656d0ec9-601c-4729-8ce4-216d309bd0cf",
   "metadata": {},
   "outputs": [
    {
     "name": "stdout",
     "output_type": "stream",
     "text": [
      "dict_keys(['a', 'b', 'c', 'd'])\n"
     ]
    }
   ],
   "source": [
    "d={'a':64, 'b':65, 'c':66, 'd':67}\n",
    "print(d.keys())"
   ]
  },
  {
   "cell_type": "markdown",
   "id": "e773a5a9-ca3c-4243-ad4b-e3bbb53a17d5",
   "metadata": {},
   "source": [
    " #### Remove Duplicates\r\n",
    "Description\r\n",
    "Sometimes the data has few duplicate values which will affect the analysis done. In this problem, you will be given a list. You have to find and delete the duplicates and print the updated list with no duplicates.\r\n",
    "\r\n",
    "----------------------------------------------------------------------\r\n",
    "Input:\r\n",
    "A list of integers.\r\n",
    "\r\n",
    "Output:\r\n",
    "A list of integers, with duplicates removed if any.\r\n",
    "\r\n",
    "----------------------------------------------------------------------\r\n",
    "Sample input:\r\n",
    "[8, 9, 2, 2, 3, 4, 5, 2]\r\n",
    "\r\n",
    "Sample output:\r\n",
    "[8, 9, 2, 3, 4, 5]\r\n",
    "\r\n",
    "----------------------------------------------------------------------\r\n",
    "Sample input:\r\n",
    "[4, 4, 4, 4]\r\n",
    "\r\n",
    "Sample output:\r\n",
    "[4]\r\n",
    "\r\n",
    "----------------------------------------------------------------------\r\n",
    "Note the order of the data did not change in input and output.\r\n",
    "Execution Time Limit\r\n",
    "20 seconds"
   ]
  },
  {
   "cell_type": "code",
   "execution_count": null,
   "id": "57be454b-112e-4d91-91bb-869515fcd966",
   "metadata": {},
   "outputs": [],
   "source": [
    "#take input here\n",
    "import ast \n",
    "\n",
    "mylist = ast.literal_eval(input())\n",
    "d={}\n",
    "\n",
    "for item in mylist:\n",
    "    if item not in d:\n",
    "        d[item] = 1\n",
    "print(list(d.keys()))\n"
   ]
  },
  {
   "cell_type": "code",
   "execution_count": null,
   "id": "52eeec97-9681-4f05-b329-63748f5cfa5f",
   "metadata": {},
   "outputs": [],
   "source": []
  },
  {
   "cell_type": "markdown",
   "id": "f39251e5-017e-42ac-aaef-073071016e85",
   "metadata": {},
   "source": [
    "#### Dictionary And List\r\n",
    "Description\r\n",
    "You will be converting a dictionary, of string(keys) and list of string (values),  to a list of strings. Please check the sample input/output for clarification.\r\n",
    "\r\n",
    "\r\n",
    "Input:\r\n",
    "A dictionary with keys as strings and values as a list of strings.\r\n",
    "\r\n",
    "Output:\r\n",
    "A list of strings\r\n",
    "\r\n",
    "\r\n",
    "Sample input:\r\n",
    "{‘Mobile’: [‘Redmi’, ‘Samsung’, ‘Realme’], \r\n",
    "‘Laptop’: [‘Dell’, ‘HP’],\r\n",
    "‘TV’: [‘Videocon’, ‘Sony’] }\r\n",
    "\r\n",
    "Sample output:\r\n",
    "[‘Mobile_Redmi’, ‘Mobile_Samsung’, ‘Mobile_Realme’, ‘Laptop_Dell’, ‘Laptop_HP’, ‘TV_Videocon’, ‘TV_Sony’]\r\n",
    "\r\n",
    "\r\n",
    "Sample input:\r\n",
    "{ 'Pen': ['Gel', 'Ink', 'ball'],\r\n",
    "'Mobile': ['Android', 'apple'] }\r\n",
    "\r\n",
    "Sample output:\r\n",
    "['Pen_Gel', 'Pen_Ink', 'Pen_ball', 'Mobile_Android', 'Mobile_apple']\r\n",
    "\r\n",
    "Execution Time Limit\r\n",
    "20 seconds"
   ]
  },
  {
   "cell_type": "code",
   "execution_count": null,
   "id": "f679c73e-bfd8-49df-828b-58b3eec31ac7",
   "metadata": {},
   "outputs": [],
   "source": [
    "#input has been taken for you\n",
    "import ast\n",
    "input_str = input()\n",
    "#input dictionary has been received in input_dict\n",
    "input_dict = ast.literal_eval(input_str)\n",
    "final_list = []\n",
    "\n",
    "for key in input_dict.keys():\n",
    "    for word in input_dict[key]:\n",
    "        final_list.append(key+\"_\"+word)\n",
    "\n",
    "#start writing your code here\n",
    "\n",
    "print(final_list)\n"
   ]
  },
  {
   "cell_type": "code",
   "execution_count": null,
   "id": "719c316e-0537-433b-afd2-018cdf6449a2",
   "metadata": {},
   "outputs": [],
   "source": []
  },
  {
   "cell_type": "markdown",
   "id": "19c2cfbc-b106-4105-aadd-606af6912488",
   "metadata": {},
   "source": [
    "#### upGrad String\r\n",
    "Description\r\n",
    "For the purpose of this question, we will define something called an upGrad string. Note that this definition is not valid outside this question. A string upGrad string if the frequency of its characters is something like 1, 2, 3, 4, .... That is a character appears only once, another appears twice, another appears thrice and so on. For example string '$yrr$ssrsr' is a upGrad string since the frequency of y:1, $:2, s:3, r:4, however string '$yrr$ssrsr%' will not be an upGrad string since it has two characters (y and %) with frequency 1. The frequency of characters should be of form 1, 2, 3, 4, 5... only.\r\n",
    "\r\n",
    "Given a string, can you determine if the string is upGrad string or no?\r\n",
    "\r\n",
    "\r\n",
    "\r\n",
    "\r\n",
    "\r\n",
    "Input:\r\n",
    "\r\n",
    "A string\r\n",
    "\r\n",
    "\r\n",
    "\r\n",
    "Output:\r\n",
    "\r\n",
    "Boolean depending whether the string is upGrad string or not\r\n",
    "\r\n",
    "\r\n",
    "\r\n",
    "\r\n",
    "\r\n",
    "Sample input:\r\n",
    "\r\n",
    "$yrr$ssrsr\r\n",
    "\r\n",
    "\r\n",
    "\r\n",
    "Sample output:\r\n",
    "\r\n",
    "True\r\n",
    "\r\n",
    "\r\n",
    "\r\n",
    "\r\n",
    "\r\n",
    "Sample input:\r\n",
    "\r\n",
    "$yrr$ssrsr%\r\n",
    "\r\n",
    "\r\n",
    "\r\n",
    "Sample output:\r\n",
    "\r\n",
    "False\r\n",
    "\r\n",
    "\r\n",
    "\r\n",
    "Sample input:\r\n",
    "\r\n",
    "ab#ab#aba\r\n",
    "\r\n",
    "\r\n",
    "\r\n",
    "Sample output:\r\n",
    "\r\n",
    "False\r\n",
    "\r\n",
    "\r\n",
    "\r\n",
    "Sample input:\r\n",
    "\r\n",
    "ab#ab#ab6a\r\n",
    "\r\n",
    "\r\n",
    "\r\n",
    "Sample output:\r\n",
    "\r\n",
    "True\r\n",
    "\r\n",
    "Execution Time Limit\r\n",
    "20 seconds"
   ]
  },
  {
   "cell_type": "code",
   "execution_count": null,
   "id": "8d530e2c-6600-4441-ae4e-9e6f57b2ef98",
   "metadata": {},
   "outputs": [],
   "source": [
    "#input has been taken for you\n",
    "s=input()\n",
    "d ={}\n",
    "for i in s:\n",
    "    if i not in d:\n",
    "        d[i] =1\n",
    "    else:\n",
    "        d[i] = d[i] + 1\n",
    "vals = d.values()\n",
    "\n",
    "n=len(d)\n",
    "\n",
    "def u(vals):\n",
    "    for i in range(1,n+1):\n",
    "        if i not in vals:\n",
    "            return False\n",
    "    return True\n",
    "print(u(vals))\n",
    "#start writing your code to check if s is upgrad string or no"
   ]
  },
  {
   "cell_type": "code",
   "execution_count": null,
   "id": "1f89caa1-9985-4c93-bf25-3dcf20bdddc5",
   "metadata": {},
   "outputs": [],
   "source": []
  },
  {
   "cell_type": "code",
   "execution_count": null,
   "id": "e5c186a5-38bc-4da5-8bef-ebde2b62929c",
   "metadata": {},
   "outputs": [],
   "source": []
  },
  {
   "cell_type": "markdown",
   "id": "23a0dc4c-064a-497c-aa6d-9a7b499cf4c2",
   "metadata": {},
   "source": [
    "#### Balanced Brackets\r\n",
    "Description\r\n",
    "You will be given a string with a lot of brackets. You have to print if the brackets are balanced or not. Remember, there are three types of brackets: ‘( )’,  ‘{ }’ and ‘[ ]’.\r\n",
    "\r\n",
    "----------------------------------------------------------------------\r\n",
    "Input:\r\n",
    "A string\r\n",
    "\r\n",
    "Output:\r\n",
    "Yes, if the brackets are balanced.\r\n",
    "No otherwise.\r\n",
    "\r\n",
    "----------------------------------------------------------------------\r\n",
    "Sample input:\r\n",
    "){[[]]}())()\r\n",
    "\r\n",
    "Sample output:\r\n",
    "No\r\n",
    "\r\n",
    "----------------------------------------------------------------------\r\n",
    "Sample input 2:\r\n",
    "[](){[]()(){}}\r\n",
    "\r\n",
    "Sample output 2:\r\n",
    "Yes\r\n",
    "Execution Time Limit\r\n",
    "20 seconds"
   ]
  },
  {
   "cell_type": "code",
   "execution_count": 85,
   "id": "ee375e6f-2775-4092-b730-6a453fe23804",
   "metadata": {},
   "outputs": [
    {
     "name": "stdin",
     "output_type": "stream",
     "text": [
      " {}{}{}{}[][][][\n"
     ]
    },
    {
     "name": "stdout",
     "output_type": "stream",
     "text": [
      "No\n"
     ]
    }
   ],
   "source": [
    "#take input\n",
    "inp=input()\n",
    "\n",
    "stack = []\n",
    "\n",
    "for i in inp:\n",
    "    if len(stack)==0:\n",
    "        stack.append(i)\n",
    "    else:\n",
    "        if i ==\")\" and stack[-1]==\"(\":\n",
    "            stack.pop()\n",
    "        elif i ==\"}\" and stack[-1]==\"{\":\n",
    "            stack.pop()\n",
    "        elif i ==\"]\" and stack[-1]==\"[\":\n",
    "            stack.pop()\n",
    "        else:\n",
    "            stack.append(i)\n",
    "\n",
    "if stack:\n",
    "    print(\"No\")\n",
    "else:\n",
    "    print(\"Yes\")"
   ]
  },
  {
   "cell_type": "code",
   "execution_count": null,
   "id": "b26cc70b-b782-413e-b48e-0302561749c6",
   "metadata": {},
   "outputs": [],
   "source": []
  },
  {
   "cell_type": "code",
   "execution_count": null,
   "id": "541522ca-792b-4d47-b8f1-4f4122f32692",
   "metadata": {},
   "outputs": [],
   "source": []
  },
  {
   "cell_type": "markdown",
   "id": "991e1a0c-2e1e-4507-8652-4f94bf087a00",
   "metadata": {},
   "source": [
    "# GRADED QUESTIONS"
   ]
  },
  {
   "cell_type": "markdown",
   "id": "985405c7-8489-46a7-9db8-712df14e22f6",
   "metadata": {},
   "source": [
    "### MCQs"
   ]
  },
  {
   "cell_type": "code",
   "execution_count": 86,
   "id": "4b109687-088e-4b62-a892-02678de78d8e",
   "metadata": {},
   "outputs": [
    {
     "data": {
      "text/plain": [
       "1"
      ]
     },
     "execution_count": 86,
     "metadata": {},
     "output_type": "execute_result"
    }
   ],
   "source": [
    "((500//7) % 5) ** 3"
   ]
  },
  {
   "cell_type": "code",
   "execution_count": 88,
   "id": "505bee53-6a7b-4d3c-b448-8342629a5cb6",
   "metadata": {},
   "outputs": [],
   "source": [
    "S = \"I love Python\""
   ]
  },
  {
   "cell_type": "code",
   "execution_count": 90,
   "id": "195137ad-a94d-4f5e-9e23-893f7a254bba",
   "metadata": {},
   "outputs": [
    {
     "data": {
      "text/plain": [
       "'love'"
      ]
     },
     "execution_count": 90,
     "metadata": {},
     "output_type": "execute_result"
    }
   ],
   "source": [
    "S[2:6]"
   ]
  },
  {
   "cell_type": "code",
   "execution_count": 92,
   "id": "e9b01fa0-27e2-48d1-910d-27ccc2882218",
   "metadata": {},
   "outputs": [
    {
     "data": {
      "text/plain": [
       "'love'"
      ]
     },
     "execution_count": 92,
     "metadata": {},
     "output_type": "execute_result"
    }
   ],
   "source": [
    "S[-11:-7]"
   ]
  },
  {
   "cell_type": "code",
   "execution_count": 94,
   "id": "97b0d93c-e238-4606-80e8-ef1ba6645de6",
   "metadata": {},
   "outputs": [
    {
     "data": {
      "text/plain": [
       "81"
      ]
     },
     "execution_count": 94,
     "metadata": {},
     "output_type": "execute_result"
    }
   ],
   "source": [
    "3 * 3 ** 3 "
   ]
  },
  {
   "cell_type": "code",
   "execution_count": 95,
   "id": "3608bc78-6b81-4551-923f-187bdaf6140a",
   "metadata": {},
   "outputs": [],
   "source": [
    "T = (3, 5, 7, 11)"
   ]
  },
  {
   "cell_type": "code",
   "execution_count": 96,
   "id": "1c9a9471-4d1e-4ce5-ae01-884721a22894",
   "metadata": {},
   "outputs": [
    {
     "ename": "AttributeError",
     "evalue": "'tuple' object has no attribute 'append'",
     "output_type": "error",
     "traceback": [
      "\u001b[1;31m---------------------------------------------------------------------------\u001b[0m",
      "\u001b[1;31mAttributeError\u001b[0m                            Traceback (most recent call last)",
      "Cell \u001b[1;32mIn[96], line 1\u001b[0m\n\u001b[1;32m----> 1\u001b[0m T\u001b[38;5;241m.\u001b[39mappend(\u001b[38;5;241m9\u001b[39m)\n",
      "\u001b[1;31mAttributeError\u001b[0m: 'tuple' object has no attribute 'append'"
     ]
    }
   ],
   "source": [
    "T.append(9)"
   ]
  },
  {
   "cell_type": "code",
   "execution_count": 97,
   "id": "45ed8b93-785d-49d1-8112-cb21caf53090",
   "metadata": {},
   "outputs": [
    {
     "name": "stdout",
     "output_type": "stream",
     "text": [
      "y\n"
     ]
    }
   ],
   "source": [
    "L1 = ['Vikas', 'Akshay', 'Sanskar', 'Mahima']\n",
    "print(L1[1][-1])"
   ]
  },
  {
   "cell_type": "code",
   "execution_count": 98,
   "id": "175f483c-60e2-4ee7-b01c-d54e009e9f08",
   "metadata": {},
   "outputs": [
    {
     "name": "stdout",
     "output_type": "stream",
     "text": [
      "6\n"
     ]
    }
   ],
   "source": [
    "l = [32, 34, 12, 27, 33]\n",
    "l.append([14, 19])\n",
    "print(len(l))"
   ]
  },
  {
   "cell_type": "code",
   "execution_count": 99,
   "id": "35220c08-7e4d-4d16-a2af-80111accd945",
   "metadata": {},
   "outputs": [
    {
     "name": "stdout",
     "output_type": "stream",
     "text": [
      "1\n",
      "2\n",
      "3\n"
     ]
    }
   ],
   "source": [
    "D = {1:['Raj', 22], 2:['Simran', 21], 3:['Rahul', 40]}\n",
    "for val in D:\n",
    "     print(val)"
   ]
  },
  {
   "cell_type": "code",
   "execution_count": null,
   "id": "27b7acbc-0ac1-4aad-b021-2335fa310a4b",
   "metadata": {},
   "outputs": [],
   "source": [
    "for sentence in paragraph:\n",
    "    for word in sentence.split():\n",
    "        single_word_list.append(word)"
   ]
  },
  {
   "cell_type": "code",
   "execution_count": null,
   "id": "84b040b5-afdb-4fc6-b5ff-c42d3a6a986e",
   "metadata": {},
   "outputs": [],
   "source": [
    "[word for sentence in paragraph for word in sentence.split()]"
   ]
  },
  {
   "cell_type": "code",
   "execution_count": 101,
   "id": "795b0571-fbfe-4660-b138-4286aa9c85a9",
   "metadata": {},
   "outputs": [
    {
     "name": "stdout",
     "output_type": "stream",
     "text": [
      "[10, 9, 8, 7, 6, 5, 4, 3, 2]\n"
     ]
    }
   ],
   "source": [
    "print(list(range(10, 1, -1)))"
   ]
  },
  {
   "cell_type": "markdown",
   "id": "cd17a98b-a764-4a79-ba41-665cee5995af",
   "metadata": {},
   "source": [
    " "
   ]
  },
  {
   "cell_type": "markdown",
   "id": "dc5485af-1ea0-4f5b-b89b-2f719bac933d",
   "metadata": {},
   "source": [
    " "
   ]
  },
  {
   "cell_type": "markdown",
   "id": "791dff63-3535-40c6-b864-7484c6851790",
   "metadata": {},
   "source": [
    " "
   ]
  },
  {
   "cell_type": "markdown",
   "id": "e78d0a59-173b-491f-8a15-4155ecd9c6aa",
   "metadata": {},
   "source": [
    " "
   ]
  },
  {
   "cell_type": "markdown",
   "id": "6f7af658-a272-4a79-8849-bd3a623a8bde",
   "metadata": {},
   "source": [
    " "
   ]
  },
  {
   "cell_type": "markdown",
   "id": "9f25a4ec-a704-490e-b9c6-30ee1fce0c21",
   "metadata": {},
   "source": [
    " "
   ]
  },
  {
   "cell_type": "markdown",
   "id": "14a5257a-e6c9-410a-a701-4ef945668d47",
   "metadata": {},
   "source": [
    "# Coding Questions"
   ]
  },
  {
   "cell_type": "markdown",
   "id": "88fead8f-f149-4fb5-93a0-3d7ba14afd11",
   "metadata": {},
   "source": [
    "### Graded Quiz 1"
   ]
  },
  {
   "cell_type": "code",
   "execution_count": 109,
   "id": "f520b8a7-e06d-4899-8729-6f7ea9e89c19",
   "metadata": {},
   "outputs": [],
   "source": [
    "C = [7, 8, 9, 18, 20, 21, 25, 26, 27, 31, 32, 34, 35, 36, 40, 43, 45, 47, 53, 58, 62, 67, 68, 71, 72, 74, 75, 76, 80, 81, 82, 90, 93, 95, 97, 99]\n",
    "F = [1, 7, 10, 13, 16, 22, 24, 29, 30, 32, 34, 39, 40, 43, 44, 48, 56, 60, 65, 68, 69, 73, 77, 78, 90, 93, 94, 95, 96]\n",
    "H = [5, 12, 14, 17, 20, 21, 22, 25, 28, 30, 37, 38, 39, 40, 42, 44, 57, 59, 61, 62, 67, 71, 75, 76, 77, 82, 83, 86, 87, 92, 94, 95]\n"
   ]
  },
  {
   "cell_type": "code",
   "execution_count": 103,
   "id": "695104e3-31f1-4a6c-95b7-0ee5cb0383fb",
   "metadata": {},
   "outputs": [],
   "source": [
    "C = [7, 8, 9, 18, 20, 21, 25, 26, 27, 31, 32, 34, 35, 36, 40, 43, 45, 47, 53, 58, 62, 67, 68, 71, 72, 74, 75, 76, 80, 81, 82, 90, 93, 95, 97, 99]\r\n",
    "F = [1, 7, 10, 13, 16, 22, 24, 29, 30, 32, 34, 39, 40, 43, 44, 48, 56, 60, 65, 68, 69, 73, 77, 78, 90, 93, 94, 95, 96]\r\n",
    "H = [5, 12, 14, 17, 20, 21, 22, 25, 28, 30, 37, 38, 39, 40, 42, 44, 57, 59, 61, 62, 67, 71, 75, 76, 77, 82, 83, 86, 87, 92, 94, 9\n",
    "\n",
    "All Three\n",
    "Which are the students who play all the three sports?\n",
    "\n",
    "\n",
    "[22, 39]\n",
    "\n",
    "\n",
    "[39, 82]\n",
    "\n",
    "\n",
    "[40, 95]\n",
    "\n",
    "\n",
    "[82, 94]5]"
   ]
  },
  {
   "cell_type": "code",
   "execution_count": 104,
   "id": "a02b3972-b92f-4d18-8060-69b124d51571",
   "metadata": {},
   "outputs": [
    {
     "name": "stdout",
     "output_type": "stream",
     "text": [
      "{40, 95}\n"
     ]
    }
   ],
   "source": [
    "intersection = set(C) & set(F) & set(H)\n",
    "print(intersection)"
   ]
  },
  {
   "cell_type": "code",
   "execution_count": null,
   "id": "505cc585-be1c-4c04-ab9a-beddab3c1d8e",
   "metadata": {},
   "outputs": [],
   "source": [
    "Only Cricket and Hockey\n",
    "Which are the players who play both cricket and hockey but don't play football?\n",
    "\n",
    "\n",
    "[20, 21, 25, 62, 67, 71, 75, 76, 82]\n",
    "\n",
    "\n",
    "[20, 21, 22, 25, 30, 32, 34]\n",
    "\n",
    "\n",
    "[20, 21, 22, 25, 30, 32, 34, 39, 43, 44, 62]\n",
    "\n",
    "\n",
    "[20, 21, 68, 71, 75, 76]"
   ]
  },
  {
   "cell_type": "code",
   "execution_count": 111,
   "id": "3756e63b-66a7-44ea-b0ab-fd790c40a786",
   "metadata": {},
   "outputs": [
    {
     "name": "stdout",
     "output_type": "stream",
     "text": [
      "[67, 71, 75, 76, 82, 20, 21, 25, 62]\n"
     ]
    }
   ],
   "source": [
    "set_C = set(C)\n",
    "set_F = set(F)\n",
    "set_H = set(H)\n",
    "\n",
    "cricket_and_hockey = set_C & set_H\n",
    "\n",
    "only_cricket_and_hockey = cricket_and_hockey - set_F\n",
    "\n",
    "result = list(only_cricket_and_hockey)\n",
    "print(result)"
   ]
  },
  {
   "cell_type": "code",
   "execution_count": 116,
   "id": "46f6afda-0882-4c33-a603-2e508fe9e297",
   "metadata": {},
   "outputs": [
    {
     "name": "stdout",
     "output_type": "stream",
     "text": [
      "22\n"
     ]
    }
   ],
   "source": [
    "# Given lists\n",
    "C = [7, 8, 9, 18, 20, 21, 25, 26, 27, 31, 32, 34, 35, 36, 40, 43, 45, 47, 53, 58, 62, 67, 68, 71, 72, 74, 75, 76, 80, 81, 82, 90, 93, 95, 97, 99]\n",
    "F = [1, 7, 10, 13, 16, 22, 24, 29, 30, 32, 34, 39, 40, 43, 44, 48, 56, 60, 65, 68, 69, 73, 77, 78, 90, 93, 94, 95, 96]\n",
    "H = [5, 12, 14, 17, 20, 21, 22, 25, 28, 30, 37, 38, 39, 40, 42, 44, 57, 59, 61, 62, 67, 71, 75, 76, 77, 82, 83, 86, 87, 92, 94, 95]\n",
    "\n",
    "set_C = set(C)\n",
    "set_F = set(F)\n",
    "set_H = set(H)\n",
    "\n",
    "C_and_F = set_C & set_F\n",
    "C_and_H = set_C & set_H\n",
    "F_and_H = set_F & set_H\n",
    "\n",
    "C_and_F_and_H = set_C & set_F & set_H\n",
    "\n",
    "exactly_two_sports = (C_and_F | C_and_H | F_and_H) - C_and_F_and_H\n",
    "\n",
    "num_exactly_two_sports = len(exactly_two_sports)\n",
    "print(num_exactly_two_sports)\n"
   ]
  },
  {
   "cell_type": "code",
   "execution_count": 126,
   "id": "8f1e10d0-3bd7-4269-8aef-26b64814f85e",
   "metadata": {},
   "outputs": [
    {
     "data": {
      "text/plain": [
       "False"
      ]
     },
     "execution_count": 126,
     "metadata": {},
     "output_type": "execute_result"
    }
   ],
   "source": [
    "85 in C\n"
   ]
  },
  {
   "cell_type": "code",
   "execution_count": 127,
   "id": "c1847099-2241-4d99-be3b-af60cce16e02",
   "metadata": {},
   "outputs": [
    {
     "data": {
      "text/plain": [
       "False"
      ]
     },
     "execution_count": 127,
     "metadata": {},
     "output_type": "execute_result"
    }
   ],
   "source": [
    "85 in F\n"
   ]
  },
  {
   "cell_type": "code",
   "execution_count": 128,
   "id": "96319645-f90b-44be-9c56-5736c678753a",
   "metadata": {},
   "outputs": [
    {
     "data": {
      "text/plain": [
       "False"
      ]
     },
     "execution_count": 128,
     "metadata": {},
     "output_type": "execute_result"
    }
   ],
   "source": [
    "85 in H"
   ]
  },
  {
   "cell_type": "code",
   "execution_count": 129,
   "id": "df8286fe-b670-4fdb-b3ae-87fd3f488c2a",
   "metadata": {},
   "outputs": [
    {
     "data": {
      "text/plain": [
       "(41, 63, 85)"
      ]
     },
     "execution_count": 129,
     "metadata": {},
     "output_type": "execute_result"
    }
   ],
   "source": [
    "41 , 63 , 85"
   ]
  },
  {
   "cell_type": "markdown",
   "id": "5862598d-0ff8-45d9-8b79-392d14411f73",
   "metadata": {},
   "source": [
    "### graded quiz 2"
   ]
  },
  {
   "cell_type": "code",
   "execution_count": 130,
   "id": "49b76d71-3d8f-4d20-b205-eb4a97174e03",
   "metadata": {},
   "outputs": [],
   "source": [
    "netflix = {'The Debt Collector': 1821195, 'Act of Vengeance': 2804479, 'Paradise Lost': 2195477, \"Gerald's Game\": 3650626, 'Long Shot': 638440, 'Mak Cun': 1010311, 'Our Souls at Night': 3028705, 'Out of Thin Air': 2681938, \"Paul Hollywood's Big Continental Road Trip\": 230689, 'Satu Hari': 1012350, 'Monster High: Boo York, Boo York': 1526025, 'Cultivating the Seas: History and Future of the Full-Cycle Cultured Kindai Tuna': 2762103, 'Domino': 872663, 'TUNA GIRL': 2574816, '5CM': 2647713, 'Animal World': 220789, 'Hold the Dark': 2307432, 'Lessons from a School Shooting: Notes from Dunblane': 2419534, 'Made in Mexico': 3653712, 'Single': 239278, 'The 3rd Eye': 196138, 'The Sinking Of Van Der Wijck': 2831856, 'Two Catalonias': 1337119, 'Bobby Sands: 66 Days': 2005623, 'Bard of Blood': 744998, 'Deliha 2': 3638900, 'Dragons: Rescue Riders': 3241239, 'In the Shadow of the Moon': 1213329, 'Skylines': 1840094, 'Sturgill Simpson Presents Sound & Fury': 1915540, 'The Politician': 1019394, 'Weeds on Fire': 2273090, 'Much Loved': 3039852, 'Joseph: King of Dreams': 1734449, 'Malaal': 1926128, 'The Grandmaster': 2549410, 'The Inmate': 130965, 'The Hurricane Heist': 2191538, 'Def Comedy Jam 25': 1392697, 'Restless Creature: Wendy Whelan': 2474412, 'Print the Legend': 548250, 'Birders': 3478883, 'Furie': 2755115, 'Leap!': 1401638, 'Oh! Baby (Malayalam)': 839139, 'Oh! Baby (Tamil)': 2691505, 'USS Indianapolis: Men of Courage': 3286014, 'A Wrinkle in Time': 1258861, 'Teach Us All': 2428947, 'White Island': 1152905, 'Inside Man: Most Wanted': 2812661, 'Jeff Dunham: Beside Himself': 2930368, 'China Salesman': 3377292, 'Swearnet: The Movie': 949689, 'The Bar': 620655, 'Manmadhudu 2': 1842761, 'Team Kaylie': 359856, 'Under the Eiffel Tower': 2298237, 'Audrie & Daisy': 1573055, 'Iliza Shlesinger: Confirmed Kills': 365220, 'BONDING': 1664242, 'Do Paise Ki Dhoop Chaar Aane Ki Baarish': 2770879, '20 Feet From Stardom': 2931730, 'In Darkness': 3248749, 'Gaga: Five Foot Two': 3719550, 'The Bad Batch': 3656264, 'SMOSH: The Movie': 3697506, 'King of Boys': 584112, 'Merry Men: The Real Yoruba Demons': 2035595, \"Sarah's Key\": 1337902, 'The Wedding Party 2: Destination Dubai': 1471204, 'Vagabond': 1600432, 'Battlefish': 723021, 'DRAGON PILOT: Hisone & Masotan': 602919, 'Hilda': 54948, 'Maniac': 1348196, 'Quincy': 2601704, 'Rafinha Bastos: Ultimatum': 3469996, 'The Good Cop': 2265521, 'Between Two Ferns: The Movie': 3146508, 'Criminal: France': 2021409, 'Criminal: Germany': 658824, 'Criminal: Spain': 3078634, 'Criminal: UK': 2721398, 'Daddy Issues': 2119035, \"Inside Bill's Brain: Decoding Bill Gates\": 1755104, 'The Hockey Girls': 2000507, 'Travel Mates 2': 707260, 'True: Tricky Treat Day': 3213199, 'Two Sentence Horror Stories': 2438329, 'Mad World': 2281773, 'Mobile Suit Gundam UC': 778879, 'The Bund': 1729892, 'The First Line': 674591, 'Maynard': 84986, 'Monkey Twins': 3277179, 'Bitcoin Heist': 1450158, 'I Am Not Madame Bovary': 2763830, 'Vincent N Roxxy': 1961810, \"Chef's Table: France\": 2065738}"
   ]
  },
  {
   "cell_type": "code",
   "execution_count": 131,
   "id": "96153094-21b3-4696-a79e-25c5c89fdd29",
   "metadata": {},
   "outputs": [
    {
     "data": {
      "text/plain": [
       "2770879"
      ]
     },
     "execution_count": 131,
     "metadata": {},
     "output_type": "execute_result"
    }
   ],
   "source": [
    "netflix[\"Do Paise Ki Dhoop Chaar Aane Ki Baarish\"]"
   ]
  },
  {
   "cell_type": "code",
   "execution_count": 142,
   "id": "938b722a-01c5-419e-b595-cab56cb06821",
   "metadata": {},
   "outputs": [
    {
     "data": {
      "text/plain": [
       "'Gaga: Five Foot Two'"
      ]
     },
     "execution_count": 142,
     "metadata": {},
     "output_type": "execute_result"
    }
   ],
   "source": [
    "max(netflix,key=netflix.get)"
   ]
  },
  {
   "cell_type": "code",
   "execution_count": 143,
   "id": "cec9e0e8-853d-463d-9866-a99d883bbb3c",
   "metadata": {},
   "outputs": [
    {
     "data": {
      "text/plain": [
       "'Hilda'"
      ]
     },
     "execution_count": 143,
     "metadata": {},
     "output_type": "execute_result"
    }
   ],
   "source": [
    "min(netflix,key=netflix.get)"
   ]
  },
  {
   "cell_type": "code",
   "execution_count": 144,
   "id": "4a90c0e9-93a6-4372-8c0c-1d571acc5a51",
   "metadata": {},
   "outputs": [
    {
     "data": {
      "text/plain": [
       "3638900"
      ]
     },
     "execution_count": 144,
     "metadata": {},
     "output_type": "execute_result"
    }
   ],
   "source": [
    "netflix[\"Deliha 2\"]"
   ]
  },
  {
   "cell_type": "code",
   "execution_count": 145,
   "id": "1a1373e0-b69d-4fc8-817d-22abf6971b58",
   "metadata": {},
   "outputs": [],
   "source": [
    "netflix[\"Deliha 2\"] = netflix[\"Deliha 2\"]+ 3943452"
   ]
  },
  {
   "cell_type": "code",
   "execution_count": 146,
   "id": "4ba6adc7-e8e1-4e5e-9a36-13c03710cac6",
   "metadata": {},
   "outputs": [
    {
     "data": {
      "text/plain": [
       "7582352"
      ]
     },
     "execution_count": 146,
     "metadata": {},
     "output_type": "execute_result"
    }
   ],
   "source": [
    "netflix[\"Deliha 2\"]"
   ]
  },
  {
   "cell_type": "code",
   "execution_count": null,
   "id": "9a624796-7454-467e-a34e-de249b1190bd",
   "metadata": {},
   "outputs": [],
   "source": [
    "Title: Deliha 2, \n",
    "\n",
    "Views: 3943452"
   ]
  }
 ],
 "metadata": {
  "kernelspec": {
   "display_name": "Python 3 (ipykernel)",
   "language": "python",
   "name": "python3"
  },
  "language_info": {
   "codemirror_mode": {
    "name": "ipython",
    "version": 3
   },
   "file_extension": ".py",
   "mimetype": "text/x-python",
   "name": "python",
   "nbconvert_exporter": "python",
   "pygments_lexer": "ipython3",
   "version": "3.11.7"
  }
 },
 "nbformat": 4,
 "nbformat_minor": 5
}
