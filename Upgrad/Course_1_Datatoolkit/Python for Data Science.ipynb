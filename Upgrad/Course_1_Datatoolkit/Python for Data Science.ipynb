{
 "cells": [
  {
   "cell_type": "code",
   "execution_count": 2,
   "id": "2d98f469-7902-41d1-9e25-a5b67afaf2b9",
   "metadata": {},
   "outputs": [],
   "source": [
    "import numpy as np"
   ]
  },
  {
   "cell_type": "code",
   "execution_count": 4,
   "id": "b9cc8df9-737c-470c-9c7e-c59916a5c217",
   "metadata": {},
   "outputs": [
    {
     "ename": "TypeError",
     "evalue": "array() takes from 1 to 2 positional arguments but 5 were given",
     "output_type": "error",
     "traceback": [
      "\u001b[1;31m---------------------------------------------------------------------------\u001b[0m",
      "\u001b[1;31mTypeError\u001b[0m                                 Traceback (most recent call last)",
      "Cell \u001b[1;32mIn[4], line 1\u001b[0m\n\u001b[1;32m----> 1\u001b[0m np\u001b[38;5;241m.\u001b[39marray(\u001b[38;5;241m1.0\u001b[39m, \u001b[38;5;241m2\u001b[39m, \u001b[38;5;241m3.5\u001b[39m, \u001b[38;5;241m0.2\u001b[39m, \u001b[38;5;28;01mTrue\u001b[39;00m)\n",
      "\u001b[1;31mTypeError\u001b[0m: array() takes from 1 to 2 positional arguments but 5 were given"
     ]
    }
   ],
   "source": [
    "np.array(1.0, 2, 3.5, 0.2, True)"
   ]
  },
  {
   "cell_type": "code",
   "execution_count": 13,
   "id": "c54c3451-7559-42f7-ba1f-96b879140e5a",
   "metadata": {
    "scrolled": true
   },
   "outputs": [
    {
     "data": {
      "text/plain": [
       "array(['1.0', '2', '3.5', '0.2', 'True'], dtype='<U32')"
      ]
     },
     "execution_count": 13,
     "metadata": {},
     "output_type": "execute_result"
    }
   ],
   "source": [
    "np.array( [1.0, 2, 3.5, 0.2, \"True\"] )"
   ]
  },
  {
   "cell_type": "code",
   "execution_count": 12,
   "id": "6ee91a2b-5b05-4e11-b127-f4e536a5518c",
   "metadata": {},
   "outputs": [
    {
     "data": {
      "text/plain": [
       "array([1. , 2. , 3.5, 0.2, 1. ])"
      ]
     },
     "execution_count": 12,
     "metadata": {},
     "output_type": "execute_result"
    }
   ],
   "source": [
    "np.array( [1.0, 2, 3.5, 0.2, True] )"
   ]
  },
  {
   "cell_type": "code",
   "execution_count": 16,
   "id": "8bf41147-5171-4898-bf9a-740348b5ad36",
   "metadata": {},
   "outputs": [],
   "source": [
    "array_1 = [1,2,3,5,4,6,7,8,5,3,2]"
   ]
  },
  {
   "cell_type": "code",
   "execution_count": 17,
   "id": "6e98c21d-d98c-485b-8cda-d2304ccc4333",
   "metadata": {},
   "outputs": [
    {
     "name": "stdout",
     "output_type": "stream",
     "text": [
      "[1, 2, 3]\n"
     ]
    }
   ],
   "source": [
    "print(array_1[:3])"
   ]
  },
  {
   "cell_type": "code",
   "execution_count": 18,
   "id": "e8f23b83-2d64-42e3-abba-95d3b6686838",
   "metadata": {},
   "outputs": [
    {
     "name": "stdout",
     "output_type": "stream",
     "text": [
      "[3, 5, 4, 6, 7, 8]\n"
     ]
    }
   ],
   "source": [
    "print(array_1[2:-3])"
   ]
  },
  {
   "cell_type": "code",
   "execution_count": 19,
   "id": "ab903a80-2780-4056-b08b-aa904dd666c4",
   "metadata": {},
   "outputs": [
    {
     "name": "stdout",
     "output_type": "stream",
     "text": [
      "[2, 5, 7, 4, 3, 1]\n"
     ]
    }
   ],
   "source": [
    "print(array_1[ : : -2])"
   ]
  },
  {
   "cell_type": "markdown",
   "id": "516c4043-8ca7-4d99-a6b4-1e625106f00c",
   "metadata": {},
   "source": [
    "### Extracting Elements from Array\n",
    "Description\n",
    "From a given array, extract all the elements which are greater than 'm' and less than 'n'. Note: 'm' and 'n' are integer values provided as input.\n",
    "\n",
    "\n",
    "\n",
    "Input format:\n",
    "\n",
    "A list of integers on line one\n",
    "\n",
    "Integer 'm' on line two\n",
    "\n",
    "Integer 'n' on line three\n",
    "\n",
    "\n",
    "\n",
    "Output format:\n",
    "\n",
    "1-D array containing integers greater than 'm' and smaller than 'n'.\n",
    "\n",
    "\n",
    "\n",
    "\n",
    "\n",
    "Sample input:\n",
    "\n",
    "[ 1, 5, 9, 12, 15, 7, 12, 9 ] (array)\n",
    "\n",
    "6 (m)\n",
    "\n",
    "12 (n)\n",
    "\n",
    "\n",
    "\n",
    "Sample output:\n",
    "\n",
    "[ 9 7 9 ]\n",
    "\n",
    "\n",
    "\n",
    "\n",
    "\n",
    "Sample input:\n",
    "\n",
    "[ 1, 5, 9, 12, 15, 7, 12, 9 ]\n",
    "\n",
    "12\n",
    "\n",
    "6\n",
    "\n",
    "\n",
    "\n",
    "Sample output:\n",
    "\n",
    "[ ]\n",
    "\n",
    "Execution Time Limit"
   ]
  },
  {
   "cell_type": "code",
   "execution_count": null,
   "id": "bf68d708-ca15-4d64-bc91-344e7e7f130a",
   "metadata": {},
   "outputs": [],
   "source": [
    "#take input here\n",
    "import ast \n",
    "input_list=ast.literal_eval(input())\n",
    "m=int(input())\n",
    "n=int(input())\n",
    "\n",
    "import numpy as np\n",
    "array_1 = np.array(input_list)\n",
    "final_array = array_1[(array_1 > m) & (array_1 < n)] #start writing your code from here\n",
    "\n",
    "print(final_array)\n",
    "\n"
   ]
  },
  {
   "cell_type": "code",
   "execution_count": 20,
   "id": "1adbfb5b-ceec-47c8-9cfb-4d4c3274b7a9",
   "metadata": {},
   "outputs": [],
   "source": [
    "number = [8, 9, 9, 1, 6, 9, 5, 7, 3, 9, 7, 3, 4, 8, 3, 5, 8, 4, 8, 7, 5, 7, 3, 6, 1, 2, 7, 4, 7, 7, 8, 4, 3, 4, 2, 2, 2, 7, 3, 5, 6, 1, 1, 3, 2, 1, 1, 7, 7, 1, 4, 4, 5, 6, 1, 2, 7, 4, 5, 8, 1, 4, 8, 6, 2, 4, 3, 7, 3, 6, 2, 3, 3, 3, 2, 4, 6, 8, 9, 3, 9, 3, 1, 8, 6, 6, 3, 3, 9, 4, 6, 4, 9, 6, 7, 1, 2, 8, 7, 8, 1, 4]\n",
    "price = [195, 225, 150, 150, 90, 60, 75, 255, 270, 225, 135, 195, 30, 15, 210, 105, 15, 30, 180, 60, 165, 60, 45, 225, 180, 90, 30, 210, 150, 15, 270, 60, 210, 180, 60, 225, 150, 150, 120, 195, 75, 240, 60, 45, 30, 180, 240, 285, 135, 165, 180, 240, 60, 105, 165, 240, 120, 45, 120, 165, 285, 225, 90, 105, 225, 45, 45, 45, 75, 180, 90, 240, 30, 30, 60, 135, 180, 15, 255, 180, 270, 135, 105, 135, 210, 180, 135, 195, 225, 75, 225, 15, 240, 60, 15, 180, 255, 90, 15, 150, 230, 150]"
   ]
  },
  {
   "cell_type": "code",
   "execution_count": 25,
   "id": "b93b7288-71fa-48c4-a794-5d42467dd754",
   "metadata": {},
   "outputs": [],
   "source": [
    "n = np.array(number)"
   ]
  },
  {
   "cell_type": "code",
   "execution_count": 26,
   "id": "f4582cc3-feb8-49d7-9166-7dafa33f0752",
   "metadata": {},
   "outputs": [
    {
     "data": {
      "text/plain": [
       "102"
      ]
     },
     "execution_count": 26,
     "metadata": {},
     "output_type": "execute_result"
    }
   ],
   "source": [
    "n.size"
   ]
  },
  {
   "cell_type": "code",
   "execution_count": 27,
   "id": "ce94f419-74c6-4158-a878-c9a0e5cd6806",
   "metadata": {},
   "outputs": [
    {
     "data": {
      "text/plain": [
       "490"
      ]
     },
     "execution_count": 27,
     "metadata": {},
     "output_type": "execute_result"
    }
   ],
   "source": [
    "sum(number)"
   ]
  },
  {
   "cell_type": "code",
   "execution_count": 29,
   "id": "9abfd190-3ab5-439a-a2f1-668721a5b068",
   "metadata": {},
   "outputs": [],
   "source": [
    "p = np.array(price)"
   ]
  },
  {
   "cell_type": "code",
   "execution_count": 30,
   "id": "df16df6c-b93e-4bd7-b5a8-392e07ebbb18",
   "metadata": {},
   "outputs": [
    {
     "data": {
      "text/plain": [
       "139.01960784313727"
      ]
     },
     "execution_count": 30,
     "metadata": {},
     "output_type": "execute_result"
    }
   ],
   "source": [
    "p.mean()"
   ]
  },
  {
   "cell_type": "code",
   "execution_count": 31,
   "id": "cb50cb8d-66dd-4237-967c-d6efb796586a",
   "metadata": {},
   "outputs": [
    {
     "data": {
      "text/plain": [
       "285"
      ]
     },
     "execution_count": 31,
     "metadata": {},
     "output_type": "execute_result"
    }
   ],
   "source": [
    "p.max()"
   ]
  },
  {
   "cell_type": "code",
   "execution_count": 32,
   "id": "4bac5895-1102-4c55-9ba9-eff42f7d3451",
   "metadata": {},
   "outputs": [
    {
     "data": {
      "text/plain": [
       "102"
      ]
     },
     "execution_count": 32,
     "metadata": {},
     "output_type": "execute_result"
    }
   ],
   "source": [
    "p.size"
   ]
  },
  {
   "cell_type": "code",
   "execution_count": 33,
   "id": "d0e6c31e-0aa5-40c0-b4a6-cd10235e593a",
   "metadata": {},
   "outputs": [],
   "source": [
    "x = p * n"
   ]
  },
  {
   "cell_type": "code",
   "execution_count": 34,
   "id": "25b69ed0-b526-43c7-9932-c28bf9cdc32c",
   "metadata": {},
   "outputs": [
    {
     "data": {
      "text/plain": [
       "array([1560, 2025, 1350,  150,  540,  540,  375, 1785,  810, 2025,  945,\n",
       "        585,  120,  120,  630,  525,  120,  120, 1440,  420,  825,  420,\n",
       "        135, 1350,  180,  180,  210,  840, 1050,  105, 2160,  240,  630,\n",
       "        720,  120,  450,  300, 1050,  360,  975,  450,  240,   60,  135,\n",
       "         60,  180,  240, 1995,  945,  165,  720,  960,  300,  630,  165,\n",
       "        480,  840,  180,  600, 1320,  285,  900,  720,  630,  450,  180,\n",
       "        135,  315,  225, 1080,  180,  720,   90,   90,  120,  540, 1080,\n",
       "        120, 2295,  540, 2430,  405,  105, 1080, 1260, 1080,  405,  585,\n",
       "       2025,  300, 1350,   60, 2160,  360,  105,  180,  510,  720,  105,\n",
       "       1200,  230,  600])"
      ]
     },
     "execution_count": 34,
     "metadata": {},
     "output_type": "execute_result"
    }
   ],
   "source": [
    "x"
   ]
  },
  {
   "cell_type": "code",
   "execution_count": 35,
   "id": "b47fbd6a-542c-487a-bea3-586d3ac5b434",
   "metadata": {},
   "outputs": [
    {
     "data": {
      "text/plain": [
       "67100"
      ]
     },
     "execution_count": 35,
     "metadata": {},
     "output_type": "execute_result"
    }
   ],
   "source": [
    "x.sum()"
   ]
  },
  {
   "cell_type": "code",
   "execution_count": 37,
   "id": "75c7ece5-366a-4c11-adc7-ba89657ea469",
   "metadata": {},
   "outputs": [
    {
     "data": {
      "text/plain": [
       "7"
      ]
     },
     "execution_count": 37,
     "metadata": {},
     "output_type": "execute_result"
    }
   ],
   "source": [
    "n[19]"
   ]
  },
  {
   "cell_type": "code",
   "execution_count": 39,
   "id": "c477a823-526d-4f18-bd10-823df4a9334b",
   "metadata": {},
   "outputs": [
    {
     "data": {
      "text/plain": [
       "1"
      ]
     },
     "execution_count": 39,
     "metadata": {},
     "output_type": "execute_result"
    }
   ],
   "source": [
    "n[49]"
   ]
  },
  {
   "cell_type": "code",
   "execution_count": 40,
   "id": "d2fd01e2-fcc7-48e3-841a-492f1dd5ae78",
   "metadata": {},
   "outputs": [
    {
     "data": {
      "text/plain": [
       "139.01960784313727"
      ]
     },
     "execution_count": 40,
     "metadata": {},
     "output_type": "execute_result"
    }
   ],
   "source": [
    "p.mean()"
   ]
  },
  {
   "cell_type": "code",
   "execution_count": 43,
   "id": "2f21b7b4-4222-4695-8209-75153c30704e",
   "metadata": {},
   "outputs": [
    {
     "name": "stdout",
     "output_type": "stream",
     "text": [
      "[195, 225, 150, 150, 255, 270, 225, 195, 210, 180, 165, 225, 180, 210, 150, 270, 210, 180, 225, 150, 150, 195, 240, 180, 240, 285, 165, 180, 240, 165, 240, 165, 285, 225, 225, 180, 240, 180, 255, 180, 270, 210, 180, 195, 225, 225, 240, 180, 255, 150, 230, 150]\n"
     ]
    }
   ],
   "source": [
    "price = [195, 225, 150, 150, 90, 60, 75, 255, 270, 225, 135, 195, 30, 15, 210, 105, 15, 30, 180, 60, 165, 60, 45, 225, 180, 90, 30, 210, 150, 15, 270, 60, 210, 180, 60, 225, 150, 150, 120, 195, 75, 240, 60, 45, 30, 180, 240, 285, 135, 165, 180, 240, 60, 105, 165, 240, 120, 45, 120, 165, 285, 225, 90, 105, 225, 45, 45, 45, 75, 180, 90, 240, 30, 30, 60, 135, 180, 15, 255, 180, 270, 135, 105, 135, 210, 180, 135, 195, 225, 75, 225, 15, 240, 60, 15, 180, 255, 90, 15, 150, 230, 150]\n",
    "\n",
    "\n",
    "average_price = sum(price) / len(price)\n",
    "\n",
    "expensive_products = [p for p in price if p > average_price]\n",
    "\n",
    "print(expensive_products)\n"
   ]
  },
  {
   "cell_type": "code",
   "execution_count": 47,
   "id": "58fd36d1-23ea-4170-abc1-a94cc8a9cefb",
   "metadata": {},
   "outputs": [
    {
     "data": {
      "text/plain": [
       "52"
      ]
     },
     "execution_count": 47,
     "metadata": {},
     "output_type": "execute_result"
    }
   ],
   "source": [
    "len(expensive_products)\n"
   ]
  },
  {
   "cell_type": "code",
   "execution_count": null,
   "id": "00111e97-aafc-439d-aaec-629543abf909",
   "metadata": {},
   "outputs": [],
   "source": []
  }
 ],
 "metadata": {
  "kernelspec": {
   "display_name": "Python 3 (ipykernel)",
   "language": "python",
   "name": "python3"
  },
  "language_info": {
   "codemirror_mode": {
    "name": "ipython",
    "version": 3
   },
   "file_extension": ".py",
   "mimetype": "text/x-python",
   "name": "python",
   "nbconvert_exporter": "python",
   "pygments_lexer": "ipython3",
   "version": "3.11.7"
  }
 },
 "nbformat": 4,
 "nbformat_minor": 5
}
